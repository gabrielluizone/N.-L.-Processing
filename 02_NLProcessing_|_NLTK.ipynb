{
  "nbformat": 4,
  "nbformat_minor": 0,
  "metadata": {
    "colab": {
      "provenance": [],
      "authorship_tag": "ABX9TyMJUe35oswXR0HDl7OIqTwP",
      "include_colab_link": true
    },
    "kernelspec": {
      "name": "python3",
      "display_name": "Python 3"
    },
    "language_info": {
      "name": "python"
    }
  },
  "cells": [
    {
      "cell_type": "markdown",
      "metadata": {
        "id": "view-in-github",
        "colab_type": "text"
      },
      "source": [
        "<a href=\"https://colab.research.google.com/github/gabrielluizone/NLProcessing/blob/main/02_NLProcessing_%7C_NLTK.ipynb\" target=\"_parent\"><img src=\"https://colab.research.google.com/assets/colab-badge.svg\" alt=\"Open In Colab\"/></a>"
      ]
    },
    {
      "cell_type": "markdown",
      "source": [
        "<div class=\"markdown-google-sans\">\n",
        "\n",
        "## **02** | NLProcessing `NLTK`\n",
        "> 23 Feb. 2024\n",
        "\n",
        "</div>"
      ],
      "metadata": {
        "id": "a6etcIHKGhY2"
      }
    },
    {
      "cell_type": "code",
      "source": [
        "!pip install --upgrade nltk\n",
        "import nltk"
      ],
      "metadata": {
        "colab": {
          "base_uri": "https://localhost:8080/"
        },
        "id": "csGuut8JGhz5",
        "outputId": "a2b380ec-25f9-4642-ca21-f0364163add3"
      },
      "execution_count": 52,
      "outputs": [
        {
          "output_type": "stream",
          "name": "stdout",
          "text": [
            "Requirement already satisfied: nltk in /usr/local/lib/python3.10/dist-packages (3.8.1)\n",
            "Requirement already satisfied: click in /usr/local/lib/python3.10/dist-packages (from nltk) (8.1.7)\n",
            "Requirement already satisfied: joblib in /usr/local/lib/python3.10/dist-packages (from nltk) (1.3.2)\n",
            "Requirement already satisfied: regex>=2021.8.3 in /usr/local/lib/python3.10/dist-packages (from nltk) (2023.12.25)\n",
            "Requirement already satisfied: tqdm in /usr/local/lib/python3.10/dist-packages (from nltk) (4.66.2)\n"
          ]
        }
      ]
    },
    {
      "cell_type": "code",
      "source": [
        "nltk.download() # d, l, enter, all, q"
      ],
      "metadata": {
        "id": "Tu59sm48G5Yd"
      },
      "execution_count": null,
      "outputs": []
    },
    {
      "cell_type": "markdown",
      "source": [
        "### Visualizar Métodos\n",
        "> Veja as palavras e sentenças dentro do `mac_morpho`"
      ],
      "metadata": {
        "id": "QVPTrOGZIC5N"
      }
    },
    {
      "cell_type": "code",
      "source": [
        "dir(nltk.corpus.mac_morpho)"
      ],
      "metadata": {
        "id": "2FERLVdsHps_"
      },
      "execution_count": null,
      "outputs": []
    },
    {
      "cell_type": "code",
      "source": [
        "nltk.corpus.mac_morpho.words()"
      ],
      "metadata": {
        "colab": {
          "base_uri": "https://localhost:8080/"
        },
        "id": "_fIJQVJhIcwJ",
        "outputId": "fa6bc98a-6459-4139-833d-fc10dad07aac"
      },
      "execution_count": 10,
      "outputs": [
        {
          "output_type": "execute_result",
          "data": {
            "text/plain": [
              "['Jersei', 'atinge', 'média', 'de', 'Cr$', '1,4', ...]"
            ]
          },
          "metadata": {},
          "execution_count": 10
        }
      ]
    },
    {
      "cell_type": "code",
      "source": [
        "nltk.corpus.mac_morpho.sents()"
      ],
      "metadata": {
        "colab": {
          "base_uri": "https://localhost:8080/"
        },
        "id": "MCra4Ho4I6ha",
        "outputId": "885adc9b-068c-4747-f3b5-3cc2b54ea988"
      },
      "execution_count": 9,
      "outputs": [
        {
          "output_type": "execute_result",
          "data": {
            "text/plain": [
              "[['Jersei', 'atinge', 'média', 'de', 'Cr$', '1,4', 'milhão', 'em', 'a', 'venda', 'de', 'a', 'Pinhal', 'em', 'São', 'Paulo'], ['Programe', 'sua', 'viagem', 'a', 'a', 'Exposição', 'Nacional', 'do', 'Zebu', ',', 'que', 'começa', 'dia', '25'], ...]"
            ]
          },
          "metadata": {},
          "execution_count": 9
        }
      ]
    },
    {
      "cell_type": "code",
      "source": [
        "nltk.corpus.mac_morpho.tagged_sents()"
      ],
      "metadata": {
        "colab": {
          "base_uri": "https://localhost:8080/"
        },
        "id": "gsmcfFqPJkk4",
        "outputId": "4fa8f718-034e-495f-dd8f-24d415a3b92d"
      },
      "execution_count": 14,
      "outputs": [
        {
          "output_type": "execute_result",
          "data": {
            "text/plain": [
              "[[('Jersei', 'N'), ('atinge', 'V'), ('média', 'N'), ('de', 'PREP'), ('Cr$', 'CUR'), ('1,4', 'NUM'), ('milhão', 'N'), ('em', 'PREP|+'), ('a', 'ART'), ('venda', 'N'), ('de', 'PREP|+'), ('a', 'ART'), ('Pinhal', 'NPROP'), ('em', 'PREP'), ('São', 'NPROP'), ('Paulo', 'NPROP')], [('Programe', 'V'), ('sua', 'PROADJ'), ('viagem', 'N'), ('a', 'PREP|+'), ('a', 'ART'), ('Exposição', 'NPROP'), ('Nacional', 'NPROP'), ('do', 'NPROP'), ('Zebu', 'NPROP'), (',', ','), ('que', 'PRO-KS-REL'), ('começa', 'V'), ('dia', 'N'), ('25', 'N|AP')], ...]"
            ]
          },
          "metadata": {},
          "execution_count": 14
        }
      ]
    },
    {
      "cell_type": "code",
      "source": [
        "'Hoje é sexta e tenho aula de PLN e cheguei atrasado'.split()"
      ],
      "metadata": {
        "colab": {
          "base_uri": "https://localhost:8080/"
        },
        "id": "dE9kjXdeKivZ",
        "outputId": "be994953-c389-42b6-be8d-7deeda7141f8"
      },
      "execution_count": 17,
      "outputs": [
        {
          "output_type": "execute_result",
          "data": {
            "text/plain": [
              "['Hoje',\n",
              " 'é',\n",
              " 'sexta',\n",
              " 'e',\n",
              " 'tenho',\n",
              " 'aula',\n",
              " 'de',\n",
              " 'PLN',\n",
              " 'e',\n",
              " 'cheguei',\n",
              " 'atrasado']"
            ]
          },
          "metadata": {},
          "execution_count": 17
        }
      ]
    },
    {
      "cell_type": "markdown",
      "source": [
        "## **Start**\n",
        "- `\\w+` Representação de tudo que é textual, underscore\n",
        "- `[A-z]\\w*` Considera os nulos e só os caracteres"
      ],
      "metadata": {
        "id": "m48rqyd2M9JG"
      }
    },
    {
      "cell_type": "code",
      "source": [
        "text = 'Recentemente (2024), o Google suspendeu um recurso importante de seu conjunto de inteligência artificial, o Gemini. A decisão do Google de pausar a geração de imagens de pessoas ocorre no momento em que a gigante da tecnologia aborda questões sobre a precisão do modelo em representar a diversidade. Gemini, conhecido por suas capacidades avançadas de IA, encontrou críticas em relação à representação de indivíduos de diversas origens.'"
      ],
      "metadata": {
        "id": "pOaa9RgfMbjs"
      },
      "execution_count": 48,
      "outputs": []
    },
    {
      "cell_type": "code",
      "source": [
        "from nltk.tokenize import RegexpTokenizer\n",
        "tokenizer = RegexpTokenizer(r'\\w+')\n",
        "\n",
        "# Para desconsiderar tokens sem acentuações e numerais\n",
        "tokenizer = RegexpTokenizer(r'[A-z]\\w*')\n",
        "tokens = tokenizer.tokenize(text)\n",
        "tokens[:9]"
      ],
      "metadata": {
        "colab": {
          "base_uri": "https://localhost:8080/"
        },
        "id": "a_ALg7l5M-bV",
        "outputId": "d58f814e-e95b-47c3-854e-4f65ca6071c9"
      },
      "execution_count": 51,
      "outputs": [
        {
          "output_type": "execute_result",
          "data": {
            "text/plain": [
              "['Recentemente',\n",
              " 'o',\n",
              " 'Google',\n",
              " 'suspendeu',\n",
              " 'um',\n",
              " 'recurso',\n",
              " 'importante',\n",
              " 'de',\n",
              " 'seu']"
            ]
          },
          "metadata": {},
          "execution_count": 51
        }
      ]
    },
    {
      "cell_type": "markdown",
      "source": [
        "> Frequência de Tokens"
      ],
      "metadata": {
        "id": "4ttZee83P_hE"
      }
    },
    {
      "cell_type": "code",
      "source": [
        "text2 = 'RIO DE JANEIRO E SÃO PAULO, None (FOLHAPRESS) - O Brasil ainda tem o equivalente a 49 milhões de habitantes sem atendimento adequado de esgotamento sanitário e 4,8 milhões de pessoas sem água encanada, apesar do crescimento desses serviços nas últimas décadas. É o que apontam novos dados do Censo Demográfico 2022 divulgados nesta sexta-feira (23) pelo IBGE (Instituto Brasileiro de Geografia e Estatística). No caso do esgotamento sanitário, 62,5% da população vivia em domicílios conectados à rede de coleta em 2022. Outros 13,2% estavam em endereços que usavam fossa séptica ou fossa-filtro como solução individual. De acordo com o IBGE, as duas categorias são consideradas adequadas pelo Plansab (Plano Nacional de Saneamento Básico). Expand article logo  Continuar lendo Assim, a população atendida por rede de esgoto ou fossa séptica chegou a 75,7%, na soma, em 2022 o equivalente a 153,1 milhões de pessoas. O percentual subiu em relação aos recenseamentos anteriores era de 64,5% em 2010 e de 59,2% em 2000. Apesar da alta, o país ainda registrou, em 2022, o equivalente a 24,3% da população em domicílios com opções de esgotamento sanitário \"mais precárias\", incluindo fossa rudimentar ou buraco, vala, rio, lago, córrego ou mar, diz o IBGE.'"
      ],
      "metadata": {
        "id": "Pf7QjEpQOlIp"
      },
      "execution_count": 36,
      "outputs": []
    },
    {
      "cell_type": "code",
      "source": [
        "tokens = nltk.word_tokenize(text2)\n",
        "freq = nltk.FreqDist(tokens)\n",
        "\n",
        "freq.most_common()[:6]"
      ],
      "metadata": {
        "colab": {
          "base_uri": "https://localhost:8080/"
        },
        "id": "92y1syWEQjwf",
        "outputId": "0441b1c4-3826-49d5-aba9-bb29d6202de6"
      },
      "execution_count": 42,
      "outputs": [
        {
          "output_type": "execute_result",
          "data": {
            "text/plain": [
              "[(',', 16), ('de', 11), ('em', 9), ('.', 8), ('o', 6), ('%', 6)]"
            ]
          },
          "metadata": {},
          "execution_count": 42
        }
      ]
    },
    {
      "cell_type": "markdown",
      "source": [
        "> Excluindo pontuação"
      ],
      "metadata": {
        "id": "5mC_Yj4GRjk-"
      }
    },
    {
      "cell_type": "code",
      "source": [
        "tokenizer = RegexpTokenizer(r'[A-z]\\w*')\n",
        "tokens = tokenizer.tokenize(text2)\n",
        "\n",
        "freq = nltk.FreqDist(tokens)\n",
        "freq.most_common()[:6]"
      ],
      "metadata": {
        "colab": {
          "base_uri": "https://localhost:8080/"
        },
        "id": "hTmaMKJgRekM",
        "outputId": "6dbe013f-29b3-4173-9120-e8551f4f4d9e"
      },
      "execution_count": 44,
      "outputs": [
        {
          "output_type": "execute_result",
          "data": {
            "text/plain": [
              "[('de', 11), ('em', 9), ('o', 7), ('a', 5), ('fossa', 4), ('ou', 4)]"
            ]
          },
          "metadata": {},
          "execution_count": 44
        }
      ]
    },
    {
      "cell_type": "markdown",
      "source": [
        "### Corpus\n",
        "- `R` : Read\n",
        "- `W` : Writye\n",
        "- `X` : Execute"
      ],
      "metadata": {
        "id": "lxDDhA9aXMTJ"
      }
    },
    {
      "cell_type": "code",
      "source": [
        "ct = open('/content/corpus_teste.txt').read()\n",
        "ct"
      ],
      "metadata": {
        "colab": {
          "base_uri": "https://localhost:8080/",
          "height": 174
        },
        "id": "G8M-XSGkXOgh",
        "outputId": "6b35e2ca-ac4f-4332-ce08-e1b5870cc6a2"
      },
      "execution_count": 58,
      "outputs": [
        {
          "output_type": "execute_result",
          "data": {
            "text/plain": [
              "'Giants batem os Patriots no Super Bowl XLII\\nAzarões acabam com a invencibilidade de New England e ficam com o título da temporada\\n04/02/2008 - 01h07m - Atualizado em 04/02/2008 - 09h49m\\n\\nCom um passe de Eli Manning para Plaxico Burress a 39 segundos do fim, o New York Giants anotou o touchdown decisivo e derrubou o favorito New England Patriots por 17 a 14 neste domingo, em Glendale, no Super Bowl XLII. O resultado, uma das maiores zebras da história do Super Bowl, acabou com a temporada perfeita de Tom Brady e companhia, que esperavam fazer história ao levantar o troféu da NFL sem sofrer uma derrota no ano. \\n\\nA vitória dos Giants, porém, também ficará para a história. Pela primeira vez, irmãos quarterbacks triunfam no Super Bowl em temporadas consecutivas. No ano passado, Peyton Manning, irmão de Eli, chegou ao título máximo da NFL pelo Indianapolis Colts.\\n\\nA partida\\n\\nOs Giants começaram com a posse de bola, e mostraram logo que iriam alongar ao máximo suas posses de bola. Misturando corridas com Brandon Jacobs e passes curtos, o time de Nova York chegou à red zone logo na primeira campanha. O avanço, no entanto, parou na linha de 17 jardas e Lawrence Tynes converteu o field goal de 32 jardas para abrir o placar.\\n\\nEli Manning e companhia ficaram 9m54s com a bola, mas o ataque dos Patriots não entrou em campo frio. Logo no retorno do kickoff, o running back Laurence Maroney avançou 43 jardas, deixando Tom Brady em boa posição. Com passes curtos, os Patriots chegaram à linha de 17 jardas e, graças a uma penalidade (interferência de passe) do linebacker Antonio Pierce, alcançaram a linha de uma jarda. Maroney avançou pelo chão e anotou o primeiro touchdown do jogo.\\n\\nOs Giants pareciam rumo à virada na campanha seguinte. Manning achou Amani Toomer para um avanço de 38 jardas, e o time de Nova York entrou novamente na red zone. Com a bola na linha de 14 jardas dos Patriots, os Giants sofreram um revés. Manning passou para Steve Smith, que soltou a bola. Ellis Hobbs aproveitou, tomou a posse para os Patriots, e avançou 23 jardas. \\n\\nA defesa de Nova York manteve o jogo equilibrado. Com dois sacks seguidos, os Giants forçaram o punt e recuperaram a bola. Mas a campanha seguinte provou ser outra decepção para Nova York. O time chegou à linha de 25 jardas, mas Manning sofreu um sack e cometeu um fumble, e o ataque voltou para a linha de 39 jardas, não conseguindo pontuar mais uma vez.\\n\\nOs Patriots tiveram uma última chance de marcar antes do intervalo, mas, a 22 segundos do fim do segundo período, Brady foi novamente sacado. Desta vez, ele cometeu o fumble e os Giants tomaram a posse de bola. Manning tentou um passe longo, de 50 jardas, nos últimos segundos, mas não teve sucesso. \\n\\nO jogo continuou amarrado no terceiro quarto, com as defesas levando a melhor sobre os ataques. A única chance de pontuar do período foi dos Patriots, que chegaram à linha de 31 jardas dos Giants. O técnico Bill Bellichick, porém, optou por uma quarta descida em vez de um field goal. Brady tentou um passe para Jabar Gaffney, mas não conseguiu completar.\\n\\nO último período começou arrasador para os Giants. na primeira jogada, Manning achou o tight end Kevin Boss, para um incrível avanço de 45 jardas, que deixou o time na linha de 35 dos Patriots. Outro lançamento, desta vez para Steve Smith, marcou o avanço até a linha de 12 jardas. Duas jogadas depois, David Tyree pegou um passe de cinco jardas na end zone para anotar o touchdown e virar o jogo.\\n\\nNa hora da decisão, o ataque dos Patriots voltou a funcionar. Com uma série de passes curtos e variados, Brady achou Wes Welker, Randy Moss e Kevin Faulk seguidas vezes até chegar à red zone. A 2m45s do fim, o quarterback conectou mais uma vez com Moss, que se desmarcou e ficou livre na lateral direita da end zone.\\n\\nQuando os fãs de New England já comemoravam a vitória, o inesperado aconteceu. Em uma jogada incrível, Eli Manning se soltou de dois marcadores que o seguravam pela camisa e, na corrida, lançou para Amani Toomer. O wide receiver, bem marcado, saltou e conseguiu a fazer recepção para um avanço de 32 jardas, deixando os Giants na linha de 24 de New England.\\n\\nQuatro jogadas depois, a 39 segundos do fim, Manning achou Plaxico Burress na end zone para conseguir o touchdown do título.'"
            ],
            "application/vnd.google.colaboratory.intrinsic+json": {
              "type": "string"
            }
          },
          "metadata": {},
          "execution_count": 58
        }
      ]
    },
    {
      "cell_type": "code",
      "source": [
        "from nltk.tokenize import RegexpTokenizer\n",
        "\n",
        "# Tokenizar e calcular a frequência de nosso corpus inteiro\n",
        "tokenizer = RegexpTokenizer(r'\\w+') # '[A-z]\\w*'\n",
        "\n",
        "tokens = tokenizer.tokenize(ct)\n",
        "tokens[:5]"
      ],
      "metadata": {
        "colab": {
          "base_uri": "https://localhost:8080/"
        },
        "id": "blI1wPAVXRrR",
        "outputId": "a7b1293e-27d1-47ad-c672-0dc68881776e"
      },
      "execution_count": 62,
      "outputs": [
        {
          "output_type": "execute_result",
          "data": {
            "text/plain": [
              "['Giants', 'batem', 'os', 'Patriots', 'no']"
            ]
          },
          "metadata": {},
          "execution_count": 62
        }
      ]
    },
    {
      "cell_type": "code",
      "source": [
        "nltk.FreqDist(tokens).most_common()[:7]"
      ],
      "metadata": {
        "colab": {
          "base_uri": "https://localhost:8080/"
        },
        "id": "_upQs8x4c2QQ",
        "outputId": "df93b1fd-c0bd-4512-9192-7aa1b32fc0e4"
      },
      "execution_count": 64,
      "outputs": [
        {
          "output_type": "execute_result",
          "data": {
            "text/plain": [
              "[('de', 34),\n",
              " ('o', 26),\n",
              " ('a', 23),\n",
              " ('e', 21),\n",
              " ('para', 16),\n",
              " ('jardas', 15),\n",
              " ('do', 12)]"
            ]
          },
          "metadata": {},
          "execution_count": 64
        }
      ]
    },
    {
      "cell_type": "code",
      "source": [
        "tokenizer = RegexpTokenizer(r'[A-z]\\w*')\n",
        "tokens = tokenizer.tokenize(ct)\n",
        "\n",
        "# Lista com tokens convertidos para maiusculo\n",
        "nv_lista = []\n",
        "\n",
        "for token in tokens: nv_lista.append(token)\n",
        "\n",
        "freq2 = nltk.FreqDist(nv_lista)\n",
        "freq2.most_common()[:7]"
      ],
      "metadata": {
        "colab": {
          "base_uri": "https://localhost:8080/"
        },
        "id": "T1CinZrOe9hI",
        "outputId": "e0f4827b-a249-41ff-f4e0-21da1df1f198"
      },
      "execution_count": 66,
      "outputs": [
        {
          "output_type": "execute_result",
          "data": {
            "text/plain": [
              "[('de', 34),\n",
              " ('o', 26),\n",
              " ('a', 23),\n",
              " ('e', 21),\n",
              " ('para', 16),\n",
              " ('jardas', 15),\n",
              " ('do', 12)]"
            ]
          },
          "metadata": {},
          "execution_count": 66
        }
      ]
    },
    {
      "cell_type": "markdown",
      "source": [
        "> Tokens não interessantes (**StopWords**)"
      ],
      "metadata": {
        "id": "LXTQzmF9ge8h"
      }
    },
    {
      "cell_type": "code",
      "source": [
        "# Acessando a lista de StopWords do NLTK para PT-BR\n",
        "stopwords = nltk.corpus.stopwords.words('portuguese')\n",
        "stopwords[:7]"
      ],
      "metadata": {
        "colab": {
          "base_uri": "https://localhost:8080/"
        },
        "id": "TEEoWV0Sgnmy",
        "outputId": "70585204-70db-4e6b-88b4-1da3ae23a0ab"
      },
      "execution_count": 71,
      "outputs": [
        {
          "output_type": "execute_result",
          "data": {
            "text/plain": [
              "['a', 'à', 'ao', 'aos', 'aquela', 'aquelas', 'aquele']"
            ]
          },
          "metadata": {},
          "execution_count": 71
        }
      ]
    },
    {
      "cell_type": "code",
      "source": [
        "tokenizer = RegexpTokenizer(r'[A-z]\\w*')\n",
        "tokens = tokenizer.tokenize(ct)\n",
        "\n",
        "# Lista com tokens convertidos para maiusculo\n",
        "nv_lista = []\n",
        "\n",
        "for token in tokens:\n",
        "  if token.lower() not in stopwords:\n",
        "    nv_lista.append(token.lower())\n",
        "\n",
        "freq2 = nltk.FreqDist(nv_lista)\n",
        "freq2.most_common()[:7]"
      ],
      "metadata": {
        "colab": {
          "base_uri": "https://localhost:8080/"
        },
        "id": "qbejoQTLigWw",
        "outputId": "c3cd3310-b47d-4079-f0f7-9fd34cbed1a2"
      },
      "execution_count": 77,
      "outputs": [
        {
          "output_type": "execute_result",
          "data": {
            "text/plain": [
              "[('jardas', 15),\n",
              " ('giants', 11),\n",
              " ('patriots', 10),\n",
              " ('manning', 10),\n",
              " ('linha', 10),\n",
              " ('bola', 7),\n",
              " ('vez', 6)]"
            ]
          },
          "metadata": {},
          "execution_count": 77
        }
      ]
    },
    {
      "cell_type": "code",
      "source": [
        "# Com ListCompreen..."
      ],
      "metadata": {
        "id": "79gJU5b5igJ7"
      },
      "execution_count": null,
      "outputs": []
    },
    {
      "cell_type": "code",
      "source": [
        "[token.lower() for token in tokens if token.lower() not in stopwords]"
      ],
      "metadata": {
        "colab": {
          "base_uri": "https://localhost:8080/"
        },
        "id": "GkHFm0QcjO-P",
        "outputId": "dd6aadc5-dfa3-4db3-b484-48a8b30b73b9"
      },
      "execution_count": 80,
      "outputs": [
        {
          "output_type": "execute_result",
          "data": {
            "text/plain": [
              "['giants',\n",
              " 'batem',\n",
              " 'patriots',\n",
              " 'super',\n",
              " 'bowl',\n",
              " 'xlii',\n",
              " 'azarões',\n",
              " 'acabam',\n",
              " 'invencibilidade',\n",
              " 'new',\n",
              " 'england',\n",
              " 'ficam',\n",
              " 'título',\n",
              " 'temporada',\n",
              " 'h07m',\n",
              " 'atualizado',\n",
              " 'h49m',\n",
              " 'passe',\n",
              " 'eli',\n",
              " 'manning',\n",
              " 'plaxico',\n",
              " 'burress',\n",
              " 'segundos',\n",
              " 'fim',\n",
              " 'new',\n",
              " 'york',\n",
              " 'giants',\n",
              " 'anotou',\n",
              " 'touchdown',\n",
              " 'decisivo',\n",
              " 'derrubou',\n",
              " 'favorito',\n",
              " 'new',\n",
              " 'england',\n",
              " 'patriots',\n",
              " 'neste',\n",
              " 'domingo',\n",
              " 'glendale',\n",
              " 'super',\n",
              " 'bowl',\n",
              " 'xlii',\n",
              " 'resultado',\n",
              " 'maiores',\n",
              " 'zebras',\n",
              " 'história',\n",
              " 'super',\n",
              " 'bowl',\n",
              " 'acabou',\n",
              " 'temporada',\n",
              " 'perfeita',\n",
              " 'tom',\n",
              " 'brady',\n",
              " 'companhia',\n",
              " 'esperavam',\n",
              " 'fazer',\n",
              " 'história',\n",
              " 'levantar',\n",
              " 'troféu',\n",
              " 'nfl',\n",
              " 'sofrer',\n",
              " 'derrota',\n",
              " 'ano',\n",
              " 'vitória',\n",
              " 'giants',\n",
              " 'porém',\n",
              " 'ficará',\n",
              " 'história',\n",
              " 'primeira',\n",
              " 'vez',\n",
              " 'irmãos',\n",
              " 'quarterbacks',\n",
              " 'triunfam',\n",
              " 'super',\n",
              " 'bowl',\n",
              " 'temporadas',\n",
              " 'consecutivas',\n",
              " 'ano',\n",
              " 'passado',\n",
              " 'peyton',\n",
              " 'manning',\n",
              " 'irmão',\n",
              " 'eli',\n",
              " 'chegou',\n",
              " 'título',\n",
              " 'máximo',\n",
              " 'nfl',\n",
              " 'indianapolis',\n",
              " 'colts',\n",
              " 'partida',\n",
              " 'giants',\n",
              " 'começaram',\n",
              " 'posse',\n",
              " 'bola',\n",
              " 'mostraram',\n",
              " 'logo',\n",
              " 'iriam',\n",
              " 'alongar',\n",
              " 'máximo',\n",
              " 'posses',\n",
              " 'bola',\n",
              " 'misturando',\n",
              " 'corridas',\n",
              " 'brandon',\n",
              " 'jacobs',\n",
              " 'passes',\n",
              " 'curtos',\n",
              " 'time',\n",
              " 'nova',\n",
              " 'york',\n",
              " 'chegou',\n",
              " 'red',\n",
              " 'zone',\n",
              " 'logo',\n",
              " 'primeira',\n",
              " 'campanha',\n",
              " 'avanço',\n",
              " 'entanto',\n",
              " 'parou',\n",
              " 'linha',\n",
              " 'jardas',\n",
              " 'lawrence',\n",
              " 'tynes',\n",
              " 'converteu',\n",
              " 'field',\n",
              " 'goal',\n",
              " 'jardas',\n",
              " 'abrir',\n",
              " 'placar',\n",
              " 'eli',\n",
              " 'manning',\n",
              " 'companhia',\n",
              " 'ficaram',\n",
              " 'm54s',\n",
              " 'bola',\n",
              " 'ataque',\n",
              " 'patriots',\n",
              " 'entrou',\n",
              " 'campo',\n",
              " 'frio',\n",
              " 'logo',\n",
              " 'retorno',\n",
              " 'kickoff',\n",
              " 'running',\n",
              " 'back',\n",
              " 'laurence',\n",
              " 'maroney',\n",
              " 'avançou',\n",
              " 'jardas',\n",
              " 'deixando',\n",
              " 'tom',\n",
              " 'brady',\n",
              " 'boa',\n",
              " 'posição',\n",
              " 'passes',\n",
              " 'curtos',\n",
              " 'patriots',\n",
              " 'chegaram',\n",
              " 'linha',\n",
              " 'jardas',\n",
              " 'graças',\n",
              " 'penalidade',\n",
              " 'interferência',\n",
              " 'passe',\n",
              " 'linebacker',\n",
              " 'antonio',\n",
              " 'pierce',\n",
              " 'alcançaram',\n",
              " 'linha',\n",
              " 'jarda',\n",
              " 'maroney',\n",
              " 'avançou',\n",
              " 'chão',\n",
              " 'anotou',\n",
              " 'primeiro',\n",
              " 'touchdown',\n",
              " 'jogo',\n",
              " 'giants',\n",
              " 'pareciam',\n",
              " 'rumo',\n",
              " 'virada',\n",
              " 'campanha',\n",
              " 'seguinte',\n",
              " 'manning',\n",
              " 'achou',\n",
              " 'amani',\n",
              " 'toomer',\n",
              " 'avanço',\n",
              " 'jardas',\n",
              " 'time',\n",
              " 'nova',\n",
              " 'york',\n",
              " 'entrou',\n",
              " 'novamente',\n",
              " 'red',\n",
              " 'zone',\n",
              " 'bola',\n",
              " 'linha',\n",
              " 'jardas',\n",
              " 'patriots',\n",
              " 'giants',\n",
              " 'sofreram',\n",
              " 'revés',\n",
              " 'manning',\n",
              " 'passou',\n",
              " 'steve',\n",
              " 'smith',\n",
              " 'soltou',\n",
              " 'bola',\n",
              " 'ellis',\n",
              " 'hobbs',\n",
              " 'aproveitou',\n",
              " 'tomou',\n",
              " 'posse',\n",
              " 'patriots',\n",
              " 'avançou',\n",
              " 'jardas',\n",
              " 'defesa',\n",
              " 'nova',\n",
              " 'york',\n",
              " 'manteve',\n",
              " 'jogo',\n",
              " 'equilibrado',\n",
              " 'dois',\n",
              " 'sacks',\n",
              " 'seguidos',\n",
              " 'giants',\n",
              " 'forçaram',\n",
              " 'punt',\n",
              " 'recuperaram',\n",
              " 'bola',\n",
              " 'campanha',\n",
              " 'seguinte',\n",
              " 'provou',\n",
              " 'outra',\n",
              " 'decepção',\n",
              " 'nova',\n",
              " 'york',\n",
              " 'time',\n",
              " 'chegou',\n",
              " 'linha',\n",
              " 'jardas',\n",
              " 'manning',\n",
              " 'sofreu',\n",
              " 'sack',\n",
              " 'cometeu',\n",
              " 'fumble',\n",
              " 'ataque',\n",
              " 'voltou',\n",
              " 'linha',\n",
              " 'jardas',\n",
              " 'conseguindo',\n",
              " 'pontuar',\n",
              " 'vez',\n",
              " 'patriots',\n",
              " 'ltima',\n",
              " 'chance',\n",
              " 'marcar',\n",
              " 'antes',\n",
              " 'intervalo',\n",
              " 'segundos',\n",
              " 'fim',\n",
              " 'segundo',\n",
              " 'período',\n",
              " 'brady',\n",
              " 'novamente',\n",
              " 'sacado',\n",
              " 'desta',\n",
              " 'vez',\n",
              " 'cometeu',\n",
              " 'fumble',\n",
              " 'giants',\n",
              " 'tomaram',\n",
              " 'posse',\n",
              " 'bola',\n",
              " 'manning',\n",
              " 'tentou',\n",
              " 'passe',\n",
              " 'longo',\n",
              " 'jardas',\n",
              " 'ltimos',\n",
              " 'segundos',\n",
              " 'sucesso',\n",
              " 'jogo',\n",
              " 'continuou',\n",
              " 'amarrado',\n",
              " 'terceiro',\n",
              " 'quarto',\n",
              " 'defesas',\n",
              " 'levando',\n",
              " 'melhor',\n",
              " 'sobre',\n",
              " 'ataques',\n",
              " 'nica',\n",
              " 'chance',\n",
              " 'pontuar',\n",
              " 'período',\n",
              " 'patriots',\n",
              " 'chegaram',\n",
              " 'linha',\n",
              " 'jardas',\n",
              " 'giants',\n",
              " 'técnico',\n",
              " 'bill',\n",
              " 'bellichick',\n",
              " 'porém',\n",
              " 'optou',\n",
              " 'quarta',\n",
              " 'descida',\n",
              " 'vez',\n",
              " 'field',\n",
              " 'goal',\n",
              " 'brady',\n",
              " 'tentou',\n",
              " 'passe',\n",
              " 'jabar',\n",
              " 'gaffney',\n",
              " 'conseguiu',\n",
              " 'completar',\n",
              " 'ltimo',\n",
              " 'período',\n",
              " 'começou',\n",
              " 'arrasador',\n",
              " 'giants',\n",
              " 'primeira',\n",
              " 'jogada',\n",
              " 'manning',\n",
              " 'achou',\n",
              " 'tight',\n",
              " 'end',\n",
              " 'kevin',\n",
              " 'boss',\n",
              " 'incrível',\n",
              " 'avanço',\n",
              " 'jardas',\n",
              " 'deixou',\n",
              " 'time',\n",
              " 'linha',\n",
              " 'patriots',\n",
              " 'outro',\n",
              " 'lançamento',\n",
              " 'desta',\n",
              " 'vez',\n",
              " 'steve',\n",
              " 'smith',\n",
              " 'marcou',\n",
              " 'avanço',\n",
              " 'linha',\n",
              " 'jardas',\n",
              " 'duas',\n",
              " 'jogadas',\n",
              " 'david',\n",
              " 'tyree',\n",
              " 'pegou',\n",
              " 'passe',\n",
              " 'cinco',\n",
              " 'jardas',\n",
              " 'end',\n",
              " 'zone',\n",
              " 'anotar',\n",
              " 'touchdown',\n",
              " 'virar',\n",
              " 'jogo',\n",
              " 'hora',\n",
              " 'decisão',\n",
              " 'ataque',\n",
              " 'patriots',\n",
              " 'voltou',\n",
              " 'funcionar',\n",
              " 'série',\n",
              " 'passes',\n",
              " 'curtos',\n",
              " 'variados',\n",
              " 'brady',\n",
              " 'achou',\n",
              " 'wes',\n",
              " 'welker',\n",
              " 'randy',\n",
              " 'moss',\n",
              " 'kevin',\n",
              " 'faulk',\n",
              " 'seguidas',\n",
              " 'vezes',\n",
              " 'chegar',\n",
              " 'red',\n",
              " 'zone',\n",
              " 'm45s',\n",
              " 'fim',\n",
              " 'quarterback',\n",
              " 'conectou',\n",
              " 'vez',\n",
              " 'moss',\n",
              " 'desmarcou',\n",
              " 'ficou',\n",
              " 'livre',\n",
              " 'lateral',\n",
              " 'direita',\n",
              " 'end',\n",
              " 'zone',\n",
              " 'fãs',\n",
              " 'new',\n",
              " 'england',\n",
              " 'comemoravam',\n",
              " 'vitória',\n",
              " 'inesperado',\n",
              " 'aconteceu',\n",
              " 'jogada',\n",
              " 'incrível',\n",
              " 'eli',\n",
              " 'manning',\n",
              " 'soltou',\n",
              " 'dois',\n",
              " 'marcadores',\n",
              " 'seguravam',\n",
              " 'camisa',\n",
              " 'corrida',\n",
              " 'lançou',\n",
              " 'amani',\n",
              " 'toomer',\n",
              " 'wide',\n",
              " 'receiver',\n",
              " 'bem',\n",
              " 'marcado',\n",
              " 'saltou',\n",
              " 'conseguiu',\n",
              " 'fazer',\n",
              " 'recepção',\n",
              " 'avanço',\n",
              " 'jardas',\n",
              " 'deixando',\n",
              " 'giants',\n",
              " 'linha',\n",
              " 'new',\n",
              " 'england',\n",
              " 'quatro',\n",
              " 'jogadas',\n",
              " 'segundos',\n",
              " 'fim',\n",
              " 'manning',\n",
              " 'achou',\n",
              " 'plaxico',\n",
              " 'burress',\n",
              " 'end',\n",
              " 'zone',\n",
              " 'conseguir',\n",
              " 'touchdown',\n",
              " 'título']"
            ]
          },
          "metadata": {},
          "execution_count": 80
        }
      ]
    }
  ]
}