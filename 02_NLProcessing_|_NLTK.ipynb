{
  "nbformat": 4,
  "nbformat_minor": 0,
  "metadata": {
    "colab": {
      "provenance": [],
      "authorship_tag": "ABX9TyNtbKj01KENNX/PSS9FvVcx",
      "include_colab_link": true
    },
    "kernelspec": {
      "name": "python3",
      "display_name": "Python 3"
    },
    "language_info": {
      "name": "python"
    }
  },
  "cells": [
    {
      "cell_type": "markdown",
      "metadata": {
        "id": "view-in-github",
        "colab_type": "text"
      },
      "source": [
        "<a href=\"https://colab.research.google.com/github/gabrielluizone/NLProcessing/blob/main/02_NLProcessing_%7C_NLTK.ipynb\" target=\"_parent\"><img src=\"https://colab.research.google.com/assets/colab-badge.svg\" alt=\"Open In Colab\"/></a>"
      ]
    },
    {
      "cell_type": "markdown",
      "source": [
        "<div class=\"markdown-google-sans\">\n",
        "\n",
        "## **02** | NLProcessing `NLTK`\n",
        "> 23 Feb. 2024\n",
        "\n",
        "</div>"
      ],
      "metadata": {
        "id": "a6etcIHKGhY2"
      }
    },
    {
      "cell_type": "code",
      "source": [
        "!pip install --upgrade nltk\n",
        "import nltk"
      ],
      "metadata": {
        "colab": {
          "base_uri": "https://localhost:8080/"
        },
        "id": "csGuut8JGhz5",
        "outputId": "d6162981-c001-41d3-aaea-0d89e8aa7e2c"
      },
      "execution_count": 1,
      "outputs": [
        {
          "output_type": "stream",
          "name": "stdout",
          "text": [
            "Requirement already satisfied: nltk in /usr/local/lib/python3.10/dist-packages (3.8.1)\n",
            "Requirement already satisfied: click in /usr/local/lib/python3.10/dist-packages (from nltk) (8.1.7)\n",
            "Requirement already satisfied: joblib in /usr/local/lib/python3.10/dist-packages (from nltk) (1.3.2)\n",
            "Requirement already satisfied: regex>=2021.8.3 in /usr/local/lib/python3.10/dist-packages (from nltk) (2023.12.25)\n",
            "Requirement already satisfied: tqdm in /usr/local/lib/python3.10/dist-packages (from nltk) (4.66.2)\n"
          ]
        }
      ]
    },
    {
      "cell_type": "code",
      "source": [
        "nltk.download() # Insira d, l, enter (4 vezes até apaercer opção 'all'), all, q"
      ],
      "metadata": {
        "id": "Tu59sm48G5Yd",
        "colab": {
          "base_uri": "https://localhost:8080/"
        },
        "outputId": "000f46ff-b80d-4b7a-d16c-8bf1af5943a1"
      },
      "execution_count": 3,
      "outputs": [
        {
          "name": "stdout",
          "output_type": "stream",
          "text": [
            "NLTK Downloader\n",
            "---------------------------------------------------------------------------\n",
            "    d) Download   l) List    u) Update   c) Config   h) Help   q) Quit\n",
            "---------------------------------------------------------------------------\n",
            "Downloader> d\n",
            "\n",
            "Download which package (l=list; x=cancel)?\n",
            "  Identifier> l\n",
            "Packages:\n",
            "  [ ] abc................. Australian Broadcasting Commission 2006\n",
            "  [ ] alpino.............. Alpino Dutch Treebank\n",
            "  [ ] averaged_perceptron_tagger Averaged Perceptron Tagger\n",
            "  [ ] averaged_perceptron_tagger_ru Averaged Perceptron Tagger (Russian)\n",
            "  [ ] basque_grammars..... Grammars for Basque\n",
            "  [ ] bcp47............... BCP-47 Language Tags\n",
            "  [ ] biocreative_ppi..... BioCreAtIvE (Critical Assessment of Information\n",
            "                           Extraction Systems in Biology)\n",
            "  [ ] bllip_wsj_no_aux.... BLLIP Parser: WSJ Model\n",
            "  [ ] book_grammars....... Grammars from NLTK Book\n",
            "  [ ] brown............... Brown Corpus\n",
            "  [ ] brown_tei........... Brown Corpus (TEI XML Version)\n",
            "  [ ] cess_cat............ CESS-CAT Treebank\n",
            "  [ ] cess_esp............ CESS-ESP Treebank\n",
            "  [ ] chat80.............. Chat-80 Data Files\n",
            "  [ ] city_database....... City Database\n",
            "  [ ] cmudict............. The Carnegie Mellon Pronouncing Dictionary (0.6)\n",
            "  [ ] comparative_sentences Comparative Sentence Dataset\n",
            "  [ ] comtrans............ ComTrans Corpus Sample\n",
            "  [ ] conll2000........... CONLL 2000 Chunking Corpus\n",
            "Hit Enter to continue: all\n",
            "  [ ] conll2002........... CONLL 2002 Named Entity Recognition Corpus\n",
            "  [ ] conll2007........... Dependency Treebanks from CoNLL 2007 (Catalan\n",
            "                           and Basque Subset)\n",
            "  [ ] crubadan............ Crubadan Corpus\n",
            "  [ ] dependency_treebank. Dependency Parsed Treebank\n",
            "  [ ] dolch............... Dolch Word List\n",
            "  [ ] europarl_raw........ Sample European Parliament Proceedings Parallel\n",
            "                           Corpus\n",
            "  [ ] extended_omw........ Extended Open Multilingual WordNet\n",
            "  [ ] floresta............ Portuguese Treebank\n",
            "  [ ] framenet_v15........ FrameNet 1.5\n",
            "  [ ] framenet_v17........ FrameNet 1.7\n",
            "  [ ] gazetteers.......... Gazeteer Lists\n",
            "  [ ] genesis............. Genesis Corpus\n",
            "  [ ] gutenberg........... Project Gutenberg Selections\n",
            "  [ ] ieer................ NIST IE-ER DATA SAMPLE\n",
            "  [ ] inaugural........... C-Span Inaugural Address Corpus\n",
            "  [ ] indian.............. Indian Language POS-Tagged Corpus\n",
            "  [ ] jeita............... JEITA Public Morphologically Tagged Corpus (in\n",
            "                           ChaSen format)\n",
            "  [ ] kimmo............... PC-KIMMO Data Files\n",
            "Hit Enter to continue: all\n",
            "  [ ] knbc................ KNB Corpus (Annotated blog corpus)\n",
            "  [ ] large_grammars...... Large context-free and feature-based grammars\n",
            "                           for parser comparison\n",
            "  [ ] lin_thesaurus....... Lin's Dependency Thesaurus\n",
            "  [ ] mac_morpho.......... MAC-MORPHO: Brazilian Portuguese news text with\n",
            "                           part-of-speech tags\n",
            "  [ ] machado............. Machado de Assis -- Obra Completa\n",
            "  [ ] masc_tagged......... MASC Tagged Corpus\n",
            "  [ ] maxent_ne_chunker... ACE Named Entity Chunker (Maximum entropy)\n",
            "  [ ] maxent_treebank_pos_tagger Treebank Part of Speech Tagger (Maximum entropy)\n",
            "  [ ] moses_sample........ Moses Sample Models\n",
            "  [ ] movie_reviews....... Sentiment Polarity Dataset Version 2.0\n",
            "  [ ] mte_teip5........... MULTEXT-East 1984 annotated corpus 4.0\n",
            "  [ ] mwa_ppdb............ The monolingual word aligner (Sultan et al.\n",
            "                           2015) subset of the Paraphrase Database.\n",
            "  [ ] names............... Names Corpus, Version 1.3 (1994-03-29)\n",
            "  [ ] nombank.1.0......... NomBank Corpus 1.0\n",
            "  [ ] nonbreaking_prefixes Non-Breaking Prefixes (Moses Decoder)\n",
            "  [ ] nps_chat............ NPS Chat\n",
            "  [ ] omw-1.4............. Open Multilingual Wordnet\n",
            "  [ ] omw................. Open Multilingual Wordnet\n",
            "Hit Enter to continue: \n",
            "  [ ] opinion_lexicon..... Opinion Lexicon\n",
            "  [ ] panlex_swadesh...... PanLex Swadesh Corpora\n",
            "  [ ] paradigms........... Paradigm Corpus\n",
            "  [ ] pe08................ Cross-Framework and Cross-Domain Parser\n",
            "                           Evaluation Shared Task\n",
            "  [ ] perluniprops........ perluniprops: Index of Unicode Version 7.0.0\n",
            "                           character properties in Perl\n",
            "  [ ] pil................. The Patient Information Leaflet (PIL) Corpus\n",
            "  [ ] pl196x.............. Polish language of the XX century sixties\n",
            "  [ ] porter_test......... Porter Stemmer Test Files\n",
            "  [ ] ppattach............ Prepositional Phrase Attachment Corpus\n",
            "  [ ] problem_reports..... Problem Report Corpus\n",
            "  [ ] product_reviews_1... Product Reviews (5 Products)\n",
            "  [ ] product_reviews_2... Product Reviews (9 Products)\n",
            "  [ ] propbank............ Proposition Bank Corpus 1.0\n",
            "  [ ] pros_cons........... Pros and Cons\n",
            "  [ ] ptb................. Penn Treebank\n",
            "  [ ] punkt............... Punkt Tokenizer Models\n",
            "  [ ] qc.................. Experimental Data for Question Classification\n",
            "  [ ] reuters............. The Reuters-21578 benchmark corpus, ApteMod\n",
            "                           version\n",
            "Hit Enter to continue: \n",
            "  [ ] rslp................ RSLP Stemmer (Removedor de Sufixos da Lingua\n",
            "                           Portuguesa)\n",
            "  [ ] rte................. PASCAL RTE Challenges 1, 2, and 3\n",
            "  [ ] sample_grammars..... Sample Grammars\n",
            "  [ ] semcor.............. SemCor 3.0\n",
            "  [ ] senseval............ SENSEVAL 2 Corpus: Sense Tagged Text\n",
            "  [ ] sentence_polarity... Sentence Polarity Dataset v1.0\n",
            "  [ ] sentiwordnet........ SentiWordNet\n",
            "  [ ] shakespeare......... Shakespeare XML Corpus Sample\n",
            "  [ ] sinica_treebank..... Sinica Treebank Corpus Sample\n",
            "  [ ] smultron............ SMULTRON Corpus Sample\n",
            "  [ ] snowball_data....... Snowball Data\n",
            "  [ ] spanish_grammars.... Grammars for Spanish\n",
            "  [ ] state_union......... C-Span State of the Union Address Corpus\n",
            "  [ ] stopwords........... Stopwords Corpus\n",
            "  [ ] subjectivity........ Subjectivity Dataset v1.0\n",
            "  [ ] swadesh............. Swadesh Wordlists\n",
            "  [ ] switchboard......... Switchboard Corpus Sample\n",
            "  [ ] tagsets............. Help on Tagsets\n",
            "  [ ] timit............... TIMIT Corpus Sample\n",
            "  [ ] toolbox............. Toolbox Sample Files\n",
            "Hit Enter to continue: \n",
            "  [ ] treebank............ Penn Treebank Sample\n",
            "  [ ] twitter_samples..... Twitter Samples\n",
            "  [ ] udhr2............... Universal Declaration of Human Rights Corpus\n",
            "                           (Unicode Version)\n",
            "  [ ] udhr................ Universal Declaration of Human Rights Corpus\n",
            "  [ ] unicode_samples..... Unicode Samples\n",
            "  [ ] universal_tagset.... Mappings to the Universal Part-of-Speech Tagset\n",
            "  [ ] universal_treebanks_v20 Universal Treebanks Version 2.0\n",
            "  [ ] vader_lexicon....... VADER Sentiment Lexicon\n",
            "  [ ] verbnet3............ VerbNet Lexicon, Version 3.3\n",
            "  [ ] verbnet............. VerbNet Lexicon, Version 2.1\n",
            "  [ ] webtext............. Web Text Corpus\n",
            "  [ ] wmt15_eval.......... Evaluation data from WMT15\n",
            "  [ ] word2vec_sample..... Word2Vec Sample\n",
            "  [ ] wordnet2021......... Open English Wordnet 2021\n",
            "  [ ] wordnet2022......... Open English Wordnet 2022\n",
            "  [ ] wordnet31........... Wordnet 3.1\n",
            "  [ ] wordnet............. WordNet\n",
            "  [ ] wordnet_ic.......... WordNet-InfoContent\n",
            "  [ ] words............... Word Lists\n",
            "  [ ] ycoe................ York-Toronto-Helsinki Parsed Corpus of Old\n",
            "                           English Prose\n",
            "Hit Enter to continue: \n",
            "\n",
            "Collections:\n",
            "  [ ] all-corpora......... All the corpora\n",
            "  [ ] all-nltk............ All packages available on nltk_data gh-pages\n",
            "                           branch\n",
            "  [ ] all................. All packages\n",
            "  [ ] book................ Everything used in the NLTK Book\n",
            "  [ ] popular............. Popular packages\n",
            "  [ ] tests............... Packages for running tests\n",
            "  [ ] third-party......... Third-party data packages\n",
            "\n",
            "([*] marks installed packages)\n",
            "\n",
            "Download which package (l=list; x=cancel)?\n",
            "  Identifier> all\n"
          ]
        },
        {
          "output_type": "stream",
          "name": "stderr",
          "text": [
            "    Downloading collection 'all'\n",
            "       | \n",
            "       | Downloading package abc to /root/nltk_data...\n",
            "       |   Unzipping corpora/abc.zip.\n",
            "       | Downloading package alpino to /root/nltk_data...\n",
            "       |   Unzipping corpora/alpino.zip.\n",
            "       | Downloading package averaged_perceptron_tagger to\n",
            "       |     /root/nltk_data...\n",
            "       |   Unzipping taggers/averaged_perceptron_tagger.zip.\n",
            "       | Downloading package averaged_perceptron_tagger_ru to\n",
            "       |     /root/nltk_data...\n",
            "       |   Unzipping taggers/averaged_perceptron_tagger_ru.zip.\n",
            "       | Downloading package basque_grammars to /root/nltk_data...\n",
            "       |   Unzipping grammars/basque_grammars.zip.\n",
            "       | Downloading package bcp47 to /root/nltk_data...\n",
            "       | Downloading package biocreative_ppi to /root/nltk_data...\n",
            "       |   Unzipping corpora/biocreative_ppi.zip.\n",
            "       | Downloading package bllip_wsj_no_aux to /root/nltk_data...\n",
            "       |   Unzipping models/bllip_wsj_no_aux.zip.\n",
            "       | Downloading package book_grammars to /root/nltk_data...\n",
            "       |   Unzipping grammars/book_grammars.zip.\n",
            "       | Downloading package brown to /root/nltk_data...\n",
            "       |   Unzipping corpora/brown.zip.\n",
            "       | Downloading package brown_tei to /root/nltk_data...\n",
            "       |   Unzipping corpora/brown_tei.zip.\n",
            "       | Downloading package cess_cat to /root/nltk_data...\n",
            "       |   Unzipping corpora/cess_cat.zip.\n",
            "       | Downloading package cess_esp to /root/nltk_data...\n",
            "       |   Unzipping corpora/cess_esp.zip.\n",
            "       | Downloading package chat80 to /root/nltk_data...\n",
            "       |   Unzipping corpora/chat80.zip.\n",
            "       | Downloading package city_database to /root/nltk_data...\n",
            "       |   Unzipping corpora/city_database.zip.\n",
            "       | Downloading package cmudict to /root/nltk_data...\n",
            "       |   Unzipping corpora/cmudict.zip.\n",
            "       | Downloading package comparative_sentences to\n",
            "       |     /root/nltk_data...\n",
            "       |   Unzipping corpora/comparative_sentences.zip.\n",
            "       | Downloading package comtrans to /root/nltk_data...\n",
            "       | Downloading package conll2000 to /root/nltk_data...\n",
            "       |   Unzipping corpora/conll2000.zip.\n",
            "       | Downloading package conll2002 to /root/nltk_data...\n",
            "       |   Unzipping corpora/conll2002.zip.\n",
            "       | Downloading package conll2007 to /root/nltk_data...\n",
            "       | Downloading package crubadan to /root/nltk_data...\n",
            "       |   Unzipping corpora/crubadan.zip.\n",
            "       | Downloading package dependency_treebank to /root/nltk_data...\n",
            "       |   Unzipping corpora/dependency_treebank.zip.\n",
            "       | Downloading package dolch to /root/nltk_data...\n",
            "       |   Unzipping corpora/dolch.zip.\n",
            "       | Downloading package europarl_raw to /root/nltk_data...\n",
            "       |   Unzipping corpora/europarl_raw.zip.\n",
            "       | Downloading package extended_omw to /root/nltk_data...\n",
            "       | Downloading package floresta to /root/nltk_data...\n",
            "       |   Unzipping corpora/floresta.zip.\n",
            "       | Downloading package framenet_v15 to /root/nltk_data...\n",
            "       |   Unzipping corpora/framenet_v15.zip.\n",
            "       | Downloading package framenet_v17 to /root/nltk_data...\n",
            "       |   Unzipping corpora/framenet_v17.zip.\n",
            "       | Downloading package gazetteers to /root/nltk_data...\n",
            "       |   Unzipping corpora/gazetteers.zip.\n",
            "       | Downloading package genesis to /root/nltk_data...\n",
            "       |   Unzipping corpora/genesis.zip.\n",
            "       | Downloading package gutenberg to /root/nltk_data...\n",
            "       |   Unzipping corpora/gutenberg.zip.\n",
            "       | Downloading package ieer to /root/nltk_data...\n",
            "       |   Unzipping corpora/ieer.zip.\n",
            "       | Downloading package inaugural to /root/nltk_data...\n",
            "       |   Unzipping corpora/inaugural.zip.\n",
            "       | Downloading package indian to /root/nltk_data...\n",
            "       |   Unzipping corpora/indian.zip.\n",
            "       | Downloading package jeita to /root/nltk_data...\n",
            "       | Downloading package kimmo to /root/nltk_data...\n",
            "       |   Unzipping corpora/kimmo.zip.\n",
            "       | Downloading package knbc to /root/nltk_data...\n",
            "       | Downloading package large_grammars to /root/nltk_data...\n",
            "       |   Unzipping grammars/large_grammars.zip.\n",
            "       | Downloading package lin_thesaurus to /root/nltk_data...\n",
            "       |   Unzipping corpora/lin_thesaurus.zip.\n",
            "       | Downloading package mac_morpho to /root/nltk_data...\n",
            "       |   Unzipping corpora/mac_morpho.zip.\n",
            "       | Downloading package machado to /root/nltk_data...\n",
            "       | Downloading package masc_tagged to /root/nltk_data...\n",
            "       | Downloading package maxent_ne_chunker to /root/nltk_data...\n",
            "       |   Unzipping chunkers/maxent_ne_chunker.zip.\n",
            "       | Downloading package maxent_treebank_pos_tagger to\n",
            "       |     /root/nltk_data...\n",
            "       |   Unzipping taggers/maxent_treebank_pos_tagger.zip.\n",
            "       | Downloading package moses_sample to /root/nltk_data...\n",
            "       |   Unzipping models/moses_sample.zip.\n",
            "       | Downloading package movie_reviews to /root/nltk_data...\n",
            "       |   Unzipping corpora/movie_reviews.zip.\n",
            "       | Downloading package mte_teip5 to /root/nltk_data...\n",
            "       |   Unzipping corpora/mte_teip5.zip.\n",
            "       | Downloading package mwa_ppdb to /root/nltk_data...\n",
            "       |   Unzipping misc/mwa_ppdb.zip.\n",
            "       | Downloading package names to /root/nltk_data...\n",
            "       |   Unzipping corpora/names.zip.\n",
            "       | Downloading package nombank.1.0 to /root/nltk_data...\n",
            "       | Downloading package nonbreaking_prefixes to\n",
            "       |     /root/nltk_data...\n",
            "       |   Unzipping corpora/nonbreaking_prefixes.zip.\n",
            "       | Downloading package nps_chat to /root/nltk_data...\n",
            "       |   Unzipping corpora/nps_chat.zip.\n",
            "       | Downloading package omw to /root/nltk_data...\n",
            "       | Downloading package omw-1.4 to /root/nltk_data...\n",
            "       | Downloading package opinion_lexicon to /root/nltk_data...\n",
            "       |   Unzipping corpora/opinion_lexicon.zip.\n",
            "       | Downloading package panlex_swadesh to /root/nltk_data...\n",
            "       | Downloading package paradigms to /root/nltk_data...\n",
            "       |   Unzipping corpora/paradigms.zip.\n",
            "       | Downloading package pe08 to /root/nltk_data...\n",
            "       |   Unzipping corpora/pe08.zip.\n",
            "       | Downloading package perluniprops to /root/nltk_data...\n",
            "       |   Unzipping misc/perluniprops.zip.\n",
            "       | Downloading package pil to /root/nltk_data...\n",
            "       |   Unzipping corpora/pil.zip.\n",
            "       | Downloading package pl196x to /root/nltk_data...\n",
            "       |   Unzipping corpora/pl196x.zip.\n",
            "       | Downloading package porter_test to /root/nltk_data...\n",
            "       |   Unzipping stemmers/porter_test.zip.\n",
            "       | Downloading package ppattach to /root/nltk_data...\n",
            "       |   Unzipping corpora/ppattach.zip.\n",
            "       | Downloading package problem_reports to /root/nltk_data...\n",
            "       |   Unzipping corpora/problem_reports.zip.\n",
            "       | Downloading package product_reviews_1 to /root/nltk_data...\n",
            "       |   Unzipping corpora/product_reviews_1.zip.\n",
            "       | Downloading package product_reviews_2 to /root/nltk_data...\n",
            "       |   Unzipping corpora/product_reviews_2.zip.\n",
            "       | Downloading package propbank to /root/nltk_data...\n",
            "       | Downloading package pros_cons to /root/nltk_data...\n",
            "       |   Unzipping corpora/pros_cons.zip.\n",
            "       | Downloading package ptb to /root/nltk_data...\n",
            "       |   Unzipping corpora/ptb.zip.\n",
            "       | Downloading package punkt to /root/nltk_data...\n",
            "       |   Unzipping tokenizers/punkt.zip.\n",
            "       | Downloading package qc to /root/nltk_data...\n",
            "       |   Unzipping corpora/qc.zip.\n",
            "       | Downloading package reuters to /root/nltk_data...\n",
            "       | Downloading package rslp to /root/nltk_data...\n",
            "       |   Unzipping stemmers/rslp.zip.\n",
            "       | Downloading package rte to /root/nltk_data...\n",
            "       |   Unzipping corpora/rte.zip.\n",
            "       | Downloading package sample_grammars to /root/nltk_data...\n",
            "       |   Unzipping grammars/sample_grammars.zip.\n",
            "       | Downloading package semcor to /root/nltk_data...\n",
            "       | Downloading package senseval to /root/nltk_data...\n",
            "       |   Unzipping corpora/senseval.zip.\n",
            "       | Downloading package sentence_polarity to /root/nltk_data...\n",
            "       |   Unzipping corpora/sentence_polarity.zip.\n",
            "       | Downloading package sentiwordnet to /root/nltk_data...\n",
            "       |   Unzipping corpora/sentiwordnet.zip.\n",
            "       | Downloading package shakespeare to /root/nltk_data...\n",
            "       |   Unzipping corpora/shakespeare.zip.\n",
            "       | Downloading package sinica_treebank to /root/nltk_data...\n",
            "       |   Unzipping corpora/sinica_treebank.zip.\n",
            "       | Downloading package smultron to /root/nltk_data...\n",
            "       |   Unzipping corpora/smultron.zip.\n",
            "       | Downloading package snowball_data to /root/nltk_data...\n",
            "       | Downloading package spanish_grammars to /root/nltk_data...\n",
            "       |   Unzipping grammars/spanish_grammars.zip.\n",
            "       | Downloading package state_union to /root/nltk_data...\n",
            "       |   Unzipping corpora/state_union.zip.\n",
            "       | Downloading package stopwords to /root/nltk_data...\n",
            "       |   Unzipping corpora/stopwords.zip.\n",
            "       | Downloading package subjectivity to /root/nltk_data...\n",
            "       |   Unzipping corpora/subjectivity.zip.\n",
            "       | Downloading package swadesh to /root/nltk_data...\n",
            "       |   Unzipping corpora/swadesh.zip.\n",
            "       | Downloading package switchboard to /root/nltk_data...\n",
            "       |   Unzipping corpora/switchboard.zip.\n",
            "       | Downloading package tagsets to /root/nltk_data...\n",
            "       |   Unzipping help/tagsets.zip.\n",
            "       | Downloading package timit to /root/nltk_data...\n",
            "       |   Unzipping corpora/timit.zip.\n",
            "       | Downloading package toolbox to /root/nltk_data...\n",
            "       |   Unzipping corpora/toolbox.zip.\n",
            "       | Downloading package treebank to /root/nltk_data...\n",
            "       |   Unzipping corpora/treebank.zip.\n",
            "       | Downloading package twitter_samples to /root/nltk_data...\n",
            "       |   Unzipping corpora/twitter_samples.zip.\n",
            "       | Downloading package udhr to /root/nltk_data...\n",
            "       |   Unzipping corpora/udhr.zip.\n",
            "       | Downloading package udhr2 to /root/nltk_data...\n",
            "       |   Unzipping corpora/udhr2.zip.\n",
            "       | Downloading package unicode_samples to /root/nltk_data...\n",
            "       |   Unzipping corpora/unicode_samples.zip.\n",
            "       | Downloading package universal_tagset to /root/nltk_data...\n",
            "       |   Unzipping taggers/universal_tagset.zip.\n",
            "       | Downloading package universal_treebanks_v20 to\n",
            "       |     /root/nltk_data...\n",
            "       | Downloading package vader_lexicon to /root/nltk_data...\n",
            "       | Downloading package verbnet to /root/nltk_data...\n",
            "       |   Unzipping corpora/verbnet.zip.\n",
            "       | Downloading package verbnet3 to /root/nltk_data...\n",
            "       |   Unzipping corpora/verbnet3.zip.\n",
            "       | Downloading package webtext to /root/nltk_data...\n",
            "       |   Unzipping corpora/webtext.zip.\n",
            "       | Downloading package wmt15_eval to /root/nltk_data...\n",
            "       |   Unzipping models/wmt15_eval.zip.\n",
            "       | Downloading package word2vec_sample to /root/nltk_data...\n",
            "       |   Unzipping models/word2vec_sample.zip.\n",
            "       | Downloading package wordnet to /root/nltk_data...\n",
            "       | Downloading package wordnet2021 to /root/nltk_data...\n",
            "       | Downloading package wordnet2022 to /root/nltk_data...\n",
            "       |   Unzipping corpora/wordnet2022.zip.\n",
            "       | Downloading package wordnet31 to /root/nltk_data...\n",
            "       | Downloading package wordnet_ic to /root/nltk_data...\n",
            "       |   Unzipping corpora/wordnet_ic.zip.\n",
            "       | Downloading package words to /root/nltk_data...\n",
            "       |   Unzipping corpora/words.zip.\n",
            "       | Downloading package ycoe to /root/nltk_data...\n",
            "       |   Unzipping corpora/ycoe.zip.\n",
            "       | \n",
            "     Done downloading collection all\n"
          ]
        },
        {
          "name": "stdout",
          "output_type": "stream",
          "text": [
            "\n",
            "---------------------------------------------------------------------------\n",
            "    d) Download   l) List    u) Update   c) Config   h) Help   q) Quit\n",
            "---------------------------------------------------------------------------\n",
            "Downloader> q\n"
          ]
        },
        {
          "output_type": "execute_result",
          "data": {
            "text/plain": [
              "True"
            ]
          },
          "metadata": {},
          "execution_count": 3
        }
      ]
    },
    {
      "cell_type": "markdown",
      "source": [
        "### Visualizar Métodos\n",
        "> Veja as palavras e sentenças dentro do `mac_morpho`"
      ],
      "metadata": {
        "id": "QVPTrOGZIC5N"
      }
    },
    {
      "cell_type": "code",
      "source": [
        "dir(nltk.corpus.mac_morpho)"
      ],
      "metadata": {
        "id": "2FERLVdsHps_",
        "colab": {
          "base_uri": "https://localhost:8080/"
        },
        "outputId": "27d0d8a9-1643-4d66-d2d9-105e84240a0b"
      },
      "execution_count": 4,
      "outputs": [
        {
          "output_type": "execute_result",
          "data": {
            "text/plain": [
              "['_LazyCorpusLoader__args',\n",
              " '_LazyCorpusLoader__kwargs',\n",
              " '_LazyCorpusLoader__load',\n",
              " '_LazyCorpusLoader__name',\n",
              " '_LazyCorpusLoader__reader_cls',\n",
              " '__class__',\n",
              " '__delattr__',\n",
              " '__dict__',\n",
              " '__dir__',\n",
              " '__doc__',\n",
              " '__eq__',\n",
              " '__format__',\n",
              " '__ge__',\n",
              " '__getattr__',\n",
              " '__getattribute__',\n",
              " '__gt__',\n",
              " '__hash__',\n",
              " '__init__',\n",
              " '__init_subclass__',\n",
              " '__le__',\n",
              " '__lt__',\n",
              " '__module__',\n",
              " '__name__',\n",
              " '__ne__',\n",
              " '__new__',\n",
              " '__reduce__',\n",
              " '__reduce_ex__',\n",
              " '__repr__',\n",
              " '__setattr__',\n",
              " '__sizeof__',\n",
              " '__str__',\n",
              " '__subclasshook__',\n",
              " '__weakref__',\n",
              " '_unload',\n",
              " 'subdir']"
            ]
          },
          "metadata": {},
          "execution_count": 4
        }
      ]
    },
    {
      "cell_type": "code",
      "source": [
        "display(nltk.corpus.mac_morpho.words())\n",
        "len(nltk.corpus.mac_morpho.words()) # Total"
      ],
      "metadata": {
        "colab": {
          "base_uri": "https://localhost:8080/",
          "height": 52
        },
        "id": "_fIJQVJhIcwJ",
        "outputId": "033f0d7e-8d46-4e6e-a743-2fec5acde0ec"
      },
      "execution_count": 8,
      "outputs": [
        {
          "output_type": "display_data",
          "data": {
            "text/plain": [
              "['Jersei', 'atinge', 'média', 'de', 'Cr$', '1,4', ...]"
            ]
          },
          "metadata": {}
        },
        {
          "output_type": "execute_result",
          "data": {
            "text/plain": [
              "1170095"
            ]
          },
          "metadata": {},
          "execution_count": 8
        }
      ]
    },
    {
      "cell_type": "code",
      "source": [
        "display(nltk.corpus.mac_morpho.sents())\n",
        "len(nltk.corpus.mac_morpho.sents())"
      ],
      "metadata": {
        "colab": {
          "base_uri": "https://localhost:8080/",
          "height": 86
        },
        "id": "MCra4Ho4I6ha",
        "outputId": "e5aa93cf-8978-4a78-a78e-f5c9ff8c5161"
      },
      "execution_count": 9,
      "outputs": [
        {
          "output_type": "display_data",
          "data": {
            "text/plain": [
              "[['Jersei', 'atinge', 'média', 'de', 'Cr$', '1,4', 'milhão', 'em', 'a', 'venda', 'de', 'a', 'Pinhal', 'em', 'São', 'Paulo'], ['Programe', 'sua', 'viagem', 'a', 'a', 'Exposição', 'Nacional', 'do', 'Zebu', ',', 'que', 'começa', 'dia', '25'], ...]"
            ]
          },
          "metadata": {}
        },
        {
          "output_type": "execute_result",
          "data": {
            "text/plain": [
              "51397"
            ]
          },
          "metadata": {},
          "execution_count": 9
        }
      ]
    },
    {
      "cell_type": "code",
      "source": [
        "nltk.corpus.mac_morpho.tagged_sents()"
      ],
      "metadata": {
        "colab": {
          "base_uri": "https://localhost:8080/"
        },
        "id": "gsmcfFqPJkk4",
        "outputId": "4fa8f718-034e-495f-dd8f-24d415a3b92d"
      },
      "execution_count": null,
      "outputs": [
        {
          "output_type": "execute_result",
          "data": {
            "text/plain": [
              "[[('Jersei', 'N'), ('atinge', 'V'), ('média', 'N'), ('de', 'PREP'), ('Cr$', 'CUR'), ('1,4', 'NUM'), ('milhão', 'N'), ('em', 'PREP|+'), ('a', 'ART'), ('venda', 'N'), ('de', 'PREP|+'), ('a', 'ART'), ('Pinhal', 'NPROP'), ('em', 'PREP'), ('São', 'NPROP'), ('Paulo', 'NPROP')], [('Programe', 'V'), ('sua', 'PROADJ'), ('viagem', 'N'), ('a', 'PREP|+'), ('a', 'ART'), ('Exposição', 'NPROP'), ('Nacional', 'NPROP'), ('do', 'NPROP'), ('Zebu', 'NPROP'), (',', ','), ('que', 'PRO-KS-REL'), ('começa', 'V'), ('dia', 'N'), ('25', 'N|AP')], ...]"
            ]
          },
          "metadata": {},
          "execution_count": 14
        }
      ]
    },
    {
      "cell_type": "code",
      "source": [
        "'Hoje é sexta e tenho aula de PLN e cheguei atrasado'.split()"
      ],
      "metadata": {
        "colab": {
          "base_uri": "https://localhost:8080/"
        },
        "id": "dE9kjXdeKivZ",
        "outputId": "be994953-c389-42b6-be8d-7deeda7141f8"
      },
      "execution_count": null,
      "outputs": [
        {
          "output_type": "execute_result",
          "data": {
            "text/plain": [
              "['Hoje',\n",
              " 'é',\n",
              " 'sexta',\n",
              " 'e',\n",
              " 'tenho',\n",
              " 'aula',\n",
              " 'de',\n",
              " 'PLN',\n",
              " 'e',\n",
              " 'cheguei',\n",
              " 'atrasado']"
            ]
          },
          "metadata": {},
          "execution_count": 17
        }
      ]
    },
    {
      "cell_type": "markdown",
      "source": [
        "## **Start**\n",
        "- `\\w+` Representação de tudo que é textual, underscore\n",
        "- `[A-z]\\w*` Só os caracteres, de A até z (ABC...abc). O * significa que considera os Nulos também"
      ],
      "metadata": {
        "id": "m48rqyd2M9JG"
      }
    },
    {
      "cell_type": "code",
      "source": [
        "text = 'Recentemente (2024), o Google suspendeu um recurso importante de seu conjunto de inteligência artificial, o Gemini. A decisão do Google de pausar a geração de imagens de pessoas ocorre no momento em que a gigante da tecnologia aborda questões sobre a precisão do modelo em representar a diversidade. Gemini, conhecido por suas capacidades avançadas de IA, encontrou críticas em relação à representação de indivíduos de diversas origens.'"
      ],
      "metadata": {
        "id": "pOaa9RgfMbjs"
      },
      "execution_count": 10,
      "outputs": []
    },
    {
      "cell_type": "code",
      "source": [
        "from nltk.tokenize import RegexpTokenizer\n",
        "tokenizer = RegexpTokenizer(r'\\w+')\n",
        "\n",
        "# Para desconsiderar tokens sem acentuações e numerais\n",
        "tokenizer = RegexpTokenizer(r'[A-z]\\w*')\n",
        "tokens = tokenizer.tokenize(text)\n",
        "tokens[:9] # Para não ocupar espaço da tela"
      ],
      "metadata": {
        "colab": {
          "base_uri": "https://localhost:8080/"
        },
        "id": "a_ALg7l5M-bV",
        "outputId": "d647177c-adb3-45db-9c54-d3cf6220dd76"
      },
      "execution_count": 11,
      "outputs": [
        {
          "output_type": "execute_result",
          "data": {
            "text/plain": [
              "['Recentemente',\n",
              " 'o',\n",
              " 'Google',\n",
              " 'suspendeu',\n",
              " 'um',\n",
              " 'recurso',\n",
              " 'importante',\n",
              " 'de',\n",
              " 'seu']"
            ]
          },
          "metadata": {},
          "execution_count": 11
        }
      ]
    },
    {
      "cell_type": "markdown",
      "source": [
        "> Frequência de Tokens"
      ],
      "metadata": {
        "id": "4ttZee83P_hE"
      }
    },
    {
      "cell_type": "code",
      "source": [
        "text2 = 'RIO DE JANEIRO E SÃO PAULO, None (FOLHAPRESS) - O Brasil ainda tem o equivalente a 49 milhões de habitantes sem atendimento adequado de esgotamento sanitário e 4,8 milhões de pessoas sem água encanada, apesar do crescimento desses serviços nas últimas décadas. É o que apontam novos dados do Censo Demográfico 2022 divulgados nesta sexta-feira (23) pelo IBGE (Instituto Brasileiro de Geografia e Estatística). No caso do esgotamento sanitário, 62,5% da população vivia em domicílios conectados à rede de coleta em 2022. Outros 13,2% estavam em endereços que usavam fossa séptica ou fossa-filtro como solução individual. De acordo com o IBGE, as duas categorias são consideradas adequadas pelo Plansab (Plano Nacional de Saneamento Básico). Expand article logo  Continuar lendo Assim, a população atendida por rede de esgoto ou fossa séptica chegou a 75,7%, na soma, em 2022 o equivalente a 153,1 milhões de pessoas. O percentual subiu em relação aos recenseamentos anteriores era de 64,5% em 2010 e de 59,2% em 2000. Apesar da alta, o país ainda registrou, em 2022, o equivalente a 24,3% da população em domicílios com opções de esgotamento sanitário \"mais precárias\", incluindo fossa rudimentar ou buraco, vala, rio, lago, córrego ou mar, diz o IBGE.'"
      ],
      "metadata": {
        "id": "Pf7QjEpQOlIp"
      },
      "execution_count": 12,
      "outputs": []
    },
    {
      "cell_type": "code",
      "source": [
        "tokens = nltk.word_tokenize(text2)\n",
        "freq = nltk.FreqDist(tokens)\n",
        "\n",
        "freq.most_common()[:10]"
      ],
      "metadata": {
        "colab": {
          "base_uri": "https://localhost:8080/"
        },
        "id": "92y1syWEQjwf",
        "outputId": "82967b9b-1b82-48df-8b37-a27764341df8"
      },
      "execution_count": 15,
      "outputs": [
        {
          "output_type": "execute_result",
          "data": {
            "text/plain": [
              "[(',', 16),\n",
              " ('de', 11),\n",
              " ('em', 9),\n",
              " ('.', 8),\n",
              " ('o', 6),\n",
              " ('%', 6),\n",
              " ('a', 5),\n",
              " ('(', 4),\n",
              " (')', 4),\n",
              " ('2022', 4)]"
            ]
          },
          "metadata": {},
          "execution_count": 15
        }
      ]
    },
    {
      "cell_type": "markdown",
      "source": [
        "> Excluindo pontuação"
      ],
      "metadata": {
        "id": "5mC_Yj4GRjk-"
      }
    },
    {
      "cell_type": "code",
      "source": [
        "tokenizer = RegexpTokenizer(r'[A-z]\\w*')\n",
        "tokens = tokenizer.tokenize(text2)\n",
        "\n",
        "freq = nltk.FreqDist(tokens)\n",
        "freq.most_common()[:10]"
      ],
      "metadata": {
        "colab": {
          "base_uri": "https://localhost:8080/"
        },
        "id": "hTmaMKJgRekM",
        "outputId": "975241be-1a1b-483c-b894-28dedf2c0200"
      },
      "execution_count": 16,
      "outputs": [
        {
          "output_type": "execute_result",
          "data": {
            "text/plain": [
              "[('de', 11),\n",
              " ('em', 9),\n",
              " ('o', 7),\n",
              " ('a', 5),\n",
              " ('fossa', 4),\n",
              " ('ou', 4),\n",
              " ('equivalente', 3),\n",
              " ('milhões', 3),\n",
              " ('esgotamento', 3),\n",
              " ('sanitário', 3)]"
            ]
          },
          "metadata": {},
          "execution_count": 16
        }
      ]
    },
    {
      "cell_type": "markdown",
      "source": [
        "### Corpus Teste (CT)\n",
        "- `R` : Read\n",
        "- `W` : Writye\n",
        "- `X` : Execute"
      ],
      "metadata": {
        "id": "lxDDhA9aXMTJ"
      }
    },
    {
      "cell_type": "code",
      "source": [
        "# ct = open('/content/corpus_teste.txt').read()\n",
        "\n",
        "# Abrindo o arquivo da Web (preguiça de fazer o download)\n",
        "import requests\n",
        "\n",
        "link = 'https://raw.githubusercontent.com/gabrielluizone/NLProcessing/main/02%20%E2%80%A2%20NLTK/Aula%203%20-%20NLTK%20-%20dados%20corpus_teste/corpus_teste.txt'\n",
        "ct = requests.get(link).text\n",
        "\n",
        "ct"
      ],
      "metadata": {
        "colab": {
          "base_uri": "https://localhost:8080/",
          "height": 174
        },
        "id": "O-z-43SAPkz9",
        "outputId": "847fc20a-7315-4385-dcb0-9b50891b70a8"
      },
      "execution_count": 27,
      "outputs": [
        {
          "output_type": "execute_result",
          "data": {
            "text/plain": [
              "'Giants batem os Patriots no Super Bowl XLII\\r\\nAzarões acabam com a invencibilidade de New England e ficam com o título da temporada\\r\\n04/02/2008 - 01h07m - Atualizado em 04/02/2008 - 09h49m\\r\\n\\r\\nCom um passe de Eli Manning para Plaxico Burress a 39 segundos do fim, o New York Giants anotou o touchdown decisivo e derrubou o favorito New England Patriots por 17 a 14 neste domingo, em Glendale, no Super Bowl XLII. O resultado, uma das maiores zebras da história do Super Bowl, acabou com a temporada perfeita de Tom Brady e companhia, que esperavam fazer história ao levantar o troféu da NFL sem sofrer uma derrota no ano. \\r\\n\\r\\nA vitória dos Giants, porém, também ficará para a história. Pela primeira vez, irmãos quarterbacks triunfam no Super Bowl em temporadas consecutivas. No ano passado, Peyton Manning, irmão de Eli, chegou ao título máximo da NFL pelo Indianapolis Colts.\\r\\n\\r\\nA partida\\r\\n\\r\\nOs Giants começaram com a posse de bola, e mostraram logo que iriam alongar ao máximo suas posses de bola. Misturando corridas com Brandon Jacobs e passes curtos, o time de Nova York chegou à red zone logo na primeira campanha. O avanço, no entanto, parou na linha de 17 jardas e Lawrence Tynes converteu o field goal de 32 jardas para abrir o placar.\\r\\n\\r\\nEli Manning e companhia ficaram 9m54s com a bola, mas o ataque dos Patriots não entrou em campo frio. Logo no retorno do kickoff, o running back Laurence Maroney avançou 43 jardas, deixando Tom Brady em boa posição. Com passes curtos, os Patriots chegaram à linha de 17 jardas e, graças a uma penalidade (interferência de passe) do linebacker Antonio Pierce, alcançaram a linha de uma jarda. Maroney avançou pelo chão e anotou o primeiro touchdown do jogo.\\r\\n\\r\\nOs Giants pareciam rumo à virada na campanha seguinte. Manning achou Amani Toomer para um avanço de 38 jardas, e o time de Nova York entrou novamente na red zone. Com a bola na linha de 14 jardas dos Patriots, os Giants sofreram um revés. Manning passou para Steve Smith, que soltou a bola. Ellis Hobbs aproveitou, tomou a posse para os Patriots, e avançou 23 jardas. \\r\\n\\r\\nA defesa de Nova York manteve o jogo equilibrado. Com dois sacks seguidos, os Giants forçaram o punt e recuperaram a bola. Mas a campanha seguinte provou ser outra decepção para Nova York. O time chegou à linha de 25 jardas, mas Manning sofreu um sack e cometeu um fumble, e o ataque voltou para a linha de 39 jardas, não conseguindo pontuar mais uma vez.\\r\\n\\r\\nOs Patriots tiveram uma última chance de marcar antes do intervalo, mas, a 22 segundos do fim do segundo período, Brady foi novamente sacado. Desta vez, ele cometeu o fumble e os Giants tomaram a posse de bola. Manning tentou um passe longo, de 50 jardas, nos últimos segundos, mas não teve sucesso. \\r\\n\\r\\nO jogo continuou amarrado no terceiro quarto, com as defesas levando a melhor sobre os ataques. A única chance de pontuar do período foi dos Patriots, que chegaram à linha de 31 jardas dos Giants. O técnico Bill Bellichick, porém, optou por uma quarta descida em vez de um field goal. Brady tentou um passe para Jabar Gaffney, mas não conseguiu completar.\\r\\n\\r\\nO último período começou arrasador para os Giants. na primeira jogada, Manning achou o tight end Kevin Boss, para um incrível avanço de 45 jardas, que deixou o time na linha de 35 dos Patriots. Outro lançamento, desta vez para Steve Smith, marcou o avanço até a linha de 12 jardas. Duas jogadas depois, David Tyree pegou um passe de cinco jardas na end zone para anotar o touchdown e virar o jogo.\\r\\n\\r\\nNa hora da decisão, o ataque dos Patriots voltou a funcionar. Com uma série de passes curtos e variados, Brady achou Wes Welker, Randy Moss e Kevin Faulk seguidas vezes até chegar à red zone. A 2m45s do fim, o quarterback conectou mais uma vez com Moss, que se desmarcou e ficou livre na lateral direita da end zone.\\r\\n\\r\\nQuando os fãs de New England já comemoravam a vitória, o inesperado aconteceu. Em uma jogada incrível, Eli Manning se soltou de dois marcadores que o seguravam pela camisa e, na corrida, lançou para Amani Toomer. O wide receiver, bem marcado, saltou e conseguiu a fazer recepção para um avanço de 32 jardas, deixando os Giants na linha de 24 de New England.\\r\\n\\r\\nQuatro jogadas depois, a 39 segundos do fim, Manning achou Plaxico Burress na end zone para conseguir o touchdown do título.'"
            ],
            "application/vnd.google.colaboratory.intrinsic+json": {
              "type": "string"
            }
          },
          "metadata": {},
          "execution_count": 27
        }
      ]
    },
    {
      "cell_type": "code",
      "source": [
        "from nltk.tokenize import RegexpTokenizer\n",
        "\n",
        "# Tokenizar e calcular a frequência de nosso corpus inteiro\n",
        "tokenizer = RegexpTokenizer(r'\\w+') # '[A-z]\\w*'\n",
        "\n",
        "tokens = tokenizer.tokenize(ct)\n",
        "tokens[:5]"
      ],
      "metadata": {
        "colab": {
          "base_uri": "https://localhost:8080/"
        },
        "id": "blI1wPAVXRrR",
        "outputId": "b92282b7-cc61-43cf-c267-768262ccf48b"
      },
      "execution_count": 30,
      "outputs": [
        {
          "output_type": "execute_result",
          "data": {
            "text/plain": [
              "['Giants', 'batem', 'os', 'Patriots', 'no']"
            ]
          },
          "metadata": {},
          "execution_count": 30
        }
      ]
    },
    {
      "cell_type": "code",
      "source": [
        "nltk.FreqDist(tokens).most_common()[:7]"
      ],
      "metadata": {
        "colab": {
          "base_uri": "https://localhost:8080/"
        },
        "id": "_upQs8x4c2QQ",
        "outputId": "d3cfcd0f-d05b-4629-94b3-adf24a1a8407"
      },
      "execution_count": 31,
      "outputs": [
        {
          "output_type": "execute_result",
          "data": {
            "text/plain": [
              "[('de', 34),\n",
              " ('o', 26),\n",
              " ('a', 23),\n",
              " ('e', 21),\n",
              " ('para', 16),\n",
              " ('jardas', 15),\n",
              " ('do', 12)]"
            ]
          },
          "metadata": {},
          "execution_count": 31
        }
      ]
    },
    {
      "cell_type": "code",
      "source": [
        "tokenizer = RegexpTokenizer(r'[A-z]\\w*')\n",
        "tokens = tokenizer.tokenize(ct)\n",
        "\n",
        "# Lista com tokens convertidos para maiusculo\n",
        "nv_lista = []\n",
        "\n",
        "for token in tokens: nv_lista.append(token)\n",
        "\n",
        "freq2 = nltk.FreqDist(nv_lista)\n",
        "freq2.most_common()[:7]"
      ],
      "metadata": {
        "colab": {
          "base_uri": "https://localhost:8080/"
        },
        "id": "T1CinZrOe9hI",
        "outputId": "9a5fe0b1-d9c9-494c-f98b-d3b6c95ba8f0"
      },
      "execution_count": 32,
      "outputs": [
        {
          "output_type": "execute_result",
          "data": {
            "text/plain": [
              "[('de', 34),\n",
              " ('o', 26),\n",
              " ('a', 23),\n",
              " ('e', 21),\n",
              " ('para', 16),\n",
              " ('jardas', 15),\n",
              " ('do', 12)]"
            ]
          },
          "metadata": {},
          "execution_count": 32
        }
      ]
    },
    {
      "cell_type": "markdown",
      "source": [
        "> Tokens não interessantes (**StopWords**)"
      ],
      "metadata": {
        "id": "LXTQzmF9ge8h"
      }
    },
    {
      "cell_type": "code",
      "source": [
        "# Acessando a lista de StopWords do NLTK para PT-BR\n",
        "stopwords = nltk.corpus.stopwords.words('portuguese')\n",
        "stopwords[:7]"
      ],
      "metadata": {
        "colab": {
          "base_uri": "https://localhost:8080/"
        },
        "id": "TEEoWV0Sgnmy",
        "outputId": "fd30ee60-503b-4240-c99a-bdfd6cbb305f"
      },
      "execution_count": 33,
      "outputs": [
        {
          "output_type": "execute_result",
          "data": {
            "text/plain": [
              "['a', 'à', 'ao', 'aos', 'aquela', 'aquelas', 'aquele']"
            ]
          },
          "metadata": {},
          "execution_count": 33
        }
      ]
    },
    {
      "cell_type": "code",
      "source": [
        "tokenizer = RegexpTokenizer(r'[A-z]\\w*')\n",
        "tokens = tokenizer.tokenize(ct)\n",
        "\n",
        "# Lista com tokens convertidos para maiusculo\n",
        "nv_lista = []\n",
        "\n",
        "# Deixar em minusculo\n",
        "for token in tokens:\n",
        "  if token.lower() not in stopwords:\n",
        "    nv_lista.append(token.lower())\n",
        "\n",
        "freq2 = nltk.FreqDist(nv_lista)\n",
        "freq2.most_common()[:7]"
      ],
      "metadata": {
        "colab": {
          "base_uri": "https://localhost:8080/"
        },
        "id": "qbejoQTLigWw",
        "outputId": "29b0f18a-0a45-4fc1-97c2-f4e5a69c44a4"
      },
      "execution_count": 34,
      "outputs": [
        {
          "output_type": "execute_result",
          "data": {
            "text/plain": [
              "[('jardas', 15),\n",
              " ('giants', 11),\n",
              " ('patriots', 10),\n",
              " ('manning', 10),\n",
              " ('linha', 10),\n",
              " ('bola', 7),\n",
              " ('vez', 6)]"
            ]
          },
          "metadata": {},
          "execution_count": 34
        }
      ]
    },
    {
      "cell_type": "code",
      "source": [
        "# Com list Comprehension"
      ],
      "metadata": {
        "id": "79gJU5b5igJ7"
      },
      "execution_count": null,
      "outputs": []
    },
    {
      "cell_type": "code",
      "source": [
        "# [Ação feita para cada Token dentro de Tokens, se cada um não estiver nas stopwords]\n",
        "# Deixar em minusculo\n",
        " [token.lower() for token in tokens if token.lower() not in stopwords]"
      ],
      "metadata": {
        "colab": {
          "base_uri": "https://localhost:8080/"
        },
        "id": "GkHFm0QcjO-P",
        "outputId": "dd6aadc5-dfa3-4db3-b484-48a8b30b73b9"
      },
      "execution_count": null,
      "outputs": [
        {
          "output_type": "execute_result",
          "data": {
            "text/plain": [
              "['giants',\n",
              " 'batem',\n",
              " 'patriots',\n",
              " 'super',\n",
              " 'bowl',\n",
              " 'xlii',\n",
              " 'azarões',\n",
              " 'acabam',\n",
              " 'invencibilidade',\n",
              " 'new',\n",
              " 'england',\n",
              " 'ficam',\n",
              " 'título',\n",
              " 'temporada',\n",
              " 'h07m',\n",
              " 'atualizado',\n",
              " 'h49m',\n",
              " 'passe',\n",
              " 'eli',\n",
              " 'manning',\n",
              " 'plaxico',\n",
              " 'burress',\n",
              " 'segundos',\n",
              " 'fim',\n",
              " 'new',\n",
              " 'york',\n",
              " 'giants',\n",
              " 'anotou',\n",
              " 'touchdown',\n",
              " 'decisivo',\n",
              " 'derrubou',\n",
              " 'favorito',\n",
              " 'new',\n",
              " 'england',\n",
              " 'patriots',\n",
              " 'neste',\n",
              " 'domingo',\n",
              " 'glendale',\n",
              " 'super',\n",
              " 'bowl',\n",
              " 'xlii',\n",
              " 'resultado',\n",
              " 'maiores',\n",
              " 'zebras',\n",
              " 'história',\n",
              " 'super',\n",
              " 'bowl',\n",
              " 'acabou',\n",
              " 'temporada',\n",
              " 'perfeita',\n",
              " 'tom',\n",
              " 'brady',\n",
              " 'companhia',\n",
              " 'esperavam',\n",
              " 'fazer',\n",
              " 'história',\n",
              " 'levantar',\n",
              " 'troféu',\n",
              " 'nfl',\n",
              " 'sofrer',\n",
              " 'derrota',\n",
              " 'ano',\n",
              " 'vitória',\n",
              " 'giants',\n",
              " 'porém',\n",
              " 'ficará',\n",
              " 'história',\n",
              " 'primeira',\n",
              " 'vez',\n",
              " 'irmãos',\n",
              " 'quarterbacks',\n",
              " 'triunfam',\n",
              " 'super',\n",
              " 'bowl',\n",
              " 'temporadas',\n",
              " 'consecutivas',\n",
              " 'ano',\n",
              " 'passado',\n",
              " 'peyton',\n",
              " 'manning',\n",
              " 'irmão',\n",
              " 'eli',\n",
              " 'chegou',\n",
              " 'título',\n",
              " 'máximo',\n",
              " 'nfl',\n",
              " 'indianapolis',\n",
              " 'colts',\n",
              " 'partida',\n",
              " 'giants',\n",
              " 'começaram',\n",
              " 'posse',\n",
              " 'bola',\n",
              " 'mostraram',\n",
              " 'logo',\n",
              " 'iriam',\n",
              " 'alongar',\n",
              " 'máximo',\n",
              " 'posses',\n",
              " 'bola',\n",
              " 'misturando',\n",
              " 'corridas',\n",
              " 'brandon',\n",
              " 'jacobs',\n",
              " 'passes',\n",
              " 'curtos',\n",
              " 'time',\n",
              " 'nova',\n",
              " 'york',\n",
              " 'chegou',\n",
              " 'red',\n",
              " 'zone',\n",
              " 'logo',\n",
              " 'primeira',\n",
              " 'campanha',\n",
              " 'avanço',\n",
              " 'entanto',\n",
              " 'parou',\n",
              " 'linha',\n",
              " 'jardas',\n",
              " 'lawrence',\n",
              " 'tynes',\n",
              " 'converteu',\n",
              " 'field',\n",
              " 'goal',\n",
              " 'jardas',\n",
              " 'abrir',\n",
              " 'placar',\n",
              " 'eli',\n",
              " 'manning',\n",
              " 'companhia',\n",
              " 'ficaram',\n",
              " 'm54s',\n",
              " 'bola',\n",
              " 'ataque',\n",
              " 'patriots',\n",
              " 'entrou',\n",
              " 'campo',\n",
              " 'frio',\n",
              " 'logo',\n",
              " 'retorno',\n",
              " 'kickoff',\n",
              " 'running',\n",
              " 'back',\n",
              " 'laurence',\n",
              " 'maroney',\n",
              " 'avançou',\n",
              " 'jardas',\n",
              " 'deixando',\n",
              " 'tom',\n",
              " 'brady',\n",
              " 'boa',\n",
              " 'posição',\n",
              " 'passes',\n",
              " 'curtos',\n",
              " 'patriots',\n",
              " 'chegaram',\n",
              " 'linha',\n",
              " 'jardas',\n",
              " 'graças',\n",
              " 'penalidade',\n",
              " 'interferência',\n",
              " 'passe',\n",
              " 'linebacker',\n",
              " 'antonio',\n",
              " 'pierce',\n",
              " 'alcançaram',\n",
              " 'linha',\n",
              " 'jarda',\n",
              " 'maroney',\n",
              " 'avançou',\n",
              " 'chão',\n",
              " 'anotou',\n",
              " 'primeiro',\n",
              " 'touchdown',\n",
              " 'jogo',\n",
              " 'giants',\n",
              " 'pareciam',\n",
              " 'rumo',\n",
              " 'virada',\n",
              " 'campanha',\n",
              " 'seguinte',\n",
              " 'manning',\n",
              " 'achou',\n",
              " 'amani',\n",
              " 'toomer',\n",
              " 'avanço',\n",
              " 'jardas',\n",
              " 'time',\n",
              " 'nova',\n",
              " 'york',\n",
              " 'entrou',\n",
              " 'novamente',\n",
              " 'red',\n",
              " 'zone',\n",
              " 'bola',\n",
              " 'linha',\n",
              " 'jardas',\n",
              " 'patriots',\n",
              " 'giants',\n",
              " 'sofreram',\n",
              " 'revés',\n",
              " 'manning',\n",
              " 'passou',\n",
              " 'steve',\n",
              " 'smith',\n",
              " 'soltou',\n",
              " 'bola',\n",
              " 'ellis',\n",
              " 'hobbs',\n",
              " 'aproveitou',\n",
              " 'tomou',\n",
              " 'posse',\n",
              " 'patriots',\n",
              " 'avançou',\n",
              " 'jardas',\n",
              " 'defesa',\n",
              " 'nova',\n",
              " 'york',\n",
              " 'manteve',\n",
              " 'jogo',\n",
              " 'equilibrado',\n",
              " 'dois',\n",
              " 'sacks',\n",
              " 'seguidos',\n",
              " 'giants',\n",
              " 'forçaram',\n",
              " 'punt',\n",
              " 'recuperaram',\n",
              " 'bola',\n",
              " 'campanha',\n",
              " 'seguinte',\n",
              " 'provou',\n",
              " 'outra',\n",
              " 'decepção',\n",
              " 'nova',\n",
              " 'york',\n",
              " 'time',\n",
              " 'chegou',\n",
              " 'linha',\n",
              " 'jardas',\n",
              " 'manning',\n",
              " 'sofreu',\n",
              " 'sack',\n",
              " 'cometeu',\n",
              " 'fumble',\n",
              " 'ataque',\n",
              " 'voltou',\n",
              " 'linha',\n",
              " 'jardas',\n",
              " 'conseguindo',\n",
              " 'pontuar',\n",
              " 'vez',\n",
              " 'patriots',\n",
              " 'ltima',\n",
              " 'chance',\n",
              " 'marcar',\n",
              " 'antes',\n",
              " 'intervalo',\n",
              " 'segundos',\n",
              " 'fim',\n",
              " 'segundo',\n",
              " 'período',\n",
              " 'brady',\n",
              " 'novamente',\n",
              " 'sacado',\n",
              " 'desta',\n",
              " 'vez',\n",
              " 'cometeu',\n",
              " 'fumble',\n",
              " 'giants',\n",
              " 'tomaram',\n",
              " 'posse',\n",
              " 'bola',\n",
              " 'manning',\n",
              " 'tentou',\n",
              " 'passe',\n",
              " 'longo',\n",
              " 'jardas',\n",
              " 'ltimos',\n",
              " 'segundos',\n",
              " 'sucesso',\n",
              " 'jogo',\n",
              " 'continuou',\n",
              " 'amarrado',\n",
              " 'terceiro',\n",
              " 'quarto',\n",
              " 'defesas',\n",
              " 'levando',\n",
              " 'melhor',\n",
              " 'sobre',\n",
              " 'ataques',\n",
              " 'nica',\n",
              " 'chance',\n",
              " 'pontuar',\n",
              " 'período',\n",
              " 'patriots',\n",
              " 'chegaram',\n",
              " 'linha',\n",
              " 'jardas',\n",
              " 'giants',\n",
              " 'técnico',\n",
              " 'bill',\n",
              " 'bellichick',\n",
              " 'porém',\n",
              " 'optou',\n",
              " 'quarta',\n",
              " 'descida',\n",
              " 'vez',\n",
              " 'field',\n",
              " 'goal',\n",
              " 'brady',\n",
              " 'tentou',\n",
              " 'passe',\n",
              " 'jabar',\n",
              " 'gaffney',\n",
              " 'conseguiu',\n",
              " 'completar',\n",
              " 'ltimo',\n",
              " 'período',\n",
              " 'começou',\n",
              " 'arrasador',\n",
              " 'giants',\n",
              " 'primeira',\n",
              " 'jogada',\n",
              " 'manning',\n",
              " 'achou',\n",
              " 'tight',\n",
              " 'end',\n",
              " 'kevin',\n",
              " 'boss',\n",
              " 'incrível',\n",
              " 'avanço',\n",
              " 'jardas',\n",
              " 'deixou',\n",
              " 'time',\n",
              " 'linha',\n",
              " 'patriots',\n",
              " 'outro',\n",
              " 'lançamento',\n",
              " 'desta',\n",
              " 'vez',\n",
              " 'steve',\n",
              " 'smith',\n",
              " 'marcou',\n",
              " 'avanço',\n",
              " 'linha',\n",
              " 'jardas',\n",
              " 'duas',\n",
              " 'jogadas',\n",
              " 'david',\n",
              " 'tyree',\n",
              " 'pegou',\n",
              " 'passe',\n",
              " 'cinco',\n",
              " 'jardas',\n",
              " 'end',\n",
              " 'zone',\n",
              " 'anotar',\n",
              " 'touchdown',\n",
              " 'virar',\n",
              " 'jogo',\n",
              " 'hora',\n",
              " 'decisão',\n",
              " 'ataque',\n",
              " 'patriots',\n",
              " 'voltou',\n",
              " 'funcionar',\n",
              " 'série',\n",
              " 'passes',\n",
              " 'curtos',\n",
              " 'variados',\n",
              " 'brady',\n",
              " 'achou',\n",
              " 'wes',\n",
              " 'welker',\n",
              " 'randy',\n",
              " 'moss',\n",
              " 'kevin',\n",
              " 'faulk',\n",
              " 'seguidas',\n",
              " 'vezes',\n",
              " 'chegar',\n",
              " 'red',\n",
              " 'zone',\n",
              " 'm45s',\n",
              " 'fim',\n",
              " 'quarterback',\n",
              " 'conectou',\n",
              " 'vez',\n",
              " 'moss',\n",
              " 'desmarcou',\n",
              " 'ficou',\n",
              " 'livre',\n",
              " 'lateral',\n",
              " 'direita',\n",
              " 'end',\n",
              " 'zone',\n",
              " 'fãs',\n",
              " 'new',\n",
              " 'england',\n",
              " 'comemoravam',\n",
              " 'vitória',\n",
              " 'inesperado',\n",
              " 'aconteceu',\n",
              " 'jogada',\n",
              " 'incrível',\n",
              " 'eli',\n",
              " 'manning',\n",
              " 'soltou',\n",
              " 'dois',\n",
              " 'marcadores',\n",
              " 'seguravam',\n",
              " 'camisa',\n",
              " 'corrida',\n",
              " 'lançou',\n",
              " 'amani',\n",
              " 'toomer',\n",
              " 'wide',\n",
              " 'receiver',\n",
              " 'bem',\n",
              " 'marcado',\n",
              " 'saltou',\n",
              " 'conseguiu',\n",
              " 'fazer',\n",
              " 'recepção',\n",
              " 'avanço',\n",
              " 'jardas',\n",
              " 'deixando',\n",
              " 'giants',\n",
              " 'linha',\n",
              " 'new',\n",
              " 'england',\n",
              " 'quatro',\n",
              " 'jogadas',\n",
              " 'segundos',\n",
              " 'fim',\n",
              " 'manning',\n",
              " 'achou',\n",
              " 'plaxico',\n",
              " 'burress',\n",
              " 'end',\n",
              " 'zone',\n",
              " 'conseguir',\n",
              " 'touchdown',\n",
              " 'título']"
            ]
          },
          "metadata": {},
          "execution_count": 80
        }
      ]
    }
  ]
}