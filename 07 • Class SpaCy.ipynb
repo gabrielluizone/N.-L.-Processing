{
 "cells": [
  {
   "cell_type": "markdown",
   "id": "132ece01",
   "metadata": {},
   "source": [
    "## Classificação de Testeo | SpaCy\n",
    "-  LNProcessing\n",
    "\n",
    "**março, 20 2023**"
   ]
  },
  {
   "cell_type": "code",
   "execution_count": 6,
   "id": "611a6f9c",
   "metadata": {
    "collapsed": true
   },
   "outputs": [
    {
     "name": "stdout",
     "output_type": "stream",
     "text": [
      "Defaulting to user installation because normal site-packages is not writeable\n",
      "Requirement already satisfied: seaborn==0.10.0 in c:\\users\\lab52\\appdata\\roaming\\python\\python39\\site-packages (0.10.0)\n",
      "Requirement already satisfied: matplotlib>=2.1.2 in c:\\programdata\\anaconda3\\lib\\site-packages (from seaborn==0.10.0) (3.5.2)\n",
      "Requirement already satisfied: numpy>=1.13.3 in c:\\programdata\\anaconda3\\lib\\site-packages (from seaborn==0.10.0) (1.21.5)\n",
      "Requirement already satisfied: pandas>=0.22.0 in c:\\programdata\\anaconda3\\lib\\site-packages (from seaborn==0.10.0) (1.4.4)\n",
      "Requirement already satisfied: scipy>=1.0.1 in c:\\programdata\\anaconda3\\lib\\site-packages (from seaborn==0.10.0) (1.9.1)\n",
      "Requirement already satisfied: cycler>=0.10 in c:\\programdata\\anaconda3\\lib\\site-packages (from matplotlib>=2.1.2->seaborn==0.10.0) (0.11.0)\n",
      "Requirement already satisfied: kiwisolver>=1.0.1 in c:\\programdata\\anaconda3\\lib\\site-packages (from matplotlib>=2.1.2->seaborn==0.10.0) (1.4.2)\n",
      "Requirement already satisfied: fonttools>=4.22.0 in c:\\programdata\\anaconda3\\lib\\site-packages (from matplotlib>=2.1.2->seaborn==0.10.0) (4.25.0)\n",
      "Requirement already satisfied: pillow>=6.2.0 in c:\\programdata\\anaconda3\\lib\\site-packages (from matplotlib>=2.1.2->seaborn==0.10.0) (9.2.0)\n",
      "Requirement already satisfied: pyparsing>=2.2.1 in c:\\programdata\\anaconda3\\lib\\site-packages (from matplotlib>=2.1.2->seaborn==0.10.0) (3.0.9)\n",
      "Requirement already satisfied: python-dateutil>=2.7 in c:\\programdata\\anaconda3\\lib\\site-packages (from matplotlib>=2.1.2->seaborn==0.10.0) (2.8.2)\n",
      "Requirement already satisfied: packaging>=20.0 in c:\\programdata\\anaconda3\\lib\\site-packages (from matplotlib>=2.1.2->seaborn==0.10.0) (21.3)\n",
      "Requirement already satisfied: pytz>=2020.1 in c:\\programdata\\anaconda3\\lib\\site-packages (from pandas>=0.22.0->seaborn==0.10.0) (2022.1)\n",
      "Requirement already satisfied: six>=1.5 in c:\\programdata\\anaconda3\\lib\\site-packages (from python-dateutil>=2.7->matplotlib>=2.1.2->seaborn==0.10.0) (1.16.0)\n",
      "Defaulting to user installation because normal site-packages is not writeable\n",
      "Collecting spacy\n",
      "  Downloading spacy-3.7.4-cp39-cp39-win_amd64.whl (12.2 MB)\n",
      "     ---------------------------------------- 12.2/12.2 MB 7.4 MB/s eta 0:00:00\n",
      "Collecting preshed<3.1.0,>=3.0.2\n",
      "  Downloading preshed-3.0.9-cp39-cp39-win_amd64.whl (122 kB)\n",
      "     -------------------------------------- 122.7/122.7 kB 7.0 MB/s eta 0:00:00\n",
      "Collecting typer<0.10.0,>=0.3.0\n",
      "  Using cached typer-0.9.0-py3-none-any.whl (45 kB)\n",
      "Collecting spacy-legacy<3.1.0,>=3.0.11\n",
      "  Using cached spacy_legacy-3.0.12-py2.py3-none-any.whl (29 kB)\n",
      "Collecting catalogue<2.1.0,>=2.0.6\n",
      "  Using cached catalogue-2.0.10-py3-none-any.whl (17 kB)\n",
      "Collecting pydantic!=1.8,!=1.8.1,<3.0.0,>=1.7.4\n",
      "  Using cached pydantic-2.6.4-py3-none-any.whl (394 kB)\n",
      "Requirement already satisfied: jinja2 in c:\\programdata\\anaconda3\\lib\\site-packages (from spacy) (2.11.3)\n",
      "Collecting murmurhash<1.1.0,>=0.28.0\n",
      "  Downloading murmurhash-1.0.10-cp39-cp39-win_amd64.whl (25 kB)\n",
      "Collecting srsly<3.0.0,>=2.4.3\n",
      "  Downloading srsly-2.4.8-cp39-cp39-win_amd64.whl (483 kB)\n",
      "     ------------------------------------- 483.8/483.8 kB 10.1 MB/s eta 0:00:00\n",
      "Requirement already satisfied: packaging>=20.0 in c:\\programdata\\anaconda3\\lib\\site-packages (from spacy) (21.3)\n",
      "Requirement already satisfied: numpy>=1.19.0 in c:\\programdata\\anaconda3\\lib\\site-packages (from spacy) (1.21.5)\n",
      "Collecting weasel<0.4.0,>=0.1.0\n",
      "  Using cached weasel-0.3.4-py3-none-any.whl (50 kB)\n",
      "Requirement already satisfied: requests<3.0.0,>=2.13.0 in c:\\programdata\\anaconda3\\lib\\site-packages (from spacy) (2.28.1)\n",
      "Collecting wasabi<1.2.0,>=0.9.1\n",
      "  Using cached wasabi-1.1.2-py3-none-any.whl (27 kB)\n",
      "Requirement already satisfied: smart-open<7.0.0,>=5.2.1 in c:\\programdata\\anaconda3\\lib\\site-packages (from spacy) (5.2.1)\n",
      "Collecting langcodes<4.0.0,>=3.2.0\n",
      "  Using cached langcodes-3.3.0-py3-none-any.whl (181 kB)\n",
      "Collecting cymem<2.1.0,>=2.0.2\n",
      "  Downloading cymem-2.0.8-cp39-cp39-win_amd64.whl (39 kB)\n",
      "Requirement already satisfied: tqdm<5.0.0,>=4.38.0 in c:\\programdata\\anaconda3\\lib\\site-packages (from spacy) (4.64.1)\n",
      "Collecting spacy-loggers<2.0.0,>=1.0.0\n",
      "  Using cached spacy_loggers-1.0.5-py3-none-any.whl (22 kB)\n",
      "Requirement already satisfied: setuptools in c:\\programdata\\anaconda3\\lib\\site-packages (from spacy) (63.4.1)\n",
      "Collecting thinc<8.3.0,>=8.2.2\n",
      "  Downloading thinc-8.2.3-cp39-cp39-win_amd64.whl (1.5 MB)\n",
      "     ---------------------------------------- 1.5/1.5 MB 11.9 MB/s eta 0:00:00\n",
      "Requirement already satisfied: pyparsing!=3.0.5,>=2.0.2 in c:\\programdata\\anaconda3\\lib\\site-packages (from packaging>=20.0->spacy) (3.0.9)\n",
      "Collecting annotated-types>=0.4.0\n",
      "  Using cached annotated_types-0.6.0-py3-none-any.whl (12 kB)\n",
      "Collecting typing-extensions>=4.6.1\n",
      "  Using cached typing_extensions-4.10.0-py3-none-any.whl (33 kB)\n",
      "Collecting pydantic-core==2.16.3\n",
      "  Downloading pydantic_core-2.16.3-cp39-none-win_amd64.whl (1.9 MB)\n",
      "     ---------------------------------------- 1.9/1.9 MB 8.5 MB/s eta 0:00:00\n",
      "Requirement already satisfied: idna<4,>=2.5 in c:\\programdata\\anaconda3\\lib\\site-packages (from requests<3.0.0,>=2.13.0->spacy) (3.3)\n",
      "Requirement already satisfied: charset-normalizer<3,>=2 in c:\\programdata\\anaconda3\\lib\\site-packages (from requests<3.0.0,>=2.13.0->spacy) (2.0.4)\n",
      "Requirement already satisfied: certifi>=2017.4.17 in c:\\programdata\\anaconda3\\lib\\site-packages (from requests<3.0.0,>=2.13.0->spacy) (2022.9.14)\n",
      "Requirement already satisfied: urllib3<1.27,>=1.21.1 in c:\\programdata\\anaconda3\\lib\\site-packages (from requests<3.0.0,>=2.13.0->spacy) (1.26.11)\n",
      "Collecting blis<0.8.0,>=0.7.8\n",
      "  Downloading blis-0.7.11-cp39-cp39-win_amd64.whl (6.6 MB)\n",
      "     ---------------------------------------- 6.6/6.6 MB 7.8 MB/s eta 0:00:00\n",
      "Collecting confection<1.0.0,>=0.0.1\n",
      "  Using cached confection-0.1.4-py3-none-any.whl (35 kB)\n",
      "Requirement already satisfied: colorama in c:\\programdata\\anaconda3\\lib\\site-packages (from tqdm<5.0.0,>=4.38.0->spacy) (0.4.5)\n",
      "Requirement already satisfied: click<9.0.0,>=7.1.1 in c:\\programdata\\anaconda3\\lib\\site-packages (from typer<0.10.0,>=0.3.0->spacy) (8.0.4)\n",
      "Collecting colorama\n",
      "  Using cached colorama-0.4.6-py2.py3-none-any.whl (25 kB)\n",
      "Collecting cloudpathlib<0.17.0,>=0.7.0\n",
      "  Using cached cloudpathlib-0.16.0-py3-none-any.whl (45 kB)\n",
      "Requirement already satisfied: MarkupSafe>=0.23 in c:\\programdata\\anaconda3\\lib\\site-packages (from jinja2->spacy) (2.0.1)\n",
      "Installing collected packages: cymem, typing-extensions, spacy-loggers, spacy-legacy, murmurhash, langcodes, colorama, catalogue, blis, annotated-types, wasabi, srsly, pydantic-core, preshed, cloudpathlib, typer, pydantic, confection, weasel, thinc, spacy\n",
      "Successfully installed annotated-types-0.6.0 blis-0.7.11 catalogue-2.0.10 cloudpathlib-0.16.0 colorama-0.4.6 confection-0.1.4 cymem-2.0.8 langcodes-3.3.0 murmurhash-1.0.10 preshed-3.0.9 pydantic-2.6.4 pydantic-core-2.16.3 spacy-3.7.4 spacy-legacy-3.0.12 spacy-loggers-1.0.5 srsly-2.4.8 thinc-8.2.3 typer-0.9.0 typing-extensions-4.10.0 wasabi-1.1.2 weasel-0.3.4\n"
     ]
    },
    {
     "name": "stderr",
     "output_type": "stream",
     "text": [
      "  WARNING: The script weasel.exe is installed in 'C:\\Users\\lab52\\AppData\\Roaming\\Python\\Python39\\Scripts' which is not on PATH.\n",
      "  Consider adding this directory to PATH or, if you prefer to suppress this warning, use --no-warn-script-location.\n",
      "  WARNING: The script spacy.exe is installed in 'C:\\Users\\lab52\\AppData\\Roaming\\Python\\Python39\\Scripts' which is not on PATH.\n",
      "  Consider adding this directory to PATH or, if you prefer to suppress this warning, use --no-warn-script-location.\n",
      "ERROR: pip's dependency resolver does not currently take into account all the packages that are installed. This behaviour is the source of the following dependency conflicts.\n",
      "anaconda-project 0.11.1 requires ruamel-yaml, which is not installed.\n"
     ]
    },
    {
     "data": {
      "text/plain": [
       "'3.7.4'"
      ]
     },
     "execution_count": 6,
     "metadata": {},
     "output_type": "execute_result"
    }
   ],
   "source": [
    "!pip install seaborn==0.10.0\n",
    "!pip install spacy\n",
    "\n",
    "import spacy\n",
    "spacy.__version__"
   ]
  },
  {
   "cell_type": "code",
   "execution_count": 7,
   "id": "5405ffa5",
   "metadata": {},
   "outputs": [],
   "source": [
    "# Temporário por problemas no Colab\n",
    "import locale\n",
    "def getpreferredencoding(do_setlocale = True):\n",
    "    return \"UTF-8\"\n",
    "locale.getpreferredencoding = getpreferredencoding"
   ]
  },
  {
   "cell_type": "code",
   "execution_count": 8,
   "id": "beac0d04",
   "metadata": {
    "collapsed": true
   },
   "outputs": [
    {
     "name": "stdout",
     "output_type": "stream",
     "text": [
      "Defaulting to user installation because normal site-packages is not writeable\n",
      "Collecting pt-core-news-sm==3.7.0\n",
      "  Downloading https://github.com/explosion/spacy-models/releases/download/pt_core_news_sm-3.7.0/pt_core_news_sm-3.7.0-py3-none-any.whl (13.0 MB)\n",
      "     ---------------------------------------- 13.0/13.0 MB 8.6 MB/s eta 0:00:00\n",
      "Requirement already satisfied: spacy<3.8.0,>=3.7.0 in c:\\users\\lab52\\appdata\\roaming\\python\\python39\\site-packages (from pt-core-news-sm==3.7.0) (3.7.4)\n",
      "Requirement already satisfied: spacy-loggers<2.0.0,>=1.0.0 in c:\\users\\lab52\\appdata\\roaming\\python\\python39\\site-packages (from spacy<3.8.0,>=3.7.0->pt-core-news-sm==3.7.0) (1.0.5)\n",
      "Requirement already satisfied: tqdm<5.0.0,>=4.38.0 in c:\\programdata\\anaconda3\\lib\\site-packages (from spacy<3.8.0,>=3.7.0->pt-core-news-sm==3.7.0) (4.64.1)\n",
      "Requirement already satisfied: cymem<2.1.0,>=2.0.2 in c:\\users\\lab52\\appdata\\roaming\\python\\python39\\site-packages (from spacy<3.8.0,>=3.7.0->pt-core-news-sm==3.7.0) (2.0.8)\n",
      "Requirement already satisfied: packaging>=20.0 in c:\\programdata\\anaconda3\\lib\\site-packages (from spacy<3.8.0,>=3.7.0->pt-core-news-sm==3.7.0) (21.3)\n",
      "Requirement already satisfied: typer<0.10.0,>=0.3.0 in c:\\users\\lab52\\appdata\\roaming\\python\\python39\\site-packages (from spacy<3.8.0,>=3.7.0->pt-core-news-sm==3.7.0) (0.9.0)\n",
      "Requirement already satisfied: weasel<0.4.0,>=0.1.0 in c:\\users\\lab52\\appdata\\roaming\\python\\python39\\site-packages (from spacy<3.8.0,>=3.7.0->pt-core-news-sm==3.7.0) (0.3.4)\n",
      "Requirement already satisfied: preshed<3.1.0,>=3.0.2 in c:\\users\\lab52\\appdata\\roaming\\python\\python39\\site-packages (from spacy<3.8.0,>=3.7.0->pt-core-news-sm==3.7.0) (3.0.9)\n",
      "Requirement already satisfied: setuptools in c:\\programdata\\anaconda3\\lib\\site-packages (from spacy<3.8.0,>=3.7.0->pt-core-news-sm==3.7.0) (63.4.1)\n",
      "Requirement already satisfied: requests<3.0.0,>=2.13.0 in c:\\programdata\\anaconda3\\lib\\site-packages (from spacy<3.8.0,>=3.7.0->pt-core-news-sm==3.7.0) (2.28.1)\n",
      "Requirement already satisfied: pydantic!=1.8,!=1.8.1,<3.0.0,>=1.7.4 in c:\\users\\lab52\\appdata\\roaming\\python\\python39\\site-packages (from spacy<3.8.0,>=3.7.0->pt-core-news-sm==3.7.0) (2.6.4)\n",
      "Requirement already satisfied: thinc<8.3.0,>=8.2.2 in c:\\users\\lab52\\appdata\\roaming\\python\\python39\\site-packages (from spacy<3.8.0,>=3.7.0->pt-core-news-sm==3.7.0) (8.2.3)\n",
      "Requirement already satisfied: murmurhash<1.1.0,>=0.28.0 in c:\\users\\lab52\\appdata\\roaming\\python\\python39\\site-packages (from spacy<3.8.0,>=3.7.0->pt-core-news-sm==3.7.0) (1.0.10)\n",
      "Requirement already satisfied: smart-open<7.0.0,>=5.2.1 in c:\\programdata\\anaconda3\\lib\\site-packages (from spacy<3.8.0,>=3.7.0->pt-core-news-sm==3.7.0) (5.2.1)\n",
      "Requirement already satisfied: catalogue<2.1.0,>=2.0.6 in c:\\users\\lab52\\appdata\\roaming\\python\\python39\\site-packages (from spacy<3.8.0,>=3.7.0->pt-core-news-sm==3.7.0) (2.0.10)\n",
      "Requirement already satisfied: spacy-legacy<3.1.0,>=3.0.11 in c:\\users\\lab52\\appdata\\roaming\\python\\python39\\site-packages (from spacy<3.8.0,>=3.7.0->pt-core-news-sm==3.7.0) (3.0.12)\n",
      "Requirement already satisfied: langcodes<4.0.0,>=3.2.0 in c:\\users\\lab52\\appdata\\roaming\\python\\python39\\site-packages (from spacy<3.8.0,>=3.7.0->pt-core-news-sm==3.7.0) (3.3.0)\n",
      "Requirement already satisfied: wasabi<1.2.0,>=0.9.1 in c:\\users\\lab52\\appdata\\roaming\\python\\python39\\site-packages (from spacy<3.8.0,>=3.7.0->pt-core-news-sm==3.7.0) (1.1.2)\n",
      "Requirement already satisfied: srsly<3.0.0,>=2.4.3 in c:\\users\\lab52\\appdata\\roaming\\python\\python39\\site-packages (from spacy<3.8.0,>=3.7.0->pt-core-news-sm==3.7.0) (2.4.8)\n",
      "Requirement already satisfied: jinja2 in c:\\programdata\\anaconda3\\lib\\site-packages (from spacy<3.8.0,>=3.7.0->pt-core-news-sm==3.7.0) (2.11.3)\n",
      "Requirement already satisfied: numpy>=1.19.0 in c:\\programdata\\anaconda3\\lib\\site-packages (from spacy<3.8.0,>=3.7.0->pt-core-news-sm==3.7.0) (1.21.5)\n",
      "Requirement already satisfied: pyparsing!=3.0.5,>=2.0.2 in c:\\programdata\\anaconda3\\lib\\site-packages (from packaging>=20.0->spacy<3.8.0,>=3.7.0->pt-core-news-sm==3.7.0) (3.0.9)\n",
      "Requirement already satisfied: pydantic-core==2.16.3 in c:\\users\\lab52\\appdata\\roaming\\python\\python39\\site-packages (from pydantic!=1.8,!=1.8.1,<3.0.0,>=1.7.4->spacy<3.8.0,>=3.7.0->pt-core-news-sm==3.7.0) (2.16.3)\n",
      "Requirement already satisfied: annotated-types>=0.4.0 in c:\\users\\lab52\\appdata\\roaming\\python\\python39\\site-packages (from pydantic!=1.8,!=1.8.1,<3.0.0,>=1.7.4->spacy<3.8.0,>=3.7.0->pt-core-news-sm==3.7.0) (0.6.0)\n",
      "Requirement already satisfied: typing-extensions>=4.6.1 in c:\\users\\lab52\\appdata\\roaming\\python\\python39\\site-packages (from pydantic!=1.8,!=1.8.1,<3.0.0,>=1.7.4->spacy<3.8.0,>=3.7.0->pt-core-news-sm==3.7.0) (4.10.0)\n",
      "Requirement already satisfied: charset-normalizer<3,>=2 in c:\\programdata\\anaconda3\\lib\\site-packages (from requests<3.0.0,>=2.13.0->spacy<3.8.0,>=3.7.0->pt-core-news-sm==3.7.0) (2.0.4)\n",
      "Requirement already satisfied: certifi>=2017.4.17 in c:\\programdata\\anaconda3\\lib\\site-packages (from requests<3.0.0,>=2.13.0->spacy<3.8.0,>=3.7.0->pt-core-news-sm==3.7.0) (2022.9.14)\n",
      "Requirement already satisfied: idna<4,>=2.5 in c:\\programdata\\anaconda3\\lib\\site-packages (from requests<3.0.0,>=2.13.0->spacy<3.8.0,>=3.7.0->pt-core-news-sm==3.7.0) (3.3)\n",
      "Requirement already satisfied: urllib3<1.27,>=1.21.1 in c:\\programdata\\anaconda3\\lib\\site-packages (from requests<3.0.0,>=2.13.0->spacy<3.8.0,>=3.7.0->pt-core-news-sm==3.7.0) (1.26.11)\n",
      "Requirement already satisfied: blis<0.8.0,>=0.7.8 in c:\\users\\lab52\\appdata\\roaming\\python\\python39\\site-packages (from thinc<8.3.0,>=8.2.2->spacy<3.8.0,>=3.7.0->pt-core-news-sm==3.7.0) (0.7.11)\n",
      "Requirement already satisfied: confection<1.0.0,>=0.0.1 in c:\\users\\lab52\\appdata\\roaming\\python\\python39\\site-packages (from thinc<8.3.0,>=8.2.2->spacy<3.8.0,>=3.7.0->pt-core-news-sm==3.7.0) (0.1.4)\n",
      "Requirement already satisfied: colorama in c:\\users\\lab52\\appdata\\roaming\\python\\python39\\site-packages (from tqdm<5.0.0,>=4.38.0->spacy<3.8.0,>=3.7.0->pt-core-news-sm==3.7.0) (0.4.6)\n",
      "Requirement already satisfied: click<9.0.0,>=7.1.1 in c:\\programdata\\anaconda3\\lib\\site-packages (from typer<0.10.0,>=0.3.0->spacy<3.8.0,>=3.7.0->pt-core-news-sm==3.7.0) (8.0.4)\n",
      "Requirement already satisfied: cloudpathlib<0.17.0,>=0.7.0 in c:\\users\\lab52\\appdata\\roaming\\python\\python39\\site-packages (from weasel<0.4.0,>=0.1.0->spacy<3.8.0,>=3.7.0->pt-core-news-sm==3.7.0) (0.16.0)\n",
      "Requirement already satisfied: MarkupSafe>=0.23 in c:\\programdata\\anaconda3\\lib\\site-packages (from jinja2->spacy<3.8.0,>=3.7.0->pt-core-news-sm==3.7.0) (2.0.1)\n",
      "Installing collected packages: pt-core-news-sm\n",
      "Successfully installed pt-core-news-sm-3.7.0\n",
      "\u001b[38;5;3m[!] As of spaCy v3.0, shortcuts like 'pt' are deprecated. Please use\n",
      "the full pipeline package name 'pt_core_news_sm' instead.\u001b[0m\n",
      "\u001b[38;5;2m[+] Download and installation successful\u001b[0m\n",
      "You can now load the package via spacy.load('pt_core_news_sm')\n"
     ]
    }
   ],
   "source": [
    "!python -m sbpacy download pt"
   ]
  },
  {
   "cell_type": "markdown",
   "id": "5504b7bf",
   "metadata": {},
   "source": [
    "### Bibliotecas e Definições"
   ]
  },
  {
   "cell_type": "code",
   "execution_count": 33,
   "id": "7ef11372",
   "metadata": {},
   "outputs": [],
   "source": [
    "pln = spacy.load('pt_core_news_sm')\n",
    "\n",
    "from spacy.lang.pt.stop_words import STOP_WORDS\n",
    "stop_words = STOP_WORDS\n",
    "\n",
    "from IPython.display import Markdown as md\n",
    "\n",
    "import pandas as pd\n",
    "import string\n",
    "import spacy\n",
    "import random\n",
    "import seaborn as sns\n",
    "import numpy as np"
   ]
  },
  {
   "cell_type": "markdown",
   "id": "4eba0359",
   "metadata": {},
   "source": [
    "### Carregamento de Dados"
   ]
  },
  {
   "cell_type": "code",
   "execution_count": 48,
   "id": "4c0b43b6",
   "metadata": {},
   "outputs": [
    {
     "data": {
      "text/html": [
       "<div>\n",
       "<style scoped>\n",
       "    .dataframe tbody tr th:only-of-type {\n",
       "        vertical-align: middle;\n",
       "    }\n",
       "\n",
       "    .dataframe tbody tr th {\n",
       "        vertical-align: top;\n",
       "    }\n",
       "\n",
       "    .dataframe thead th {\n",
       "        text-align: right;\n",
       "    }\n",
       "</style>\n",
       "<table border=\"1\" class=\"dataframe\">\n",
       "  <thead>\n",
       "    <tr style=\"text-align: right;\">\n",
       "      <th></th>\n",
       "      <th>texto</th>\n",
       "      <th>emocao</th>\n",
       "    </tr>\n",
       "  </thead>\n",
       "  <tbody>\n",
       "    <tr>\n",
       "      <th>74</th>\n",
       "      <td>vou te chamar para comemorar</td>\n",
       "      <td>alegria</td>\n",
       "    </tr>\n",
       "    <tr>\n",
       "      <th>15</th>\n",
       "      <td>amar é maravilhoso</td>\n",
       "      <td>alegria</td>\n",
       "    </tr>\n",
       "    <tr>\n",
       "      <th>98</th>\n",
       "      <td>sou querida pelos meu amigos</td>\n",
       "      <td>alegria</td>\n",
       "    </tr>\n",
       "  </tbody>\n",
       "</table>\n",
       "</div>"
      ],
      "text/plain": [
       "                           texto   emocao\n",
       "74  vou te chamar para comemorar  alegria\n",
       "15            amar é maravilhoso  alegria\n",
       "98  sou querida pelos meu amigos  alegria"
      ]
     },
     "execution_count": 48,
     "metadata": {},
     "output_type": "execute_result"
    }
   ],
   "source": [
    "db = pd.read_csv('https://raw.githubusercontent.com/gabrielluizone/NLProcessing/main/07%20%E2%80%A2%20Class%20SpaCy/dados/base_treinamento.txt')\n",
    "\n",
    "db['emocao'] = db['emocao'].astype('category')\n",
    "db.sample(3)"
   ]
  },
  {
   "cell_type": "code",
   "execution_count": 49,
   "id": "5e41a2c5",
   "metadata": {},
   "outputs": [
    {
     "data": {
      "text/plain": [
       "<AxesSubplot:xlabel='emocao', ylabel='count'>"
      ]
     },
     "execution_count": 49,
     "metadata": {},
     "output_type": "execute_result"
    },
    {
     "data": {
      "image/png": "[encoded data removed]",
      "text/plain": [
       "<Figure size 640x480 with 1 Axes>"
      ]
     },
     "metadata": {},
     "output_type": "display_data"
    }
   ],
   "source": [
    "sns.countplot(db['emocao'], label='Contagem')"
   ]
  },
  {
   "cell_type": "markdown",
   "id": "52f05f11",
   "metadata": {},
   "source": [
    "### Função | Pré-processamento de Textos"
   ]
  },
  {
   "cell_type": "code",
   "execution_count": 50,
   "id": "e50754a8",
   "metadata": {},
   "outputs": [
    {
     "data": {
      "text/plain": [
       "'!\"#$%&\\'()*+,-./:;<=>?@[\\\\]^_`{|}~'"
      ]
     },
     "execution_count": 50,
     "metadata": {},
     "output_type": "execute_result"
    }
   ],
   "source": [
    "pontuacoes = string.punctuation\n",
    "pontuacoes"
   ]
  },
  {
   "cell_type": "code",
   "execution_count": 51,
   "id": "763cec6c",
   "metadata": {},
   "outputs": [
    {
     "data": {
      "text/markdown": [
       "### Tamanho: `416`"
      ],
      "text/plain": [
       "<IPython.core.display.Markdown object>"
      ]
     },
     "metadata": {},
     "output_type": "display_data"
    },
    {
     "name": "stdout",
     "output_type": "stream",
     "text": [
      "{'ir', 'sete', 'adeus', 'acerca', 'mas', 'três', 'aos', 'mal', 'essa', 'diante', 'aí', 'vez', 'para', 'algumas', 'devem', 'cada', 'pela', 'vários', 'ao', 'enquanto', 'certeza', 'da', 'põem', 'e', 'dezoito', 'tentei', 'local', 'pouca', 'isso', 'sétimo', 'aquelas', 'estivemos', 'sei', 'umas', 'exemplo', 'meus', 'poderá', 'estivestes', 'pelas', 'faço', 'com', 'era', 'bom', 'zero', 'oitava', 'muito', 'tenho', 'menor', 'nuns', 'momento', 'aqueles', 'numa', 'ambos', 'essas', 'grandes', 'quatro', 'puderam', 'outros', 'além', 'do', 'tentaram', 'ela', 'teu', 'vêm', 'ter', 'saber', 'estas', 'alguns', 'daquela', 'sua', 'que', 'parte', 'terceira', 'assim', 'esses', 'debaixo', 'sabe', 'uma', 'nossas', 'foi', 'muitos', 'quinze', 'maiorias', 'tendes', 'agora', 'novos', 'dar', 'dizem', 'mesmo', 'uns', 'mais', 'iniciar', 'vocês', 'diz', 'vais', 'estive', 'segundo', 'lugar', 'cinco', 'cá', 'onze', 'pelo', 'vossos', 'sim', 'coisa', 'fazeis', 'também', 'vem', 'sempre', 'deve', 'até', 'maior', 'apontar', 'tipo', 'cujo', 'vosso', 'nível', 'somos', 'apoia', 'por', 'contra', 'tempo', 'des', 'quanto', 'daquele', 'usa', 'veja', 'no', 'portanto', 'dez', 'tens', 'talvez', 'neste', 'seus', 'vossas', 'à', 'sexta', 'ligado', 'oito', 'inicio', 'nada', 'tuas', 'grande', 'lado', 'vinda', 'ambas', 'teus', 'às', 'têm', 'próximo', 'corrente', 'tu', 'tive', 'outra', 'fostes', 'custa', 'falta', 'algo', 'desse', 'dos', 'estado', 'fará', 'um', 'porque', 'duas', 'tiveram', 'pegar', 'apoio', 'menos', 'maioria', 'contudo', 'as', 'sétima', 'vezes', 'vão', 'vos', 'pelos', 'conhecido', 'podem', 'dá', 'lhe', 'antes', 'meses', 'ser', 'dezassete', 'nenhuma', 'quais', 'povo', 'sob', 'geral', 'quinto', 'bastante', 'é', 'grupo', 'tivemos', 'quer', 'partir', 'deste', 'de', 'questão', 'vossa', 'meu', 'dão', 'faz', 'aquele', 'estão', 'através', 'dois', 'eles', 'quarta', 'ele', 'comprido', 'usar', 'cuja', 'nessa', 'naquele', 'logo', 'seu', 'querem', 'nossos', 'és', 'estar', 'apenas', 'qual', 'temos', 'próprio', 'tão', 'quarto', 'boa', 'posso', 'nos', 'caminho', 'se', 'favor', 'vinte', 'primeiro', 'poder', 'desta', 'estiveram', 'estes', 'doze', 'tudo', 'naquela', 'tentar', 'eventual', 'cedo', 'estiveste', 'sistema', 'você', 'forma', 'oitavo', 'fim', 'outras', 'valor', 'nunca', 'foste', 'segunda', 'tiveste', 'num', 'meio', 'tais', 'inclusive', 'catorze', 'deverá', 'quieto', 'dezanove', 'seria', 'isto', 'área', 'mil', 'elas', 'ontem', 'nove', 'quero', 'tarde', 'final', 'esse', 'na', 'breve', 'obrigada', 'ainda', 'tem', 'esta', 'este', 'terceiro', 'entre', 'obrigado', 'estás', 'os', 'relação', 'quieta', 'aqui', 'estará', 'minha', 'põe', 'sois', 'possivelmente', 'sobre', 'números', 'ou', 'tivestes', 'sou', 'certamente', 'fazia', 'das', 'aquilo', 'lá', 'for', 'ademais', 'cento', 'vós', 'irá', 'porquê', 'nova', 'ali', 'quando', 'pouco', 'embora', 'fazer', 'já', 'só', 'seis', 'tal', 'o', 'em', 'comprida', 'quinta', 'ver', 'dizer', 'todos', 'tua', 'conhecida', 'conselho', 'após', 'podia', 'fui', 'número', 'nossa', 'último', 'foram', 'tanta', 'fomos', 'estava', 'demais', 'quê', 'nem', 'está', 'quem', 'posição', 'porquanto', 'onde', 'esteve', 'fazem', 'atrás', 'primeira', 'novas', 'pode', 'baixo', 'aquela', 'dezasseis', 'nosso', 'treze', 'fora', 'nós', 'eu', 'vai', 'nesta', 'máximo', 'ora', 'todas', 'sexto', 'fazes', 'me', 'tanto', 'sem', 'a', 'então', 'longe', 'cima', 'novo', 'fazemos', 'direita', 'pois', 'vens', 'toda', 'parece', 'bem', 'são', 'fez', 'tente', 'depois', 'dessa', 'próxima', 'nesse', 'teve', 'dentro', 'estou', 'pontos', 'todo', 'mês', 'nas', 'disso', 'somente', 'perto', 'pôde', 'ponto', 'como', 'te', 'vindo', 'qualquer', 'não', 'porém', 'desde', 'minhas', 'possível', 'suas'}\n"
     ]
    }
   ],
   "source": [
    "display(md(f'### Tamanho: `{len(stop_words)}`'))\n",
    "print(stop_words)"
   ]
  },
  {
   "cell_type": "code",
   "execution_count": 52,
   "id": "282f0be4",
   "metadata": {},
   "outputs": [],
   "source": [
    "def preproc(texto):\n",
    "  texto = texto.lower()\n",
    "  documento = pln(texto)\n",
    "\n",
    "  lista = []\n",
    "  for token in documento:\n",
    "    #lista.append(token.text)\n",
    "    lista.append(token.lemma_)\n",
    "\n",
    "  lista = [palavra for palavra in lista if palavra not in stop_words and palavra not in pontuacoes]\n",
    "  lista = ' '.join([str(elemento) for elemento in lista if not elemento.isdigit()])\n",
    "\n",
    "  return lista"
   ]
  },
  {
   "cell_type": "code",
   "execution_count": 53,
   "id": "e903d9e1",
   "metadata": {},
   "outputs": [
    {
     "data": {
      "text/plain": [
       "'aprender processamento linguagem natural curso fatec'"
      ]
     },
     "execution_count": 53,
     "metadata": {},
     "output_type": "execute_result"
    }
   ],
   "source": [
    "teste = preproc('Estou aPrendendo 1 10 23 processamento de linguagem natural, Curso em Fatec')\n",
    "teste"
   ]
  },
  {
   "cell_type": "markdown",
   "id": "31085b2c",
   "metadata": {},
   "source": [
    "## `4` Pré-processamento"
   ]
  },
  {
   "cell_type": "code",
   "execution_count": 54,
   "id": "a48fd823",
   "metadata": {},
   "outputs": [
    {
     "data": {
      "text/html": [
       "<div>\n",
       "<style scoped>\n",
       "    .dataframe tbody tr th:only-of-type {\n",
       "        vertical-align: middle;\n",
       "    }\n",
       "\n",
       "    .dataframe tbody tr th {\n",
       "        vertical-align: top;\n",
       "    }\n",
       "\n",
       "    .dataframe thead th {\n",
       "        text-align: right;\n",
       "    }\n",
       "</style>\n",
       "<table border=\"1\" class=\"dataframe\">\n",
       "  <thead>\n",
       "    <tr style=\"text-align: right;\">\n",
       "      <th></th>\n",
       "      <th>texto</th>\n",
       "      <th>emocao</th>\n",
       "    </tr>\n",
       "  </thead>\n",
       "  <tbody>\n",
       "    <tr>\n",
       "      <th>0</th>\n",
       "      <td>este trabalho é agradável</td>\n",
       "      <td>alegria</td>\n",
       "    </tr>\n",
       "    <tr>\n",
       "      <th>1</th>\n",
       "      <td>gosto de ficar no seu aconchego</td>\n",
       "      <td>alegria</td>\n",
       "    </tr>\n",
       "    <tr>\n",
       "      <th>2</th>\n",
       "      <td>fiz a adesão ao curso hoje</td>\n",
       "      <td>alegria</td>\n",
       "    </tr>\n",
       "    <tr>\n",
       "      <th>3</th>\n",
       "      <td>eu sou admirada por muitos</td>\n",
       "      <td>alegria</td>\n",
       "    </tr>\n",
       "    <tr>\n",
       "      <th>4</th>\n",
       "      <td>adoro como você</td>\n",
       "      <td>alegria</td>\n",
       "    </tr>\n",
       "    <tr>\n",
       "      <th>5</th>\n",
       "      <td>adoro seu cabelo macio</td>\n",
       "      <td>alegria</td>\n",
       "    </tr>\n",
       "    <tr>\n",
       "      <th>6</th>\n",
       "      <td>adoro a cor dos seus olhos</td>\n",
       "      <td>alegria</td>\n",
       "    </tr>\n",
       "    <tr>\n",
       "      <th>7</th>\n",
       "      <td>somo tão amáveis um com o outro</td>\n",
       "      <td>alegria</td>\n",
       "    </tr>\n",
       "    <tr>\n",
       "      <th>8</th>\n",
       "      <td>sinto uma grande afeição por ele</td>\n",
       "      <td>alegria</td>\n",
       "    </tr>\n",
       "    <tr>\n",
       "      <th>9</th>\n",
       "      <td>quero agradar meus filhos</td>\n",
       "      <td>alegria</td>\n",
       "    </tr>\n",
       "  </tbody>\n",
       "</table>\n",
       "</div>"
      ],
      "text/plain": [
       "                              texto   emocao\n",
       "0         este trabalho é agradável  alegria\n",
       "1   gosto de ficar no seu aconchego  alegria\n",
       "2        fiz a adesão ao curso hoje  alegria\n",
       "3        eu sou admirada por muitos  alegria\n",
       "4                   adoro como você  alegria\n",
       "5            adoro seu cabelo macio  alegria\n",
       "6        adoro a cor dos seus olhos  alegria\n",
       "7   somo tão amáveis um com o outro  alegria\n",
       "8  sinto uma grande afeição por ele  alegria\n",
       "9         quero agradar meus filhos  alegria"
      ]
     },
     "execution_count": 54,
     "metadata": {},
     "output_type": "execute_result"
    }
   ],
   "source": [
    "db.head(10)"
   ]
  },
  {
   "cell_type": "code",
   "execution_count": 55,
   "id": "7f6aea26",
   "metadata": {},
   "outputs": [
    {
     "data": {
      "text/html": [
       "<div>\n",
       "<style scoped>\n",
       "    .dataframe tbody tr th:only-of-type {\n",
       "        vertical-align: middle;\n",
       "    }\n",
       "\n",
       "    .dataframe tbody tr th {\n",
       "        vertical-align: top;\n",
       "    }\n",
       "\n",
       "    .dataframe thead th {\n",
       "        text-align: right;\n",
       "    }\n",
       "</style>\n",
       "<table border=\"1\" class=\"dataframe\">\n",
       "  <thead>\n",
       "    <tr style=\"text-align: right;\">\n",
       "      <th></th>\n",
       "      <th>texto</th>\n",
       "      <th>emocao</th>\n",
       "    </tr>\n",
       "  </thead>\n",
       "  <tbody>\n",
       "    <tr>\n",
       "      <th>0</th>\n",
       "      <td>trabalho agradável</td>\n",
       "      <td>alegria</td>\n",
       "    </tr>\n",
       "    <tr>\n",
       "      <th>1</th>\n",
       "      <td>gosto ficar em o aconchego</td>\n",
       "      <td>alegria</td>\n",
       "    </tr>\n",
       "    <tr>\n",
       "      <th>2</th>\n",
       "      <td>fiz adesão a o curso hoje</td>\n",
       "      <td>alegria</td>\n",
       "    </tr>\n",
       "    <tr>\n",
       "      <th>3</th>\n",
       "      <td>admirar</td>\n",
       "      <td>alegria</td>\n",
       "    </tr>\n",
       "    <tr>\n",
       "      <th>4</th>\n",
       "      <td>adorar</td>\n",
       "      <td>alegria</td>\n",
       "    </tr>\n",
       "    <tr>\n",
       "      <th>5</th>\n",
       "      <td>adorar cabelo macio</td>\n",
       "      <td>alegria</td>\n",
       "    </tr>\n",
       "    <tr>\n",
       "      <th>6</th>\n",
       "      <td>adorar cor de o olho</td>\n",
       "      <td>alegria</td>\n",
       "    </tr>\n",
       "    <tr>\n",
       "      <th>7</th>\n",
       "      <td>somo amável outro</td>\n",
       "      <td>alegria</td>\n",
       "    </tr>\n",
       "    <tr>\n",
       "      <th>8</th>\n",
       "      <td>sinto afeição</td>\n",
       "      <td>alegria</td>\n",
       "    </tr>\n",
       "    <tr>\n",
       "      <th>9</th>\n",
       "      <td>querer agradar filho</td>\n",
       "      <td>alegria</td>\n",
       "    </tr>\n",
       "  </tbody>\n",
       "</table>\n",
       "</div>"
      ],
      "text/plain": [
       "                        texto   emocao\n",
       "0          trabalho agradável  alegria\n",
       "1  gosto ficar em o aconchego  alegria\n",
       "2   fiz adesão a o curso hoje  alegria\n",
       "3                     admirar  alegria\n",
       "4                      adorar  alegria\n",
       "5         adorar cabelo macio  alegria\n",
       "6        adorar cor de o olho  alegria\n",
       "7           somo amável outro  alegria\n",
       "8               sinto afeição  alegria\n",
       "9        querer agradar filho  alegria"
      ]
     },
     "execution_count": 55,
     "metadata": {},
     "output_type": "execute_result"
    }
   ],
   "source": [
    "# Aplicação do pre-processamento\n",
    "db['texto'] = db['texto'].apply(preproc)\n",
    "db.head(10)"
   ]
  },
  {
   "cell_type": "markdown",
   "id": "e355fe18",
   "metadata": {},
   "source": [
    "### Treinamento da Classe"
   ]
  },
  {
   "cell_type": "code",
   "execution_count": 56,
   "id": "e42f5598",
   "metadata": {},
   "outputs": [
    {
     "data": {
      "text/plain": [
       "{'ALEGRIA': True, 'MEDO': False}"
      ]
     },
     "execution_count": 56,
     "metadata": {},
     "output_type": "execute_result"
    }
   ],
   "source": [
    "exemplo_base_dados = [[\"este trabalho é agradável\", {\"ALEGRIA\": True, \"MEDO\": False}],\n",
    "                      [\"este lugar continua assustador\", {\"ALEGRIA\": False, \"MEDO\": True}]]\n",
    "\n",
    "exemplo_base_dados[0][1]"
   ]
  },
  {
   "cell_type": "code",
   "execution_count": 68,
   "id": "36cb96b1",
   "metadata": {},
   "outputs": [
    {
     "data": {
      "text/markdown": [
       "#### Tamanho: `392`"
      ],
      "text/plain": [
       "<IPython.core.display.Markdown object>"
      ]
     },
     "metadata": {},
     "output_type": "display_data"
    }
   ],
   "source": [
    "db_final = []\n",
    "\n",
    "for texto, emocao in zip(db['texto'], db['emocao']):\n",
    "    #print(texto, emocao)\n",
    "    if emocao == 'alegria':\n",
    "        dic = ({'ALEGRIA': True, 'MEDO': False})\n",
    "    elif emocao == 'medo':\n",
    "        dic = ({'ALEGRIA': False, 'MEDO': True})\n",
    "    \n",
    "    db_final.append([texto, dic.copy()])\n",
    "    \n",
    "display(md(f'#### Tamanho: `{len(base_dados_final)}`'))"
   ]
  },
  {
   "cell_type": "code",
   "execution_count": 67,
   "id": "c55c5f97",
   "metadata": {},
   "outputs": [
    {
     "data": {
      "text/plain": [
       "[['trabalho agradável', {'ALEGRIA': True, 'MEDO': False}],\n",
       " ['gosto ficar em o aconchego', {'ALEGRIA': True, 'MEDO': False}],\n",
       " ['fiz adesão a o curso hoje', {'ALEGRIA': True, 'MEDO': False}],\n",
       " ['admirar', {'ALEGRIA': True, 'MEDO': False}],\n",
       " ['adorar', {'ALEGRIA': True, 'MEDO': False}],\n",
       " ['adorar cabelo macio', {'ALEGRIA': True, 'MEDO': False}],\n",
       " ['adorar cor de o olho', {'ALEGRIA': True, 'MEDO': False}],\n",
       " ['somo amável outro', {'ALEGRIA': True, 'MEDO': False}],\n",
       " ['sinto afeição', {'ALEGRIA': True, 'MEDO': False}],\n",
       " ['querer agradar filho', {'ALEGRIA': True, 'MEDO': False}],\n",
       " ['sinto completamente amar', {'ALEGRIA': True, 'MEDO': False}],\n",
       " ['amo', {'ALEGRIA': True, 'MEDO': False}],\n",
       " ['alívio', {'ALEGRIA': True, 'MEDO': False}],\n",
       " ['dor amenizar finalmente', {'ALEGRIA': True, 'MEDO': False}],\n",
       " ['achar apaixoneir', {'ALEGRIA': True, 'MEDO': False}],\n",
       " ['amar maravilhoso', {'ALEGRIA': True, 'MEDO': False}],\n",
       " ['sentir animar', {'ALEGRIA': True, 'MEDO': False}],\n",
       " ['sintar hoje', {'ALEGRIA': True, 'MEDO': False}],\n",
       " ['luar belo', {'ALEGRIA': True, 'MEDO': False}],\n",
       " ['dia bonito', {'ALEGRIA': True, 'MEDO': False}],\n",
       " ['afortunar', {'ALEGRIA': True, 'MEDO': False}],\n",
       " ['maravilha de o mundo', {'ALEGRIA': True, 'MEDO': False}],\n",
       " ['recebir carinho hoje de o colega', {'ALEGRIA': True, 'MEDO': False}],\n",
       " ['sentir reconfortar hoje', {'ALEGRIA': True, 'MEDO': False}],\n",
       " ['amigo', {'ALEGRIA': True, 'MEDO': False}],\n",
       " ['contente resultado de o teste', {'ALEGRIA': True, 'MEDO': False}],\n",
       " ['pintura brilhante', {'ALEGRIA': True, 'MEDO': False}],\n",
       " ['água abundância', {'ALEGRIA': True, 'MEDO': False}],\n",
       " ['roupa delicado', {'ALEGRIA': True, 'MEDO': False}],\n",
       " ['comediante', {'ALEGRIA': True, 'MEDO': False}],\n",
       " ['bondade vir', {'ALEGRIA': True, 'MEDO': False}],\n",
       " ['amor lir', {'ALEGRIA': True, 'MEDO': False}],\n",
       " ['amizade durar', {'ALEGRIA': True, 'MEDO': False}],\n",
       " ['eufórico notícia', {'ALEGRIA': True, 'MEDO': False}],\n",
       " ['realmente fiel', {'ALEGRIA': True, 'MEDO': False}],\n",
       " ['festa comemorar aniversário', {'ALEGRIA': True, 'MEDO': False}],\n",
       " ['graças deus enxerguei certo', {'ALEGRIA': True, 'MEDO': False}],\n",
       " ['escolha', {'ALEGRIA': True, 'MEDO': False}],\n",
       " ['incrível belo', {'ALEGRIA': True, 'MEDO': False}],\n",
       " ['engraçado explicar', {'ALEGRIA': True, 'MEDO': False}],\n",
       " ['emocionante em este', {'ALEGRIA': True, 'MEDO': False}],\n",
       " ['cativar por o olhar', {'ALEGRIA': True, 'MEDO': False}],\n",
       " ['loucamente apaixonar', {'ALEGRIA': True, 'MEDO': False}],\n",
       " ['dúvida', {'ALEGRIA': True, 'MEDO': False}],\n",
       " ['rodear por o abraço', {'ALEGRIA': True, 'MEDO': False}],\n",
       " ['vejo estrela por o', {'ALEGRIA': True, 'MEDO': False}],\n",
       " ['sintar sol', {'ALEGRIA': True, 'MEDO': False}],\n",
       " ['sorrir orelha orelha', {'ALEGRIA': True, 'MEDO': False}],\n",
       " ['valer pena', {'ALEGRIA': True, 'MEDO': False}],\n",
       " ['finalmente colocar amor', {'ALEGRIA': True, 'MEDO': False}],\n",
       " ['dançar noite adentro', {'ALEGRIA': True, 'MEDO': False}],\n",
       " ['amor brilhante', {'ALEGRIA': True, 'MEDO': False}],\n",
       " ['toquei coração durante', {'ALEGRIA': True, 'MEDO': False}],\n",
       " ['amiga companheiro', {'ALEGRIA': True, 'MEDO': False}],\n",
       " ['trazer volta vida', {'ALEGRIA': True, 'MEDO': False}],\n",
       " ['sonho doce', {'ALEGRIA': True, 'MEDO': False}],\n",
       " ['adorar doce fruta', {'ALEGRIA': True, 'MEDO': False}],\n",
       " ['suco favorito', {'ALEGRIA': True, 'MEDO': False}],\n",
       " ['agradecido por o ajuda', {'ALEGRIA': True, 'MEDO': False}],\n",
       " ['enorme prazer equipe', {'ALEGRIA': True, 'MEDO': False}],\n",
       " ['trabalhar equipe', {'ALEGRIA': True, 'MEDO': False}],\n",
       " ['sinto flutuar em o ar', {'ALEGRIA': True, 'MEDO': False}],\n",
       " ['brisa agradável hoje', {'ALEGRIA': True, 'MEDO': False}],\n",
       " ['compatível', {'ALEGRIA': True, 'MEDO': False}],\n",
       " ['compatível outro', {'ALEGRIA': True, 'MEDO': False}],\n",
       " ['órgão compatível paciente', {'ALEGRIA': True, 'MEDO': False}],\n",
       " ['contente aceitar em o faculdade', {'ALEGRIA': True, 'MEDO': False}],\n",
       " ['aprovar em o exame', {'ALEGRIA': True, 'MEDO': False}],\n",
       " ['beneficiar por o empresa', {'ALEGRIA': True, 'MEDO': False}],\n",
       " ['cativante', {'ALEGRIA': True, 'MEDO': False}],\n",
       " ['contente', {'ALEGRIA': True, 'MEDO': False}],\n",
       " ['confortável', {'ALEGRIA': True, 'MEDO': False}],\n",
       " ['quente em este frio', {'ALEGRIA': True, 'MEDO': False}],\n",
       " ['elogio', {'ALEGRIA': True, 'MEDO': False}],\n",
       " ['chamar comemorar', {'ALEGRIA': True, 'MEDO': False}],\n",
       " ['desejável presença apresentação', {'ALEGRIA': True, 'MEDO': False}],\n",
       " ['gratar', {'ALEGRIA': True, 'MEDO': False}],\n",
       " ['dedico em aquilo', {'ALEGRIA': True, 'MEDO': False}],\n",
       " ['completamente apaixonar', {'ALEGRIA': True, 'MEDO': False}],\n",
       " ['agitar noite', {'ALEGRIA': True, 'MEDO': False}],\n",
       " ['significar', {'ALEGRIA': True, 'MEDO': False}],\n",
       " ['agir preconceito julgamento', {'ALEGRIA': True, 'MEDO': False}],\n",
       " ['finalmente completar coleção maravilhoso',\n",
       "  {'ALEGRIA': True, 'MEDO': False}],\n",
       " ['rainha', {'ALEGRIA': True, 'MEDO': False}],\n",
       " ['satisfatoriamente anunciar vencedor de o jogo',\n",
       "  {'ALEGRIA': True, 'MEDO': False}],\n",
       " ['atrair facilmente', {'ALEGRIA': True, 'MEDO': False}],\n",
       " ['rapaz extremamente atraente', {'ALEGRIA': True, 'MEDO': False}],\n",
       " ['sinto-me viver', {'ALEGRIA': True, 'MEDO': False}],\n",
       " ['sinto-me paz', {'ALEGRIA': True, 'MEDO': False}],\n",
       " ['lucro', {'ALEGRIA': True, 'MEDO': False}],\n",
       " ['ordem', {'ALEGRIA': True, 'MEDO': False}],\n",
       " ['arrumar emprego junto', {'ALEGRIA': True, 'MEDO': False}],\n",
       " ['arrumação terminada alívio', {'ALEGRIA': True, 'MEDO': False}],\n",
       " ['câncer benigno', {'ALEGRIA': True, 'MEDO': False}],\n",
       " ['amor abundante', {'ALEGRIA': True, 'MEDO': False}],\n",
       " ['caridoso natal', {'ALEGRIA': True, 'MEDO': False}],\n",
       " ['charme atrair', {'ALEGRIA': True, 'MEDO': False}],\n",
       " ['charmoso querer', {'ALEGRIA': True, 'MEDO': False}],\n",
       " ['querida por o amigo', {'ALEGRIA': True, 'MEDO': False}],\n",
       " ['cuidadoso sentimento', {'ALEGRIA': True, 'MEDO': False}],\n",
       " ['comovido tamanho caridade', {'ALEGRIA': True, 'MEDO': False}],\n",
       " ['chá quente reconfortante', {'ALEGRIA': True, 'MEDO': False}],\n",
       " ['alegr', {'ALEGRIA': True, 'MEDO': False}],\n",
       " ['aplaudir vencedor', {'ALEGRIA': True, 'MEDO': False}],\n",
       " ['palma aniversariante', {'ALEGRIA': True, 'MEDO': False}],\n",
       " ['desejo', {'ALEGRIA': True, 'MEDO': False}],\n",
       " ['hora apreciar vinho', {'ALEGRIA': True, 'MEDO': False}],\n",
       " ['apreciar presença escola', {'ALEGRIA': True, 'MEDO': False}],\n",
       " ['anseio trabalho', {'ALEGRIA': True, 'MEDO': False}],\n",
       " ['maravilhoso jogo amistoso', {'ALEGRIA': True, 'MEDO': False}],\n",
       " ['menimo apaziguar', {'ALEGRIA': True, 'MEDO': False}],\n",
       " ['concretizar finalmente sonho', {'ALEGRIA': True, 'MEDO': False}],\n",
       " ['imploror matem', {'ALEGRIA': False, 'MEDO': True}],\n",
       " ['perigoso', {'ALEGRIA': False, 'MEDO': True}],\n",
       " ['seguro', {'ALEGRIA': False, 'MEDO': True}],\n",
       " ['correr pra', {'ALEGRIA': False, 'MEDO': True}],\n",
       " ['socorro querer roubar doce', {'ALEGRIA': False, 'MEDO': True}],\n",
       " ['cara perseguir', {'ALEGRIA': False, 'MEDO': True}],\n",
       " ['entro perigoso', {'ALEGRIA': False, 'MEDO': True}],\n",
       " ['continuar assustador', {'ALEGRIA': False, 'MEDO': True}],\n",
       " ['em o selva animal perigoso', {'ALEGRIA': False, 'MEDO': True}],\n",
       " ['avancer cautela', {'ALEGRIA': False, 'MEDO': True}],\n",
       " ['silencioso cuidado', {'ALEGRIA': False, 'MEDO': True}],\n",
       " ['deixe-me viver', {'ALEGRIA': False, 'MEDO': True}],\n",
       " ['ficar mesada tirar nota', {'ALEGRIA': False, 'MEDO': True}],\n",
       " ['parecer olho em o vigiar', {'ALEGRIA': False, 'MEDO': True}],\n",
       " ['temo sentença de o juiz negativo', {'ALEGRIA': False, 'MEDO': True}],\n",
       " ['missão arriscar', {'ALEGRIA': False, 'MEDO': True}],\n",
       " ['salvem se puder', {'ALEGRIA': False, 'MEDO': True}],\n",
       " ['plano descobrir', {'ALEGRIA': False, 'MEDO': True}],\n",
       " ['culpa juro', {'ALEGRIA': False, 'MEDO': True}],\n",
       " ['tomar cuidado lobisomem', {'ALEGRIA': False, 'MEDO': True}],\n",
       " ['achar descobrir verdade', {'ALEGRIA': False, 'MEDO': True}],\n",
       " ['Deus desaparecer', {'ALEGRIA': False, 'MEDO': True}],\n",
       " ['tomaro vejam de aqui', {'ALEGRIA': False, 'MEDO': True}],\n",
       " ['manter segredo descobrir estaremo ferrado',\n",
       "  {'ALEGRIA': False, 'MEDO': True}],\n",
       " ['soltar inocente', {'ALEGRIA': False, 'MEDO': True}],\n",
       " ['ouvir passo', {'ALEGRIA': False, 'MEDO': True}],\n",
       " ['pedir socorro', {'ALEGRIA': False, 'MEDO': True}],\n",
       " ['cuidado curva em o estrada', {'ALEGRIA': False, 'MEDO': True}],\n",
       " ['parecer perigoso', {'ALEGRIA': False, 'MEDO': True}],\n",
       " ['tremer medo', {'ALEGRIA': False, 'MEDO': True}],\n",
       " ['socorro cair', {'ALEGRIA': False, 'MEDO': True}],\n",
       " ['floresta negro perigoso', {'ALEGRIA': False, 'MEDO': True}],\n",
       " ['ouço passo em o direção', {'ALEGRIA': False, 'MEDO': True}],\n",
       " ['achar arriscado', {'ALEGRIA': False, 'MEDO': True}],\n",
       " ['voltar perigoso', {'ALEGRIA': False, 'MEDO': True}],\n",
       " ['fuja acabaremo morto', {'ALEGRIA': False, 'MEDO': True}],\n",
       " ['receiar livrar de este situação', {'ALEGRIA': False, 'MEDO': True}],\n",
       " ['socorro armado', {'ALEGRIA': False, 'MEDO': True}],\n",
       " ['ei cuidado bater em o poste', {'ALEGRIA': False, 'MEDO': True}],\n",
       " ['socorro afundar', {'ALEGRIA': False, 'MEDO': True}],\n",
       " ['sério cuidado arma', {'ALEGRIA': False, 'MEDO': True}],\n",
       " ['tubarão atacar', {'ALEGRIA': False, 'MEDO': True}],\n",
       " ['sinto arrepio fico sozinho em o escuro', {'ALEGRIA': False, 'MEDO': True}],\n",
       " ['calmo dinheiro', {'ALEGRIA': False, 'MEDO': True}],\n",
       " ['achar enganar', {'ALEGRIA': False, 'MEDO': True}],\n",
       " ['ligeiro fugir depressa', {'ALEGRIA': False, 'MEDO': True}],\n",
       " ['crocodilo selvagem vir', {'ALEGRIA': False, 'MEDO': True}],\n",
       " ['ficarmos achar', {'ALEGRIA': False, 'MEDO': True}],\n",
       " ['fuja tigre parecer faminto', {'ALEGRIA': False, 'MEDO': True}],\n",
       " ['saída preciso milagre', {'ALEGRIA': False, 'MEDO': True}],\n",
       " ['tirar socorro', {'ALEGRIA': False, 'MEDO': True}],\n",
       " ['nadar afogar', {'ALEGRIA': False, 'MEDO': True}],\n",
       " ['certezar seguro', {'ALEGRIA': False, 'MEDO': True}],\n",
       " ['apanhar pai boletim', {'ALEGRIA': False, 'MEDO': True}],\n",
       " ['consigo sair de aqui', {'ALEGRIA': False, 'MEDO': True}],\n",
       " ['sair assaltar', {'ALEGRIA': False, 'MEDO': True}],\n",
       " ['deixar', {'ALEGRIA': False, 'MEDO': True}],\n",
       " ['esperar largar sozinho', {'ALEGRIA': False, 'MEDO': True}],\n",
       " ['temo por o segurança', {'ALEGRIA': False, 'MEDO': True}],\n",
       " ['entregar dinheiro mate', {'ALEGRIA': False, 'MEDO': True}],\n",
       " ['levar dinheiro', {'ALEGRIA': False, 'MEDO': True}],\n",
       " ['dirijar rápido', {'ALEGRIA': False, 'MEDO': True}],\n",
       " ['descobrir prender', {'ALEGRIA': False, 'MEDO': True}],\n",
       " ['esperar façam nenhum', {'ALEGRIA': False, 'MEDO': True}],\n",
       " ['afogar ajudar sair de o água', {'ALEGRIA': False, 'MEDO': True}],\n",
       " ['estarer salvo', {'ALEGRIA': False, 'MEDO': True}],\n",
       " ['querer pensar em o acontecer', {'ALEGRIA': False, 'MEDO': True}],\n",
       " ['em esse cidade desgraça de o outro', {'ALEGRIA': False, 'MEDO': True}],\n",
       " ['alguém ligar assustado', {'ALEGRIA': False, 'MEDO': True}],\n",
       " ['remediar matar', {'ALEGRIA': False, 'MEDO': True}],\n",
       " ['confior em ele cautela', {'ALEGRIA': False, 'MEDO': True}],\n",
       " ['cautela', {'ALEGRIA': False, 'MEDO': True}],\n",
       " ['descobrir Deus', {'ALEGRIA': False, 'MEDO': True}],\n",
       " ['receiar', {'ALEGRIA': False, 'MEDO': True}],\n",
       " ['noite perigoso', {'ALEGRIA': False, 'MEDO': True}],\n",
       " ['estremecer casa', {'ALEGRIA': False, 'MEDO': True}],\n",
       " ['olhar criatura mover monstruosamente', {'ALEGRIA': False, 'MEDO': True}],\n",
       " ['aguentar suspense', {'ALEGRIA': False, 'MEDO': True}],\n",
       " ['afugente cão', {'ALEGRIA': False, 'MEDO': True}],\n",
       " ['chocado amedrontar assassinato brutal', {'ALEGRIA': False, 'MEDO': True}],\n",
       " ['preciso afugentar ímpeto medo de o inferno',\n",
       "  {'ALEGRIA': False, 'MEDO': True}],\n",
       " ['político força afugentar amedrontar', {'ALEGRIA': False, 'MEDO': True}],\n",
       " ['objetivo de isso amedrontar', {'ALEGRIA': False, 'MEDO': True}],\n",
       " ['apavorar', {'ALEGRIA': False, 'MEDO': True}],\n",
       " ['trabalho agradável', {'ALEGRIA': True, 'MEDO': False}],\n",
       " ['gosto ficar em o aconchego', {'ALEGRIA': True, 'MEDO': False}],\n",
       " ['fiz adesão a o curso hoje', {'ALEGRIA': True, 'MEDO': False}],\n",
       " ['admirar', {'ALEGRIA': True, 'MEDO': False}],\n",
       " ['adorar', {'ALEGRIA': True, 'MEDO': False}],\n",
       " ['adorar cabelo macio', {'ALEGRIA': True, 'MEDO': False}],\n",
       " ['adorar cor de o olho', {'ALEGRIA': True, 'MEDO': False}],\n",
       " ['somo amável outro', {'ALEGRIA': True, 'MEDO': False}],\n",
       " ['sinto afeição', {'ALEGRIA': True, 'MEDO': False}],\n",
       " ['querer agradar filho', {'ALEGRIA': True, 'MEDO': False}],\n",
       " ['sinto completamente amar', {'ALEGRIA': True, 'MEDO': False}],\n",
       " ['amo', {'ALEGRIA': True, 'MEDO': False}],\n",
       " ['alívio', {'ALEGRIA': True, 'MEDO': False}],\n",
       " ['dor amenizar finalmente', {'ALEGRIA': True, 'MEDO': False}],\n",
       " ['achar apaixoneir', {'ALEGRIA': True, 'MEDO': False}],\n",
       " ['amar maravilhoso', {'ALEGRIA': True, 'MEDO': False}],\n",
       " ['sentir animar', {'ALEGRIA': True, 'MEDO': False}],\n",
       " ['sintar hoje', {'ALEGRIA': True, 'MEDO': False}],\n",
       " ['luar belo', {'ALEGRIA': True, 'MEDO': False}],\n",
       " ['dia bonito', {'ALEGRIA': True, 'MEDO': False}],\n",
       " ['afortunar', {'ALEGRIA': True, 'MEDO': False}],\n",
       " ['maravilha de o mundo', {'ALEGRIA': True, 'MEDO': False}],\n",
       " ['recebir carinho hoje de o colega', {'ALEGRIA': True, 'MEDO': False}],\n",
       " ['sentir reconfortar hoje', {'ALEGRIA': True, 'MEDO': False}],\n",
       " ['amigo', {'ALEGRIA': True, 'MEDO': False}],\n",
       " ['contente resultado de o teste', {'ALEGRIA': True, 'MEDO': False}],\n",
       " ['pintura brilhante', {'ALEGRIA': True, 'MEDO': False}],\n",
       " ['água abundância', {'ALEGRIA': True, 'MEDO': False}],\n",
       " ['roupa delicado', {'ALEGRIA': True, 'MEDO': False}],\n",
       " ['comediante', {'ALEGRIA': True, 'MEDO': False}],\n",
       " ['bondade vir', {'ALEGRIA': True, 'MEDO': False}],\n",
       " ['amor lir', {'ALEGRIA': True, 'MEDO': False}],\n",
       " ['amizade durar', {'ALEGRIA': True, 'MEDO': False}],\n",
       " ['eufórico notícia', {'ALEGRIA': True, 'MEDO': False}],\n",
       " ['realmente fiel', {'ALEGRIA': True, 'MEDO': False}],\n",
       " ['festa comemorar aniversário', {'ALEGRIA': True, 'MEDO': False}],\n",
       " ['graças deus enxerguei certo', {'ALEGRIA': True, 'MEDO': False}],\n",
       " ['escolha', {'ALEGRIA': True, 'MEDO': False}],\n",
       " ['incrível belo', {'ALEGRIA': True, 'MEDO': False}],\n",
       " ['engraçado explicar', {'ALEGRIA': True, 'MEDO': False}],\n",
       " ['emocionante em este', {'ALEGRIA': True, 'MEDO': False}],\n",
       " ['cativar por o olhar', {'ALEGRIA': True, 'MEDO': False}],\n",
       " ['loucamente apaixonar', {'ALEGRIA': True, 'MEDO': False}],\n",
       " ['dúvida', {'ALEGRIA': True, 'MEDO': False}],\n",
       " ['rodear por o abraço', {'ALEGRIA': True, 'MEDO': False}],\n",
       " ['vejo estrela por o', {'ALEGRIA': True, 'MEDO': False}],\n",
       " ['sintar sol', {'ALEGRIA': True, 'MEDO': False}],\n",
       " ['sorrir orelha orelha', {'ALEGRIA': True, 'MEDO': False}],\n",
       " ['valer pena', {'ALEGRIA': True, 'MEDO': False}],\n",
       " ['finalmente colocar amor', {'ALEGRIA': True, 'MEDO': False}],\n",
       " ['dançar noite adentro', {'ALEGRIA': True, 'MEDO': False}],\n",
       " ['amor brilhante', {'ALEGRIA': True, 'MEDO': False}],\n",
       " ['toquei coração durante', {'ALEGRIA': True, 'MEDO': False}],\n",
       " ['amiga companheiro', {'ALEGRIA': True, 'MEDO': False}],\n",
       " ['trazer volta vida', {'ALEGRIA': True, 'MEDO': False}],\n",
       " ['sonho doce', {'ALEGRIA': True, 'MEDO': False}],\n",
       " ['adorar doce fruta', {'ALEGRIA': True, 'MEDO': False}],\n",
       " ['suco favorito', {'ALEGRIA': True, 'MEDO': False}],\n",
       " ['agradecido por o ajuda', {'ALEGRIA': True, 'MEDO': False}],\n",
       " ['enorme prazer equipe', {'ALEGRIA': True, 'MEDO': False}],\n",
       " ['trabalhar equipe', {'ALEGRIA': True, 'MEDO': False}],\n",
       " ['sinto flutuar em o ar', {'ALEGRIA': True, 'MEDO': False}],\n",
       " ['brisa agradável hoje', {'ALEGRIA': True, 'MEDO': False}],\n",
       " ['compatível', {'ALEGRIA': True, 'MEDO': False}],\n",
       " ['compatível outro', {'ALEGRIA': True, 'MEDO': False}],\n",
       " ['órgão compatível paciente', {'ALEGRIA': True, 'MEDO': False}],\n",
       " ['contente aceitar em o faculdade', {'ALEGRIA': True, 'MEDO': False}],\n",
       " ['aprovar em o exame', {'ALEGRIA': True, 'MEDO': False}],\n",
       " ['beneficiar por o empresa', {'ALEGRIA': True, 'MEDO': False}],\n",
       " ['cativante', {'ALEGRIA': True, 'MEDO': False}],\n",
       " ['contente', {'ALEGRIA': True, 'MEDO': False}],\n",
       " ['confortável', {'ALEGRIA': True, 'MEDO': False}],\n",
       " ['quente em este frio', {'ALEGRIA': True, 'MEDO': False}],\n",
       " ['elogio', {'ALEGRIA': True, 'MEDO': False}],\n",
       " ['chamar comemorar', {'ALEGRIA': True, 'MEDO': False}],\n",
       " ['desejável presença apresentação', {'ALEGRIA': True, 'MEDO': False}],\n",
       " ['gratar', {'ALEGRIA': True, 'MEDO': False}],\n",
       " ['dedico em aquilo', {'ALEGRIA': True, 'MEDO': False}],\n",
       " ['completamente apaixonar', {'ALEGRIA': True, 'MEDO': False}],\n",
       " ['agitar noite', {'ALEGRIA': True, 'MEDO': False}],\n",
       " ['significar', {'ALEGRIA': True, 'MEDO': False}],\n",
       " ['agir preconceito julgamento', {'ALEGRIA': True, 'MEDO': False}],\n",
       " ['finalmente completar coleção maravilhoso',\n",
       "  {'ALEGRIA': True, 'MEDO': False}],\n",
       " ['rainha', {'ALEGRIA': True, 'MEDO': False}],\n",
       " ['satisfatoriamente anunciar vencedor de o jogo',\n",
       "  {'ALEGRIA': True, 'MEDO': False}],\n",
       " ['atrair facilmente', {'ALEGRIA': True, 'MEDO': False}],\n",
       " ['rapaz extremamente atraente', {'ALEGRIA': True, 'MEDO': False}],\n",
       " ['sinto-me viver', {'ALEGRIA': True, 'MEDO': False}],\n",
       " ['sinto-me paz', {'ALEGRIA': True, 'MEDO': False}],\n",
       " ['lucro', {'ALEGRIA': True, 'MEDO': False}],\n",
       " ['ordem', {'ALEGRIA': True, 'MEDO': False}],\n",
       " ['arrumar emprego junto', {'ALEGRIA': True, 'MEDO': False}],\n",
       " ['arrumação terminada alívio', {'ALEGRIA': True, 'MEDO': False}],\n",
       " ['câncer benigno', {'ALEGRIA': True, 'MEDO': False}],\n",
       " ['amor abundante', {'ALEGRIA': True, 'MEDO': False}],\n",
       " ['caridoso natal', {'ALEGRIA': True, 'MEDO': False}],\n",
       " ['charme atrair', {'ALEGRIA': True, 'MEDO': False}],\n",
       " ['charmoso querer', {'ALEGRIA': True, 'MEDO': False}],\n",
       " ['querida por o amigo', {'ALEGRIA': True, 'MEDO': False}],\n",
       " ['cuidadoso sentimento', {'ALEGRIA': True, 'MEDO': False}],\n",
       " ['comovido tamanho caridade', {'ALEGRIA': True, 'MEDO': False}],\n",
       " ['chá quente reconfortante', {'ALEGRIA': True, 'MEDO': False}],\n",
       " ['alegr', {'ALEGRIA': True, 'MEDO': False}],\n",
       " ['aplaudir vencedor', {'ALEGRIA': True, 'MEDO': False}],\n",
       " ['palma aniversariante', {'ALEGRIA': True, 'MEDO': False}],\n",
       " ['desejo', {'ALEGRIA': True, 'MEDO': False}],\n",
       " ['hora apreciar vinho', {'ALEGRIA': True, 'MEDO': False}],\n",
       " ['apreciar presença escola', {'ALEGRIA': True, 'MEDO': False}],\n",
       " ['anseio trabalho', {'ALEGRIA': True, 'MEDO': False}],\n",
       " ['maravilhoso jogo amistoso', {'ALEGRIA': True, 'MEDO': False}],\n",
       " ['menimo apaziguar', {'ALEGRIA': True, 'MEDO': False}],\n",
       " ['concretizar finalmente sonho', {'ALEGRIA': True, 'MEDO': False}],\n",
       " ['imploror matem', {'ALEGRIA': False, 'MEDO': True}],\n",
       " ['perigoso', {'ALEGRIA': False, 'MEDO': True}],\n",
       " ['seguro', {'ALEGRIA': False, 'MEDO': True}],\n",
       " ['correr pra', {'ALEGRIA': False, 'MEDO': True}],\n",
       " ['socorro querer roubar doce', {'ALEGRIA': False, 'MEDO': True}],\n",
       " ['cara perseguir', {'ALEGRIA': False, 'MEDO': True}],\n",
       " ['entro perigoso', {'ALEGRIA': False, 'MEDO': True}],\n",
       " ['continuar assustador', {'ALEGRIA': False, 'MEDO': True}],\n",
       " ['em o selva animal perigoso', {'ALEGRIA': False, 'MEDO': True}],\n",
       " ['avancer cautela', {'ALEGRIA': False, 'MEDO': True}],\n",
       " ['silencioso cuidado', {'ALEGRIA': False, 'MEDO': True}],\n",
       " ['deixe-me viver', {'ALEGRIA': False, 'MEDO': True}],\n",
       " ['ficar mesada tirar nota', {'ALEGRIA': False, 'MEDO': True}],\n",
       " ['parecer olho em o vigiar', {'ALEGRIA': False, 'MEDO': True}],\n",
       " ['temo sentença de o juiz negativo', {'ALEGRIA': False, 'MEDO': True}],\n",
       " ['missão arriscar', {'ALEGRIA': False, 'MEDO': True}],\n",
       " ['salvem se puder', {'ALEGRIA': False, 'MEDO': True}],\n",
       " ['plano descobrir', {'ALEGRIA': False, 'MEDO': True}],\n",
       " ['culpa juro', {'ALEGRIA': False, 'MEDO': True}],\n",
       " ['tomar cuidado lobisomem', {'ALEGRIA': False, 'MEDO': True}],\n",
       " ['achar descobrir verdade', {'ALEGRIA': False, 'MEDO': True}],\n",
       " ['Deus desaparecer', {'ALEGRIA': False, 'MEDO': True}],\n",
       " ['tomaro vejam de aqui', {'ALEGRIA': False, 'MEDO': True}],\n",
       " ['manter segredo descobrir estaremo ferrado',\n",
       "  {'ALEGRIA': False, 'MEDO': True}],\n",
       " ['soltar inocente', {'ALEGRIA': False, 'MEDO': True}],\n",
       " ['ouvir passo', {'ALEGRIA': False, 'MEDO': True}],\n",
       " ['pedir socorro', {'ALEGRIA': False, 'MEDO': True}],\n",
       " ['cuidado curva em o estrada', {'ALEGRIA': False, 'MEDO': True}],\n",
       " ['parecer perigoso', {'ALEGRIA': False, 'MEDO': True}],\n",
       " ['tremer medo', {'ALEGRIA': False, 'MEDO': True}],\n",
       " ['socorro cair', {'ALEGRIA': False, 'MEDO': True}],\n",
       " ['floresta negro perigoso', {'ALEGRIA': False, 'MEDO': True}],\n",
       " ['ouço passo em o direção', {'ALEGRIA': False, 'MEDO': True}],\n",
       " ['achar arriscado', {'ALEGRIA': False, 'MEDO': True}],\n",
       " ['voltar perigoso', {'ALEGRIA': False, 'MEDO': True}],\n",
       " ['fuja acabaremo morto', {'ALEGRIA': False, 'MEDO': True}],\n",
       " ['receiar livrar de este situação', {'ALEGRIA': False, 'MEDO': True}],\n",
       " ['socorro armado', {'ALEGRIA': False, 'MEDO': True}],\n",
       " ['ei cuidado bater em o poste', {'ALEGRIA': False, 'MEDO': True}],\n",
       " ['socorro afundar', {'ALEGRIA': False, 'MEDO': True}],\n",
       " ['sério cuidado arma', {'ALEGRIA': False, 'MEDO': True}],\n",
       " ['tubarão atacar', {'ALEGRIA': False, 'MEDO': True}],\n",
       " ['sinto arrepio fico sozinho em o escuro', {'ALEGRIA': False, 'MEDO': True}],\n",
       " ['calmo dinheiro', {'ALEGRIA': False, 'MEDO': True}],\n",
       " ['achar enganar', {'ALEGRIA': False, 'MEDO': True}],\n",
       " ['ligeiro fugir depressa', {'ALEGRIA': False, 'MEDO': True}],\n",
       " ['crocodilo selvagem vir', {'ALEGRIA': False, 'MEDO': True}],\n",
       " ['ficarmos achar', {'ALEGRIA': False, 'MEDO': True}],\n",
       " ['fuja tigre parecer faminto', {'ALEGRIA': False, 'MEDO': True}],\n",
       " ['saída preciso milagre', {'ALEGRIA': False, 'MEDO': True}],\n",
       " ['tirar socorro', {'ALEGRIA': False, 'MEDO': True}],\n",
       " ['nadar afogar', {'ALEGRIA': False, 'MEDO': True}],\n",
       " ['certezar seguro', {'ALEGRIA': False, 'MEDO': True}],\n",
       " ['apanhar pai boletim', {'ALEGRIA': False, 'MEDO': True}],\n",
       " ['consigo sair de aqui', {'ALEGRIA': False, 'MEDO': True}],\n",
       " ['sair assaltar', {'ALEGRIA': False, 'MEDO': True}],\n",
       " ['deixar', {'ALEGRIA': False, 'MEDO': True}],\n",
       " ['esperar largar sozinho', {'ALEGRIA': False, 'MEDO': True}],\n",
       " ['temo por o segurança', {'ALEGRIA': False, 'MEDO': True}],\n",
       " ['entregar dinheiro mate', {'ALEGRIA': False, 'MEDO': True}],\n",
       " ['levar dinheiro', {'ALEGRIA': False, 'MEDO': True}],\n",
       " ['dirijar rápido', {'ALEGRIA': False, 'MEDO': True}],\n",
       " ['descobrir prender', {'ALEGRIA': False, 'MEDO': True}],\n",
       " ['esperar façam nenhum', {'ALEGRIA': False, 'MEDO': True}],\n",
       " ['afogar ajudar sair de o água', {'ALEGRIA': False, 'MEDO': True}],\n",
       " ['estarer salvo', {'ALEGRIA': False, 'MEDO': True}],\n",
       " ['querer pensar em o acontecer', {'ALEGRIA': False, 'MEDO': True}],\n",
       " ['em esse cidade desgraça de o outro', {'ALEGRIA': False, 'MEDO': True}],\n",
       " ['alguém ligar assustado', {'ALEGRIA': False, 'MEDO': True}],\n",
       " ['remediar matar', {'ALEGRIA': False, 'MEDO': True}],\n",
       " ['confior em ele cautela', {'ALEGRIA': False, 'MEDO': True}],\n",
       " ['cautela', {'ALEGRIA': False, 'MEDO': True}],\n",
       " ['descobrir Deus', {'ALEGRIA': False, 'MEDO': True}],\n",
       " ['receiar', {'ALEGRIA': False, 'MEDO': True}],\n",
       " ['noite perigoso', {'ALEGRIA': False, 'MEDO': True}],\n",
       " ['estremecer casa', {'ALEGRIA': False, 'MEDO': True}],\n",
       " ['olhar criatura mover monstruosamente', {'ALEGRIA': False, 'MEDO': True}],\n",
       " ['aguentar suspense', {'ALEGRIA': False, 'MEDO': True}],\n",
       " ['afugente cão', {'ALEGRIA': False, 'MEDO': True}],\n",
       " ['chocado amedrontar assassinato brutal', {'ALEGRIA': False, 'MEDO': True}],\n",
       " ['preciso afugentar ímpeto medo de o inferno',\n",
       "  {'ALEGRIA': False, 'MEDO': True}],\n",
       " ['político força afugentar amedrontar', {'ALEGRIA': False, 'MEDO': True}],\n",
       " ['objetivo de isso amedrontar', {'ALEGRIA': False, 'MEDO': True}],\n",
       " ['apavorar', {'ALEGRIA': False, 'MEDO': True}]]"
      ]
     },
     "execution_count": 67,
     "metadata": {},
     "output_type": "execute_result"
    }
   ],
   "source": [
    "base_dados_final"
   ]
  },
  {
   "cell_type": "markdown",
   "id": "7cd9b3bd",
   "metadata": {},
   "source": [
    "## `5` Criação do Classificador"
   ]
  },
  {
   "cell_type": "code",
   "execution_count": 91,
   "id": "e7e8da6d",
   "metadata": {},
   "outputs": [],
   "source": [
    "from spacy.training import Example\n",
    "\n",
    "modelo = spacy.blank('pt')\n",
    "textcat = modelo.add_pipe(\"textcat\")\n",
    "textcat.add_label(\"ALEGRIA\")\n",
    "textcat.add_label(\"MEDO\")\n",
    "historico = []"
   ]
  },
  {
   "cell_type": "code",
   "execution_count": 93,
   "id": "224dc4ea",
   "metadata": {},
   "outputs": [
    {
     "data": {
      "text/markdown": [
       "#### Perda: `2.914497524499893`"
      ],
      "text/plain": [
       "<IPython.core.display.Markdown object>"
      ]
     },
     "metadata": {},
     "output_type": "display_data"
    },
    {
     "data": {
      "text/markdown": [
       "#### Perda: `9.298156943829058e-12`"
      ],
      "text/plain": [
       "<IPython.core.display.Markdown object>"
      ]
     },
     "metadata": {},
     "output_type": "display_data"
    },
    {
     "data": {
      "text/markdown": [
       "#### Perda: `8.547793651006701e-13`"
      ],
      "text/plain": [
       "<IPython.core.display.Markdown object>"
      ]
     },
     "metadata": {},
     "output_type": "display_data"
    },
    {
     "data": {
      "text/markdown": [
       "#### Perda: `1.5923824526914792e-13`"
      ],
      "text/plain": [
       "<IPython.core.display.Markdown object>"
      ]
     },
     "metadata": {},
     "output_type": "display_data"
    },
    {
     "data": {
      "text/markdown": [
       "#### Perda: `3.7887467985918875e-14`"
      ],
      "text/plain": [
       "<IPython.core.display.Markdown object>"
      ]
     },
     "metadata": {},
     "output_type": "display_data"
    },
    {
     "data": {
      "text/markdown": [
       "#### Perda: `1.1816869720388532e-14`"
      ],
      "text/plain": [
       "<IPython.core.display.Markdown object>"
      ]
     },
     "metadata": {},
     "output_type": "display_data"
    },
    {
     "data": {
      "text/markdown": [
       "#### Perda: `3.4441297062604446e-15`"
      ],
      "text/plain": [
       "<IPython.core.display.Markdown object>"
      ]
     },
     "metadata": {},
     "output_type": "display_data"
    },
    {
     "data": {
      "text/markdown": [
       "#### Perda: `7.281760598682703e-16`"
      ],
      "text/plain": [
       "<IPython.core.display.Markdown object>"
      ]
     },
     "metadata": {},
     "output_type": "display_data"
    },
    {
     "data": {
      "text/markdown": [
       "#### Perda: `2.1796958235535007e-16`"
      ],
      "text/plain": [
       "<IPython.core.display.Markdown object>"
      ]
     },
     "metadata": {},
     "output_type": "display_data"
    },
    {
     "data": {
      "text/markdown": [
       "#### Perda: `6.013552202332354e-17`"
      ],
      "text/plain": [
       "<IPython.core.display.Markdown object>"
      ]
     },
     "metadata": {},
     "output_type": "display_data"
    }
   ],
   "source": [
    "modelo.begin_training()\n",
    "for epoca in range(1000):\n",
    "    random.shuffle(base_dados_final)\n",
    "    losses = {}\n",
    "    for batch in spacy.util.minibatch(base_dados_final, 30):\n",
    "        textos = [modelo(texto) for texto, entities in batch]\n",
    "        annotations = [{'cats': entities} for texto, entities in batch]\n",
    "        examples = [Example.from_dict(doc, annotation) for doc, annotation in zip(\n",
    "            textos, annotations\n",
    "        )]\n",
    "        modelo.update(examples, losses=losses)\n",
    "    if epoca % 100 == 0:\n",
    "        display(md(f'#### Perda: `{losses[\"textcat\"]}`'))\n",
    "        historico.append(losses)"
   ]
  },
  {
   "cell_type": "code",
   "execution_count": 94,
   "id": "f6af3330",
   "metadata": {},
   "outputs": [
    {
     "data": {
      "text/plain": [
       "array([2.50000000e-01, 2.91449752e+00, 9.29815694e-12, 8.54779365e-13,\n",
       "       1.59238245e-13, 3.78874680e-14, 1.18168697e-14, 3.44412971e-15,\n",
       "       7.28176060e-16, 2.17969582e-16, 6.01355220e-17])"
      ]
     },
     "execution_count": 94,
     "metadata": {},
     "output_type": "execute_result"
    }
   ],
   "source": [
    "historico_loss = []\n",
    "\n",
    "for i in historico: historico_loss.append(i.get('textcat'))\n",
    "    \n",
    "historico_loss = np.array(historico_loss)\n",
    "historico_loss"
   ]
  },
  {
   "cell_type": "code",
   "execution_count": 95,
   "id": "7d37bcce",
   "metadata": {},
   "outputs": [
    {
     "data": {
      "text/plain": [
       "Text(0, 0.5, 'Erro')"
      ]
     },
     "execution_count": 95,
     "metadata": {},
     "output_type": "execute_result"
    },
    {
     "data": {
      "image/png": "[encoded data removed]",
      "text/plain": [
       "<Figure size 640x480 with 1 Axes>"
      ]
     },
     "metadata": {},
     "output_type": "display_data"
    }
   ],
   "source": [
    "import matplotlib.pyplot as plt\n",
    "\n",
    "plt.plot(historico_loss)\n",
    "plt.title('Progressão do erro')\n",
    "plt.xlabel('Épocas')\n",
    "plt.ylabel('Erro')"
   ]
  },
  {
   "cell_type": "code",
   "execution_count": 96,
   "id": "31360d13",
   "metadata": {},
   "outputs": [],
   "source": [
    "# Exportando o modelo\n",
    "modelo.to_disk(\"modelo\")"
   ]
  },
  {
   "cell_type": "markdown",
   "id": "3dc09977",
   "metadata": {},
   "source": [
    "## `6` Teste com Frases"
   ]
  },
  {
   "cell_type": "code",
   "execution_count": 99,
   "id": "c257e767",
   "metadata": {},
   "outputs": [
    {
     "data": {
      "text/plain": [
       "<spacy.lang.pt.Portuguese at 0x1b363f3ec40>"
      ]
     },
     "execution_count": 99,
     "metadata": {},
     "output_type": "execute_result"
    }
   ],
   "source": [
    "modelo_carregado = spacy.load(\"modelo\")\n",
    "modelo_carregado"
   ]
  },
  {
   "cell_type": "code",
   "execution_count": 108,
   "id": "ac8975fb",
   "metadata": {},
   "outputs": [
    {
     "data": {
      "text/markdown": [
       "### Alegria: `1` | Medo `0`"
      ],
      "text/plain": [
       "<IPython.core.display.Markdown object>"
      ]
     },
     "metadata": {},
     "output_type": "display_data"
    }
   ],
   "source": [
    "texto_positivo = 'eu adoro cor dos seus olhos'\n",
    "\n",
    "texto_positivo = preproc(texto_positivo)\n",
    "\n",
    "previsao = modelo_carregado(texto_positivo)\n",
    "\n",
    "display(md(f\"### Alegria: `{round(previsao.cats['ALEGRIA'])}` | Medo `{round(previsao.cats['MEDO'])}`\"))"
   ]
  },
  {
   "cell_type": "markdown",
   "id": "3869a9bc",
   "metadata": {},
   "source": [
    "## Avaliação do Modelo"
   ]
  },
  {
   "cell_type": "code",
   "execution_count": 112,
   "id": "577a920e",
   "metadata": {},
   "outputs": [
    {
     "data": {
      "text/plain": [
       "[{'ALEGRIA': 1.0, 'MEDO': 2.947608823689052e-10},\n",
       " {'ALEGRIA': 1.0, 'MEDO': 6.376345007552686e-10},\n",
       " {'ALEGRIA': 1.0, 'MEDO': 1.0169991515596166e-09},\n",
       " {'ALEGRIA': 1.0, 'MEDO': 5.299703453864879e-10},\n",
       " {'ALEGRIA': 1.0, 'MEDO': 1.787757164528614e-10},\n",
       " {'ALEGRIA': 1.0, 'MEDO': 7.446119276721674e-10},\n",
       " {'ALEGRIA': 1.0, 'MEDO': 2.1829664742512023e-09},\n",
       " {'ALEGRIA': 1.0, 'MEDO': 7.505307486610491e-10},\n",
       " {'ALEGRIA': 1.0, 'MEDO': 5.595115482037727e-10},\n",
       " {'ALEGRIA': 1.0, 'MEDO': 5.01972574618037e-10},\n",
       " {'ALEGRIA': 1.0, 'MEDO': 7.579784022659908e-10},\n",
       " {'ALEGRIA': 1.0, 'MEDO': 7.612441232929257e-10},\n",
       " {'ALEGRIA': 1.0, 'MEDO': 1.7480999980890033e-10},\n",
       " {'ALEGRIA': 1.0, 'MEDO': 6.558905640829948e-10},\n",
       " {'ALEGRIA': 1.0, 'MEDO': 2.1762813773307244e-09},\n",
       " {'ALEGRIA': 1.0, 'MEDO': 8.329528733419522e-10},\n",
       " {'ALEGRIA': 1.0, 'MEDO': 4.97597130166838e-10},\n",
       " {'ALEGRIA': 1.0, 'MEDO': 1.0431276675770818e-10},\n",
       " {'ALEGRIA': 1.0, 'MEDO': 6.018400222629339e-10},\n",
       " {'ALEGRIA': 1.0, 'MEDO': 1.5089619553876332e-09},\n",
       " {'ALEGRIA': 1.0, 'MEDO': 3.2395078286562295e-10},\n",
       " {'ALEGRIA': 1.0, 'MEDO': 2.6711799439027573e-09},\n",
       " {'ALEGRIA': 1.0, 'MEDO': 1.2210533695267145e-09},\n",
       " {'ALEGRIA': 1.0, 'MEDO': 2.037061630488779e-10},\n",
       " {'ALEGRIA': 1.0, 'MEDO': 3.9717781841197564e-10},\n",
       " {'ALEGRIA': 1.0, 'MEDO': 1.3191205905371817e-09},\n",
       " {'ALEGRIA': 1.0, 'MEDO': 3.3726693660085516e-10},\n",
       " {'ALEGRIA': 1.0, 'MEDO': 2.934169296420208e-10},\n",
       " {'ALEGRIA': 1.0, 'MEDO': 1.3079617389166742e-09},\n",
       " {'ALEGRIA': 1.0, 'MEDO': 6.94290291924915e-10},\n",
       " {'ALEGRIA': 1.0, 'MEDO': 1.2252456826900016e-09},\n",
       " {'ALEGRIA': 1.0, 'MEDO': 1.675223515462676e-09},\n",
       " {'ALEGRIA': 1.0, 'MEDO': 1.181838849007022e-09},\n",
       " {'ALEGRIA': 1.0, 'MEDO': 1.271335148267383e-09},\n",
       " {'ALEGRIA': 1.0, 'MEDO': 5.395249802475632e-10},\n",
       " {'ALEGRIA': 1.0, 'MEDO': 6.679497510653221e-10},\n",
       " {'ALEGRIA': 1.0, 'MEDO': 8.267372342274371e-10},\n",
       " {'ALEGRIA': 1.0, 'MEDO': 3.303892437411804e-10},\n",
       " {'ALEGRIA': 1.0, 'MEDO': 1.9972576370541617e-10},\n",
       " {'ALEGRIA': 1.0, 'MEDO': 1.211627354003042e-09},\n",
       " {'ALEGRIA': 1.0, 'MEDO': 8.019296338090953e-10},\n",
       " {'ALEGRIA': 1.0, 'MEDO': 1.530752524736556e-09},\n",
       " {'ALEGRIA': 1.0, 'MEDO': 5.388318680132897e-10},\n",
       " {'ALEGRIA': 1.0, 'MEDO': 1.5594827651455034e-09},\n",
       " {'ALEGRIA': 1.0, 'MEDO': 1.381509240339085e-09},\n",
       " {'ALEGRIA': 1.0, 'MEDO': 1.8158904380172203e-09},\n",
       " {'ALEGRIA': 1.0, 'MEDO': 9.270345602274688e-10},\n",
       " {'ALEGRIA': 1.0, 'MEDO': 1.5482324311477669e-09},\n",
       " {'ALEGRIA': 1.0, 'MEDO': 1.0576652886840066e-09},\n",
       " {'ALEGRIA': 1.0, 'MEDO': 9.597438399566727e-10},\n",
       " {'ALEGRIA': 1.0, 'MEDO': 9.535200407029265e-10},\n",
       " {'ALEGRIA': 1.0, 'MEDO': 2.015969058355438e-10},\n",
       " {'ALEGRIA': 1.0, 'MEDO': 1.1946666989004484e-09},\n",
       " {'ALEGRIA': 1.0, 'MEDO': 1.3093994777335638e-09},\n",
       " {'ALEGRIA': 1.0, 'MEDO': 9.088613195373796e-10},\n",
       " {'ALEGRIA': 1.0, 'MEDO': 1.6791166235208266e-09},\n",
       " {'ALEGRIA': 1.0, 'MEDO': 5.424326543490565e-10},\n",
       " {'ALEGRIA': 1.0, 'MEDO': 4.1986122911730206e-10},\n",
       " {'ALEGRIA': 1.0, 'MEDO': 1.0021339313937005e-09},\n",
       " {'ALEGRIA': 1.0, 'MEDO': 1.6070109687404965e-09},\n",
       " {'ALEGRIA': 1.0, 'MEDO': 8.497201275936561e-10},\n",
       " {'ALEGRIA': 1.0, 'MEDO': 1.6412025072298775e-09},\n",
       " {'ALEGRIA': 1.0, 'MEDO': 4.068565206960528e-10},\n",
       " {'ALEGRIA': 1.0, 'MEDO': 2.5855456664558574e-10},\n",
       " {'ALEGRIA': 1.0, 'MEDO': 7.993701811592757e-10},\n",
       " {'ALEGRIA': 1.0, 'MEDO': 1.2755517753149093e-09},\n",
       " {'ALEGRIA': 1.0, 'MEDO': 1.367253976702898e-09},\n",
       " {'ALEGRIA': 1.0, 'MEDO': 7.122856748864592e-10},\n",
       " {'ALEGRIA': 1.0, 'MEDO': 9.841389925213662e-10},\n",
       " {'ALEGRIA': 1.0, 'MEDO': 6.212003689221035e-10},\n",
       " {'ALEGRIA': 1.0, 'MEDO': 5.766362942694059e-10},\n",
       " {'ALEGRIA': 1.0, 'MEDO': 3.872438203433859e-10},\n",
       " {'ALEGRIA': 1.0, 'MEDO': 1.51903423173394e-09},\n",
       " {'ALEGRIA': 1.0, 'MEDO': 1.4204074583190618e-09},\n",
       " {'ALEGRIA': 1.0, 'MEDO': 1.1020846457654443e-09},\n",
       " {'ALEGRIA': 1.0, 'MEDO': 1.3849733582205204e-09},\n",
       " {'ALEGRIA': 1.0, 'MEDO': 9.288645963501097e-10},\n",
       " {'ALEGRIA': 1.0, 'MEDO': 1.1179441816722147e-09},\n",
       " {'ALEGRIA': 1.0, 'MEDO': 4.1904998915320846e-10},\n",
       " {'ALEGRIA': 1.0, 'MEDO': 5.898009858285036e-10},\n",
       " {'ALEGRIA': 1.0, 'MEDO': 7.62979679436171e-10},\n",
       " {'ALEGRIA': 1.0, 'MEDO': 5.596695329401769e-10},\n",
       " {'ALEGRIA': 1.0, 'MEDO': 8.899879166968105e-10},\n",
       " {'ALEGRIA': 1.0, 'MEDO': 2.0733163796915477e-10},\n",
       " {'ALEGRIA': 1.0, 'MEDO': 4.699192146517817e-10},\n",
       " {'ALEGRIA': 1.0, 'MEDO': 9.48135570055797e-10},\n",
       " {'ALEGRIA': 1.0, 'MEDO': 4.983797818880475e-10},\n",
       " {'ALEGRIA': 1.0, 'MEDO': 3.167497375500261e-09},\n",
       " {'ALEGRIA': 1.0, 'MEDO': 1.0183268672747658e-09},\n",
       " {'ALEGRIA': 1.0, 'MEDO': 4.5272355309045054e-10},\n",
       " {'ALEGRIA': 1.0, 'MEDO': 4.5672010617892056e-10},\n",
       " {'ALEGRIA': 1.0, 'MEDO': 7.068154395106774e-10},\n",
       " {'ALEGRIA': 1.0, 'MEDO': 9.019433533374865e-10},\n",
       " {'ALEGRIA': 1.0, 'MEDO': 1.3697024625614063e-09},\n",
       " {'ALEGRIA': 1.0, 'MEDO': 3.7992628487693025e-10},\n",
       " {'ALEGRIA': 1.0, 'MEDO': 6.442407718409981e-10},\n",
       " {'ALEGRIA': 1.0, 'MEDO': 1.0165279729079657e-09},\n",
       " {'ALEGRIA': 1.0, 'MEDO': 7.580756467007177e-09},\n",
       " {'ALEGRIA': 1.0, 'MEDO': 1.3707373014426594e-09},\n",
       " {'ALEGRIA': 1.0, 'MEDO': 5.801610303279858e-10},\n",
       " {'ALEGRIA': 1.0, 'MEDO': 7.455924766475164e-10},\n",
       " {'ALEGRIA': 1.0, 'MEDO': 1.326690313163681e-09},\n",
       " {'ALEGRIA': 1.0, 'MEDO': 3.613428722903933e-10},\n",
       " {'ALEGRIA': 1.0, 'MEDO': 1.1602893090767452e-09},\n",
       " {'ALEGRIA': 1.0, 'MEDO': 1.047402720111279e-09},\n",
       " {'ALEGRIA': 1.0, 'MEDO': 6.680898612110298e-10},\n",
       " {'ALEGRIA': 1.0, 'MEDO': 1.260900384103536e-09},\n",
       " {'ALEGRIA': 1.0, 'MEDO': 6.393126583681408e-10},\n",
       " {'ALEGRIA': 1.0, 'MEDO': 3.725330877113464e-10},\n",
       " {'ALEGRIA': 1.0, 'MEDO': 6.031419808039118e-10},\n",
       " {'ALEGRIA': 1.0, 'MEDO': 1.1869623062210621e-09},\n",
       " {'ALEGRIA': 1.0, 'MEDO': 7.257442979913264e-10},\n",
       " {'ALEGRIA': 7.143292068967355e-10, 'MEDO': 1.0},\n",
       " {'ALEGRIA': 8.896124115143067e-11, 'MEDO': 1.0},\n",
       " {'ALEGRIA': 7.4849926257059e-10, 'MEDO': 1.0},\n",
       " {'ALEGRIA': 7.658373935015561e-10, 'MEDO': 1.0},\n",
       " {'ALEGRIA': 1.1023645996033338e-08, 'MEDO': 1.0},\n",
       " {'ALEGRIA': 8.638703086205624e-10, 'MEDO': 1.0},\n",
       " {'ALEGRIA': 2.2178622827162542e-10, 'MEDO': 1.0},\n",
       " {'ALEGRIA': 1.0904173119996585e-09, 'MEDO': 1.0},\n",
       " {'ALEGRIA': 4.847980905609006e-10, 'MEDO': 1.0},\n",
       " {'ALEGRIA': 1.3194401127236688e-09, 'MEDO': 1.0},\n",
       " {'ALEGRIA': 6.149710740643854e-10, 'MEDO': 1.0},\n",
       " {'ALEGRIA': 4.4437906687733175e-09, 'MEDO': 1.0},\n",
       " {'ALEGRIA': 1.174179198315528e-09, 'MEDO': 1.0},\n",
       " {'ALEGRIA': 9.848788451449764e-10, 'MEDO': 1.0},\n",
       " {'ALEGRIA': 9.139006773573044e-10, 'MEDO': 1.0},\n",
       " {'ALEGRIA': 1.5550482013182432e-09, 'MEDO': 1.0},\n",
       " {'ALEGRIA': 1.396062154768174e-09, 'MEDO': 1.0},\n",
       " {'ALEGRIA': 6.838327681890632e-10, 'MEDO': 1.0},\n",
       " {'ALEGRIA': 1.235281876788008e-09, 'MEDO': 1.0},\n",
       " {'ALEGRIA': 6.716443512466697e-10, 'MEDO': 1.0},\n",
       " {'ALEGRIA': 1.2098468893384506e-09, 'MEDO': 1.0},\n",
       " {'ALEGRIA': 1.186054920943036e-09, 'MEDO': 1.0},\n",
       " {'ALEGRIA': 8.430801612391292e-10, 'MEDO': 1.0},\n",
       " {'ALEGRIA': 7.447454319908786e-10, 'MEDO': 1.0},\n",
       " {'ALEGRIA': 1.6331023200422123e-09, 'MEDO': 1.0},\n",
       " {'ALEGRIA': 4.542025089371293e-10, 'MEDO': 1.0},\n",
       " {'ALEGRIA': 1.5764515248761768e-09, 'MEDO': 1.0},\n",
       " {'ALEGRIA': 9.064861083984965e-10, 'MEDO': 1.0},\n",
       " {'ALEGRIA': 4.761518401785736e-10, 'MEDO': 1.0},\n",
       " {'ALEGRIA': 9.701776049197974e-10, 'MEDO': 1.0},\n",
       " {'ALEGRIA': 7.609421426302276e-10, 'MEDO': 1.0},\n",
       " {'ALEGRIA': 3.093342249016473e-10, 'MEDO': 1.0},\n",
       " {'ALEGRIA': 1.918401437706052e-09, 'MEDO': 1.0},\n",
       " {'ALEGRIA': 1.180572639647437e-09, 'MEDO': 1.0},\n",
       " {'ALEGRIA': 2.3477494948132005e-10, 'MEDO': 1.0},\n",
       " {'ALEGRIA': 9.38380817494533e-10, 'MEDO': 1.0},\n",
       " {'ALEGRIA': 1.2095492385455486e-09, 'MEDO': 1.0},\n",
       " {'ALEGRIA': 1.5808990783128252e-09, 'MEDO': 1.0},\n",
       " {'ALEGRIA': 1.4652529189973507e-09, 'MEDO': 1.0},\n",
       " {'ALEGRIA': 2.5247506862946523e-10, 'MEDO': 1.0},\n",
       " {'ALEGRIA': 9.856830907040148e-10, 'MEDO': 1.0},\n",
       " {'ALEGRIA': 1.0323764065844898e-09, 'MEDO': 1.0},\n",
       " {'ALEGRIA': 2.1050399201527625e-09, 'MEDO': 1.0},\n",
       " {'ALEGRIA': 7.031258353329406e-10, 'MEDO': 1.0},\n",
       " {'ALEGRIA': 9.479673712675663e-10, 'MEDO': 1.0},\n",
       " {'ALEGRIA': 5.698171934298557e-10, 'MEDO': 1.0},\n",
       " {'ALEGRIA': 1.5834974442796579e-09, 'MEDO': 1.0},\n",
       " {'ALEGRIA': 1.9820407537451956e-09, 'MEDO': 1.0},\n",
       " {'ALEGRIA': 1.7204444535678931e-09, 'MEDO': 1.0},\n",
       " {'ALEGRIA': 1.1035885538746015e-09, 'MEDO': 1.0},\n",
       " {'ALEGRIA': 8.466479184399134e-10, 'MEDO': 1.0},\n",
       " {'ALEGRIA': 5.472065578437935e-10, 'MEDO': 1.0},\n",
       " {'ALEGRIA': 9.225576969029703e-10, 'MEDO': 1.0},\n",
       " {'ALEGRIA': 1.1551861689440557e-09, 'MEDO': 1.0},\n",
       " {'ALEGRIA': 5.956094506487375e-10, 'MEDO': 1.0},\n",
       " {'ALEGRIA': 4.782972906625105e-10, 'MEDO': 1.0},\n",
       " {'ALEGRIA': 1.2540624094725672e-09, 'MEDO': 1.0},\n",
       " {'ALEGRIA': 6.35492714007313e-10, 'MEDO': 1.0},\n",
       " {'ALEGRIA': 1.7304558896924505e-09, 'MEDO': 1.0},\n",
       " {'ALEGRIA': 1.3258100173274556e-09, 'MEDO': 1.0},\n",
       " {'ALEGRIA': 9.29655130654794e-10, 'MEDO': 1.0},\n",
       " {'ALEGRIA': 7.778204746955453e-10, 'MEDO': 1.0},\n",
       " {'ALEGRIA': 3.39318156905577e-10, 'MEDO': 1.0},\n",
       " {'ALEGRIA': 1.7582899580759204e-09, 'MEDO': 1.0},\n",
       " {'ALEGRIA': 1.5283748711070189e-09, 'MEDO': 1.0},\n",
       " {'ALEGRIA': 3.0950433327348037e-09, 'MEDO': 1.0},\n",
       " {'ALEGRIA': 3.718240826344754e-09, 'MEDO': 1.0},\n",
       " {'ALEGRIA': 1.505707447613247e-09, 'MEDO': 1.0},\n",
       " {'ALEGRIA': 7.862149264958873e-10, 'MEDO': 1.0},\n",
       " {'ALEGRIA': 1.0018357254892862e-09, 'MEDO': 1.0},\n",
       " {'ALEGRIA': 8.411447094403002e-10, 'MEDO': 1.0},\n",
       " {'ALEGRIA': 2.1595751575897992e-10, 'MEDO': 1.0},\n",
       " {'ALEGRIA': 1.2483848399469366e-09, 'MEDO': 1.0},\n",
       " {'ALEGRIA': 6.665688556672933e-10, 'MEDO': 1.0},\n",
       " {'ALEGRIA': 1.3783376662246383e-09, 'MEDO': 1.0},\n",
       " {'ALEGRIA': 1.6069005015495463e-09, 'MEDO': 1.0},\n",
       " {'ALEGRIA': 1.8675960777869705e-09, 'MEDO': 1.0},\n",
       " {'ALEGRIA': 1.0449083820418537e-09, 'MEDO': 1.0},\n",
       " {'ALEGRIA': 2.8149531594579003e-09, 'MEDO': 1.0},\n",
       " {'ALEGRIA': 2.4693540545683845e-09, 'MEDO': 1.0},\n",
       " {'ALEGRIA': 1.2172559626932866e-09, 'MEDO': 1.0},\n",
       " {'ALEGRIA': 1.5819576759668053e-09, 'MEDO': 1.0},\n",
       " {'ALEGRIA': 1.1289322809915348e-09, 'MEDO': 1.0},\n",
       " {'ALEGRIA': 2.319415992602103e-09, 'MEDO': 1.0}]"
      ]
     },
     "execution_count": 112,
     "metadata": {},
     "output_type": "execute_result"
    }
   ],
   "source": [
    "previsoes = []\n",
    "for texto in db['texto']:\n",
    "    #print(texto)\n",
    "    previsao = modelo_carregado(texto)\n",
    "    previsoes.append(previsao.cats)\n",
    "\n",
    "previsoes"
   ]
  },
  {
   "cell_type": "code",
   "execution_count": 113,
   "id": "11f90b43",
   "metadata": {},
   "outputs": [
    {
     "data": {
      "text/plain": [
       "array(['alegria', 'alegria', 'alegria', 'alegria', 'alegria', 'alegria',\n",
       "       'alegria', 'alegria', 'alegria', 'alegria', 'alegria', 'alegria',\n",
       "       'alegria', 'alegria', 'alegria', 'alegria', 'alegria', 'alegria',\n",
       "       'alegria', 'alegria', 'alegria', 'alegria', 'alegria', 'alegria',\n",
       "       'alegria', 'alegria', 'alegria', 'alegria', 'alegria', 'alegria',\n",
       "       'alegria', 'alegria', 'alegria', 'alegria', 'alegria', 'alegria',\n",
       "       'alegria', 'alegria', 'alegria', 'alegria', 'alegria', 'alegria',\n",
       "       'alegria', 'alegria', 'alegria', 'alegria', 'alegria', 'alegria',\n",
       "       'alegria', 'alegria', 'alegria', 'alegria', 'alegria', 'alegria',\n",
       "       'alegria', 'alegria', 'alegria', 'alegria', 'alegria', 'alegria',\n",
       "       'alegria', 'alegria', 'alegria', 'alegria', 'alegria', 'alegria',\n",
       "       'alegria', 'alegria', 'alegria', 'alegria', 'alegria', 'alegria',\n",
       "       'alegria', 'alegria', 'alegria', 'alegria', 'alegria', 'alegria',\n",
       "       'alegria', 'alegria', 'alegria', 'alegria', 'alegria', 'alegria',\n",
       "       'alegria', 'alegria', 'alegria', 'alegria', 'alegria', 'alegria',\n",
       "       'alegria', 'alegria', 'alegria', 'alegria', 'alegria', 'alegria',\n",
       "       'alegria', 'alegria', 'alegria', 'alegria', 'alegria', 'alegria',\n",
       "       'alegria', 'alegria', 'alegria', 'alegria', 'alegria', 'alegria',\n",
       "       'alegria', 'alegria', 'alegria', 'alegria', 'medo', 'medo', 'medo',\n",
       "       'medo', 'medo', 'medo', 'medo', 'medo', 'medo', 'medo', 'medo',\n",
       "       'medo', 'medo', 'medo', 'medo', 'medo', 'medo', 'medo', 'medo',\n",
       "       'medo', 'medo', 'medo', 'medo', 'medo', 'medo', 'medo', 'medo',\n",
       "       'medo', 'medo', 'medo', 'medo', 'medo', 'medo', 'medo', 'medo',\n",
       "       'medo', 'medo', 'medo', 'medo', 'medo', 'medo', 'medo', 'medo',\n",
       "       'medo', 'medo', 'medo', 'medo', 'medo', 'medo', 'medo', 'medo',\n",
       "       'medo', 'medo', 'medo', 'medo', 'medo', 'medo', 'medo', 'medo',\n",
       "       'medo', 'medo', 'medo', 'medo', 'medo', 'medo', 'medo', 'medo',\n",
       "       'medo', 'medo', 'medo', 'medo', 'medo', 'medo', 'medo', 'medo',\n",
       "       'medo', 'medo', 'medo', 'medo', 'medo', 'medo', 'medo', 'medo',\n",
       "       'medo'], dtype='<U7')"
      ]
     },
     "execution_count": 113,
     "metadata": {},
     "output_type": "execute_result"
    }
   ],
   "source": [
    "previsoes_final = []\n",
    "for previsao in previsoes:\n",
    "    if previsao['ALEGRIA'] > previsao['MEDO']:\n",
    "        previsoes_final.append('alegria')\n",
    "    else:\n",
    "        previsoes_final.append('medo')\n",
    "\n",
    "previsoes_final = np.array(previsoes_final)\n",
    "previsoes_final"
   ]
  },
  {
   "cell_type": "code",
   "execution_count": 115,
   "id": "c40c6e67",
   "metadata": {},
   "outputs": [
    {
     "data": {
      "text/plain": [
       "['alegria', 'alegria', 'alegria', 'alegria', 'alegria', ..., 'medo', 'medo', 'medo', 'medo', 'medo']\n",
       "Length: 196\n",
       "Categories (2, object): ['alegria', 'medo']"
      ]
     },
     "execution_count": 115,
     "metadata": {},
     "output_type": "execute_result"
    }
   ],
   "source": [
    "respostas_reais = db['emocao'].values\n",
    "respostas_reais"
   ]
  },
  {
   "cell_type": "code",
   "execution_count": 127,
   "id": "3feb731a",
   "metadata": {},
   "outputs": [
    {
     "data": {
      "text/plain": [
       "<AxesSubplot:>"
      ]
     },
     "execution_count": 127,
     "metadata": {},
     "output_type": "execute_result"
    },
    {
     "data": {
      "image/png": "[encoded data removed]",
      "text/plain": [
       "<Figure size 640x480 with 2 Axes>"
      ]
     },
     "metadata": {},
     "output_type": "display_data"
    }
   ],
   "source": [
    "from sklearn.metrics import confusion_matrix, accuracy_score\n",
    "accuracy_score(respostas_reais, previsoes_final)\n",
    "\n",
    "cm = confusion_matrix(respostas_reais, previsoes_final)\n",
    "sns.heatmap(cm, annot=True, fmt='g', cmap='coolwarm')"
   ]
  },
  {
   "cell_type": "markdown",
   "id": "242e6117",
   "metadata": {},
   "source": [
    "## Avaliação da Base de Dados"
   ]
  },
  {
   "cell_type": "code",
   "execution_count": 130,
   "id": "93323adf",
   "metadata": {},
   "outputs": [
    {
     "data": {
      "text/html": [
       "<div>\n",
       "<style scoped>\n",
       "    .dataframe tbody tr th:only-of-type {\n",
       "        vertical-align: middle;\n",
       "    }\n",
       "\n",
       "    .dataframe tbody tr th {\n",
       "        vertical-align: top;\n",
       "    }\n",
       "\n",
       "    .dataframe thead th {\n",
       "        text-align: right;\n",
       "    }\n",
       "</style>\n",
       "<table border=\"1\" class=\"dataframe\">\n",
       "  <thead>\n",
       "    <tr style=\"text-align: right;\">\n",
       "      <th></th>\n",
       "      <th>texto</th>\n",
       "      <th>emocao</th>\n",
       "    </tr>\n",
       "  </thead>\n",
       "  <tbody>\n",
       "    <tr>\n",
       "      <th>0</th>\n",
       "      <td>não precisei pagar o ingresso</td>\n",
       "      <td>alegria</td>\n",
       "    </tr>\n",
       "    <tr>\n",
       "      <th>1</th>\n",
       "      <td>se eu ajeitar tudo fica bem</td>\n",
       "      <td>alegria</td>\n",
       "    </tr>\n",
       "    <tr>\n",
       "      <th>2</th>\n",
       "      <td>minha fortuna ultrapassará a sua</td>\n",
       "      <td>alegria</td>\n",
       "    </tr>\n",
       "    <tr>\n",
       "      <th>3</th>\n",
       "      <td>sou muito afortunado</td>\n",
       "      <td>alegria</td>\n",
       "    </tr>\n",
       "    <tr>\n",
       "      <th>4</th>\n",
       "      <td>é benéfico para todos esta nova medida</td>\n",
       "      <td>alegria</td>\n",
       "    </tr>\n",
       "    <tr>\n",
       "      <th>5</th>\n",
       "      <td>ficou lindo</td>\n",
       "      <td>alegria</td>\n",
       "    </tr>\n",
       "    <tr>\n",
       "      <th>6</th>\n",
       "      <td>achei esse sapato muito simpático</td>\n",
       "      <td>alegria</td>\n",
       "    </tr>\n",
       "    <tr>\n",
       "      <th>7</th>\n",
       "      <td>estou ansiosa pela sua chegada</td>\n",
       "      <td>alegria</td>\n",
       "    </tr>\n",
       "    <tr>\n",
       "      <th>8</th>\n",
       "      <td>congratulações pelo seu aniversário</td>\n",
       "      <td>alegria</td>\n",
       "    </tr>\n",
       "    <tr>\n",
       "      <th>9</th>\n",
       "      <td>delicadamente ele a colocou para dormir</td>\n",
       "      <td>alegria</td>\n",
       "    </tr>\n",
       "  </tbody>\n",
       "</table>\n",
       "</div>"
      ],
      "text/plain": [
       "                                     texto   emocao\n",
       "0            não precisei pagar o ingresso  alegria\n",
       "1              se eu ajeitar tudo fica bem  alegria\n",
       "2         minha fortuna ultrapassará a sua  alegria\n",
       "3                     sou muito afortunado  alegria\n",
       "4   é benéfico para todos esta nova medida  alegria\n",
       "5                              ficou lindo  alegria\n",
       "6        achei esse sapato muito simpático  alegria\n",
       "7           estou ansiosa pela sua chegada  alegria\n",
       "8      congratulações pelo seu aniversário  alegria\n",
       "9  delicadamente ele a colocou para dormir  alegria"
      ]
     },
     "execution_count": 130,
     "metadata": {},
     "output_type": "execute_result"
    }
   ],
   "source": [
    "db_teste = pd.read_csv('https://raw.githubusercontent.com/gabrielluizone/NLProcessing/main/07%20%E2%80%A2%20Class%20SpaCy/dados/base_teste.txt', encoding = 'utf-8')\n",
    "db_teste.head(10)"
   ]
  },
  {
   "cell_type": "code",
   "execution_count": 138,
   "id": "4245aa48",
   "metadata": {},
   "outputs": [
    {
     "data": {
      "text/html": [
       "<div>\n",
       "<style scoped>\n",
       "    .dataframe tbody tr th:only-of-type {\n",
       "        vertical-align: middle;\n",
       "    }\n",
       "\n",
       "    .dataframe tbody tr th {\n",
       "        vertical-align: top;\n",
       "    }\n",
       "\n",
       "    .dataframe thead th {\n",
       "        text-align: right;\n",
       "    }\n",
       "</style>\n",
       "<table border=\"1\" class=\"dataframe\">\n",
       "  <thead>\n",
       "    <tr style=\"text-align: right;\">\n",
       "      <th></th>\n",
       "      <th>texto</th>\n",
       "      <th>emocao</th>\n",
       "    </tr>\n",
       "  </thead>\n",
       "  <tbody>\n",
       "    <tr>\n",
       "      <th>0</th>\n",
       "      <td>precisar pagar ingresso</td>\n",
       "      <td>alegria</td>\n",
       "    </tr>\n",
       "    <tr>\n",
       "      <th>1</th>\n",
       "      <td>ajeitar ficar</td>\n",
       "      <td>alegria</td>\n",
       "    </tr>\n",
       "    <tr>\n",
       "      <th>2</th>\n",
       "      <td>fortuna ultrapassar</td>\n",
       "      <td>alegria</td>\n",
       "    </tr>\n",
       "    <tr>\n",
       "      <th>3</th>\n",
       "      <td>afortunar</td>\n",
       "      <td>alegria</td>\n",
       "    </tr>\n",
       "    <tr>\n",
       "      <th>4</th>\n",
       "      <td>benéfico medida</td>\n",
       "      <td>alegria</td>\n",
       "    </tr>\n",
       "    <tr>\n",
       "      <th>5</th>\n",
       "      <td>ficar lir</td>\n",
       "      <td>alegria</td>\n",
       "    </tr>\n",
       "    <tr>\n",
       "      <th>6</th>\n",
       "      <td>achar sapato simpático</td>\n",
       "      <td>alegria</td>\n",
       "    </tr>\n",
       "    <tr>\n",
       "      <th>7</th>\n",
       "      <td>ansioso por o chegada</td>\n",
       "      <td>alegria</td>\n",
       "    </tr>\n",
       "    <tr>\n",
       "      <th>8</th>\n",
       "      <td>congratulação por o aniversário</td>\n",
       "      <td>alegria</td>\n",
       "    </tr>\n",
       "    <tr>\n",
       "      <th>9</th>\n",
       "      <td>delicadamente colocar dormir</td>\n",
       "      <td>alegria</td>\n",
       "    </tr>\n",
       "  </tbody>\n",
       "</table>\n",
       "</div>"
      ],
      "text/plain": [
       "                             texto   emocao\n",
       "0          precisar pagar ingresso  alegria\n",
       "1                    ajeitar ficar  alegria\n",
       "2              fortuna ultrapassar  alegria\n",
       "3                        afortunar  alegria\n",
       "4                  benéfico medida  alegria\n",
       "5                        ficar lir  alegria\n",
       "6           achar sapato simpático  alegria\n",
       "7            ansioso por o chegada  alegria\n",
       "8  congratulação por o aniversário  alegria\n",
       "9     delicadamente colocar dormir  alegria"
      ]
     },
     "execution_count": 138,
     "metadata": {},
     "output_type": "execute_result"
    }
   ],
   "source": [
    "db_teste['emocao'] = db_teste['emocao'].astype('category')\n",
    "db_teste['texto'] = db_teste['texto'].apply(preproc)\n",
    "\n",
    "db_teste.head(10)"
   ]
  },
  {
   "cell_type": "code",
   "execution_count": 141,
   "id": "87d91d6f",
   "metadata": {},
   "outputs": [],
   "source": [
    "previsoes = []\n",
    "for texto in db_teste['texto']:\n",
    "    #print(texto)\n",
    "    previsao = modelo_carregado(texto)\n",
    "    previsoes.append(previsao.cats)"
   ]
  },
  {
   "cell_type": "code",
   "execution_count": 142,
   "id": "3f409166",
   "metadata": {},
   "outputs": [],
   "source": [
    "previsoes_final = []\n",
    "for previsao in previsoes:\n",
    "  if previsao['ALEGRIA'] > previsao['MEDO']:\n",
    "    previsoes_final.append('alegria')\n",
    "  else:\n",
    "    previsoes_final.append('medo')\n",
    "\n",
    "previsoes_final = np.array(previsoes_final)"
   ]
  },
  {
   "cell_type": "code",
   "execution_count": 147,
   "id": "9c918e0f",
   "metadata": {},
   "outputs": [
    {
     "name": "stdout",
     "output_type": "stream",
     "text": [
      "0.6309523809523809\n"
     ]
    },
    {
     "data": {
      "text/plain": [
       "array([[33, 15],\n",
       "       [16, 20]], dtype=int64)"
      ]
     },
     "execution_count": 147,
     "metadata": {},
     "output_type": "execute_result"
    }
   ],
   "source": [
    "respostas_reais = db_teste['emocao'].values\n",
    "\n",
    "print(accuracy_score(respostas_reais, previsoes_final))\n",
    "\n",
    "cm = confusion_matrix(respostas_reais, previsoes_final)\n",
    "cm"
   ]
  }
 ],
 "metadata": {
  "kernelspec": {
   "display_name": "Python 3 (ipykernel)",
   "language": "python",
   "name": "python3"
  },
  "language_info": {
   "codemirror_mode": {
    "name": "ipython",
    "version": 3
   },
   "file_extension": ".py",
   "mimetype": "text/x-python",
   "name": "python",
   "nbconvert_exporter": "python",
   "pygments_lexer": "ipython3",
   "version": "3.9.13"
  }
 },
 "nbformat": 4,
 "nbformat_minor": 5
}
