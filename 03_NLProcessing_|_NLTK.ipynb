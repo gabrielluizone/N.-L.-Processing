{
  "cells": [
    {
      "cell_type": "markdown",
      "metadata": {
        "id": "view-in-github",
        "colab_type": "text"
      },
      "source": [
        "<a href=\"https://colab.research.google.com/github/gabrielluizone/NLProcessing/blob/main/03_NLProcessing_%7C_NLTK.ipynb\" target=\"_parent\"><img src=\"https://colab.research.google.com/assets/colab-badge.svg\" alt=\"Open In Colab\"/></a>"
      ]
    },
    {
      "cell_type": "markdown",
      "metadata": {
        "id": "a6etcIHKGhY2"
      },
      "source": [
        "<div class=\"markdown-google-sans\">\n",
        "\n",
        "## **02** | NLProcessing `NLTK`\n",
        "> 01 Mar. 2024\n",
        "\n",
        "</div>"
      ]
    },
    {
      "cell_type": "code",
      "execution_count": 1,
      "metadata": {
        "colab": {
          "base_uri": "https://localhost:8080/"
        },
        "id": "csGuut8JGhz5",
        "outputId": "445e6c7f-8c66-4c0c-a890-484134229c0e"
      },
      "outputs": [
        {
          "output_type": "stream",
          "name": "stdout",
          "text": [
            "Requirement already satisfied: nltk in /usr/local/lib/python3.10/dist-packages (3.8.1)\n",
            "Requirement already satisfied: click in /usr/local/lib/python3.10/dist-packages (from nltk) (8.1.7)\n",
            "Requirement already satisfied: joblib in /usr/local/lib/python3.10/dist-packages (from nltk) (1.3.2)\n",
            "Requirement already satisfied: regex>=2021.8.3 in /usr/local/lib/python3.10/dist-packages (from nltk) (2023.12.25)\n",
            "Requirement already satisfied: tqdm in /usr/local/lib/python3.10/dist-packages (from nltk) (4.66.2)\n"
          ]
        }
      ],
      "source": [
        "!pip install --upgrade nltk\n",
        "import nltk"
      ]
    },
    {
      "cell_type": "markdown",
      "metadata": {
        "id": "w4T9nRSKEmUy"
      },
      "source": [
        "<div class=\"markdown-google-sans\">\n",
        "\n",
        "### **Fazendo o download dos dados complementares do NLTK**\n",
        "\n",
        "> Os desenvolvedores do NLTK decidiram manter o arquivo de instalação (pip install nltk) com o mínimo de arquivos possível para facilitar o download e instalação. Portanto, eles permitem fazer o download dos arquivos complementares de acordo com a demanda dos desenvolvedores.\n",
        "\n",
        "Para fazer isso, basta executar o código abaixo e seguir as instruções apresentadas.\n",
        "\n"
      ]
    },
    {
      "cell_type": "code",
      "execution_count": null,
      "metadata": {
        "id": "Tu59sm48G5Yd"
      },
      "outputs": [],
      "source": [
        "nltk.download() # Insira d, l, enter (6 vezes até aparecer opção 'all'), all, q"
      ]
    },
    {
      "cell_type": "markdown",
      "metadata": {
        "id": "QVPTrOGZIC5N"
      },
      "source": [
        "<div class=\"markdown-google-sans\">\n",
        "\n",
        "### **O que encontramos no NLTK?**\n",
        "\n",
        "> As células abaixo apresentam o exemplo de um dos córpus em Português que podemos acessar com o NLTK. MACMORPHO http://nilc.icmc.usp.br/macmorpho/\n",
        "\n",
        "Veja as palavras e sentenças dentro do `mac_morpho`"
      ]
    },
    {
      "cell_type": "code",
      "execution_count": 3,
      "metadata": {
        "id": "2FERLVdsHps_",
        "colab": {
          "base_uri": "https://localhost:8080/"
        },
        "outputId": "86c2feeb-a2ec-4e8b-96ed-c866b49f17c6"
      },
      "outputs": [
        {
          "output_type": "execute_result",
          "data": {
            "text/plain": [
              "['__class__',\n",
              " '__delattr__',\n",
              " '__dict__',\n",
              " '__dir__',\n",
              " '__doc__',\n",
              " '__eq__',\n",
              " '__format__',\n",
              " '__ge__',\n",
              " '__getattribute__',\n",
              " '__gt__',\n",
              " '__hash__',\n",
              " '__init__',\n",
              " '__init_subclass__',\n",
              " '__le__',\n",
              " '__lt__',\n",
              " '__module__',\n",
              " '__ne__',\n",
              " '__new__',\n",
              " '__reduce__',\n",
              " '__reduce_ex__',\n",
              " '__repr__',\n",
              " '__setattr__',\n",
              " '__sizeof__',\n",
              " '__str__',\n",
              " '__subclasshook__',\n",
              " '__weakref__',\n",
              " '_citation',\n",
              " '_encoding',\n",
              " '_fileids',\n",
              " '_get_root',\n",
              " '_license',\n",
              " '_para_block_reader',\n",
              " '_read_block',\n",
              " '_readme',\n",
              " '_root',\n",
              " '_sent_tokenizer',\n",
              " '_sep',\n",
              " '_tagset',\n",
              " '_unload',\n",
              " '_word_tokenizer',\n",
              " 'abspath',\n",
              " 'abspaths',\n",
              " 'citation',\n",
              " 'encoding',\n",
              " 'ensure_loaded',\n",
              " 'fileids',\n",
              " 'license',\n",
              " 'open',\n",
              " 'paras',\n",
              " 'raw',\n",
              " 'readme',\n",
              " 'root',\n",
              " 'sents',\n",
              " 'tagged_paras',\n",
              " 'tagged_sents',\n",
              " 'tagged_words',\n",
              " 'words']"
            ]
          },
          "metadata": {},
          "execution_count": 3
        }
      ],
      "source": [
        "dir(nltk.corpus.mac_morpho)"
      ]
    },
    {
      "cell_type": "code",
      "execution_count": 4,
      "metadata": {
        "id": "_fIJQVJhIcwJ",
        "colab": {
          "base_uri": "https://localhost:8080/",
          "height": 52
        },
        "outputId": "3335b9a4-8315-4ef7-895b-0e699d019433"
      },
      "outputs": [
        {
          "output_type": "display_data",
          "data": {
            "text/plain": [
              "['Jersei', 'atinge', 'média', 'de', 'Cr$', '1,4', ...]"
            ]
          },
          "metadata": {}
        },
        {
          "output_type": "execute_result",
          "data": {
            "text/plain": [
              "1170095"
            ]
          },
          "metadata": {},
          "execution_count": 4
        }
      ],
      "source": [
        "display(nltk.corpus.mac_morpho.words())\n",
        "len(nltk.corpus.mac_morpho.words()) # Total"
      ]
    },
    {
      "cell_type": "code",
      "execution_count": 5,
      "metadata": {
        "id": "MCra4Ho4I6ha",
        "colab": {
          "base_uri": "https://localhost:8080/",
          "height": 69
        },
        "outputId": "1968f670-9c3b-4d70-cb33-bedae23e29f2"
      },
      "outputs": [
        {
          "output_type": "display_data",
          "data": {
            "text/plain": [
              "[['Jersei', 'atinge', 'média', 'de', 'Cr$', '1,4', 'milhão', 'em', 'a', 'venda', 'de', 'a', 'Pinhal', 'em', 'São', 'Paulo'], ['Programe', 'sua', 'viagem', 'a', 'a', 'Exposição', 'Nacional', 'do', 'Zebu', ',', 'que', 'começa', 'dia', '25'], ...]"
            ]
          },
          "metadata": {}
        },
        {
          "output_type": "execute_result",
          "data": {
            "text/plain": [
              "51397"
            ]
          },
          "metadata": {},
          "execution_count": 5
        }
      ],
      "source": [
        "display(nltk.corpus.mac_morpho.sents())\n",
        "len(nltk.corpus.mac_morpho.sents())"
      ]
    },
    {
      "cell_type": "code",
      "execution_count": 6,
      "metadata": {
        "id": "gsmcfFqPJkk4",
        "colab": {
          "base_uri": "https://localhost:8080/"
        },
        "outputId": "23a44c1b-f9f2-478d-f33d-47073bf23565"
      },
      "outputs": [
        {
          "output_type": "execute_result",
          "data": {
            "text/plain": [
              "[[('Jersei', 'N'), ('atinge', 'V'), ('média', 'N'), ('de', 'PREP'), ('Cr$', 'CUR'), ('1,4', 'NUM'), ('milhão', 'N'), ('em', 'PREP|+'), ('a', 'ART'), ('venda', 'N'), ('de', 'PREP|+'), ('a', 'ART'), ('Pinhal', 'NPROP'), ('em', 'PREP'), ('São', 'NPROP'), ('Paulo', 'NPROP')], [('Programe', 'V'), ('sua', 'PROADJ'), ('viagem', 'N'), ('a', 'PREP|+'), ('a', 'ART'), ('Exposição', 'NPROP'), ('Nacional', 'NPROP'), ('do', 'NPROP'), ('Zebu', 'NPROP'), (',', ','), ('que', 'PRO-KS-REL'), ('começa', 'V'), ('dia', 'N'), ('25', 'N|AP')], ...]"
            ]
          },
          "metadata": {},
          "execution_count": 6
        }
      ],
      "source": [
        "nltk.corpus.mac_morpho.tagged_sents()"
      ]
    },
    {
      "cell_type": "code",
      "execution_count": 7,
      "metadata": {
        "id": "dE9kjXdeKivZ",
        "colab": {
          "base_uri": "https://localhost:8080/"
        },
        "outputId": "df940c53-0d52-4506-d431-cf8a6103a9c5"
      },
      "outputs": [
        {
          "output_type": "execute_result",
          "data": {
            "text/plain": [
              "['Hoje',\n",
              " 'é',\n",
              " 'sexta',\n",
              " 'e',\n",
              " 'tenho',\n",
              " 'aula',\n",
              " 'de',\n",
              " 'PLN',\n",
              " 'e',\n",
              " 'cheguei',\n",
              " 'atrasado']"
            ]
          },
          "metadata": {},
          "execution_count": 7
        }
      ],
      "source": [
        "'Hoje é sexta e tenho aula de PLN e cheguei atrasado'.split()"
      ]
    },
    {
      "cell_type": "markdown",
      "metadata": {
        "id": "m48rqyd2M9JG"
      },
      "source": [
        "<div class=\"markdown-google-sans\">\n",
        "\n",
        "### **Primeira tarefa com o NLTK - a Tokenização**\n",
        "\n",
        "> Observe que essa é a forma mais simples de tokenizar um texto usando o NLTK. A função (trecho de código pré-desenvolvido que executa uma ação) `word_tokenize()` recebe um texto e retorna uma lista de tokens.\n",
        "\n",
        "- `\\w+` Representação de tudo que é textual, underscore\n",
        "- `[A-z]\\w*` Só os caracteres, de A até z (ABC...abc). O * significa que considera os Nulos também\n",
        "\n",
        "\n",
        "### **Formas adicionais avançadas para tokenização de um texto**\n",
        "\n",
        "O conceito utilizado nas células seguintes é o de Expressões Regulares.\n",
        "\n",
        "Expressões regulares (chamadas REs, ou regexes ou padrões regex) são essencialmente uma mini linguagem de programação altamente especializada incluída dentro do Python.\n",
        "\n",
        "Usando esta pequena linguagem, você especifica as regras para o conjunto de strings possíveis que você quer combinar; esse conjunto pode conter sentenças em inglês, endereços de e-mail, ou comandos TeX ou qualquer coisa que você queira. Você poderá então perguntar coisas como “Essa string se enquadra dentro do padrão?” ou “Existe alguma parte da string que se enquadra nesse padrão?”. Você também pode usar as REs para modificar uma string ou dividi-la de diversas formas.\n",
        "\n",
        "- https://docs.python.org/pt-br/3.8/howto/regex.html\n",
        "\n",
        "- https://www.w3schools.com/python/python_regex.asp\n"
      ]
    },
    {
      "cell_type": "code",
      "execution_count": 8,
      "metadata": {
        "id": "pOaa9RgfMbjs"
      },
      "outputs": [],
      "source": [
        "text = 'Recentemente (2024), o Google suspendeu um recurso importante de seu conjunto de inteligência artificial, o Gemini. A decisão do Google de pausar a geração de imagens de pessoas ocorre no momento em que a gigante da tecnologia aborda questões sobre a precisão do modelo em representar a diversidade. Gemini, conhecido por suas capacidades avançadas de IA, encontrou críticas em relação à representação de indivíduos de diversas origens.'"
      ]
    },
    {
      "cell_type": "code",
      "execution_count": 9,
      "metadata": {
        "id": "a_ALg7l5M-bV",
        "colab": {
          "base_uri": "https://localhost:8080/"
        },
        "outputId": "ad73dab5-d915-47bb-a7c6-f4c1058def68"
      },
      "outputs": [
        {
          "output_type": "execute_result",
          "data": {
            "text/plain": [
              "['Recentemente',\n",
              " 'o',\n",
              " 'Google',\n",
              " 'suspendeu',\n",
              " 'um',\n",
              " 'recurso',\n",
              " 'importante',\n",
              " 'de',\n",
              " 'seu']"
            ]
          },
          "metadata": {},
          "execution_count": 9
        }
      ],
      "source": [
        "from nltk.tokenize import RegexpTokenizer\n",
        "tokenizer = RegexpTokenizer(r'\\w+')\n",
        "\n",
        "# Para desconsiderar tokens sem acentuações e numerais\n",
        "tokenizer = RegexpTokenizer(r'[A-z]\\w*')\n",
        "tokens = tokenizer.tokenize(text)\n",
        "tokens[:9] # Para não ocupar espaço da tela"
      ]
    },
    {
      "cell_type": "markdown",
      "metadata": {
        "id": "Udf55RwAFiIo"
      },
      "source": [
        "# Frequência de tokens\n",
        "\n",
        "Muitas vezes é interessante saber a frequencia em que os tokens aparecem em um texto. Com a classe *FreqDist* podemos calcular facilmente.\n",
        "\n",
        "**Nesse primeiro exemplo, como será a frequencia usando todos os tokens?**"
      ]
    },
    {
      "cell_type": "code",
      "execution_count": 10,
      "metadata": {
        "id": "Pf7QjEpQOlIp"
      },
      "outputs": [],
      "source": [
        "text2 = 'RIO DE JANEIRO E SÃO PAULO, None (FOLHAPRESS) - O Brasil ainda tem o equivalente a 49 milhões de habitantes sem atendimento adequado de esgotamento sanitário e 4,8 milhões de pessoas sem água encanada, apesar do crescimento desses serviços nas últimas décadas. É o que apontam novos dados do Censo Demográfico 2022 divulgados nesta sexta-feira (23) pelo IBGE (Instituto Brasileiro de Geografia e Estatística). No caso do esgotamento sanitário, 62,5% da população vivia em domicílios conectados à rede de coleta em 2022. Outros 13,2% estavam em endereços que usavam fossa séptica ou fossa-filtro como solução individual. De acordo com o IBGE, as duas categorias são consideradas adequadas pelo Plansab (Plano Nacional de Saneamento Básico). Expand article logo  Continuar lendo Assim, a população atendida por rede de esgoto ou fossa séptica chegou a 75,7%, na soma, em 2022 o equivalente a 153,1 milhões de pessoas. O percentual subiu em relação aos recenseamentos anteriores era de 64,5% em 2010 e de 59,2% em 2000. Apesar da alta, o país ainda registrou, em 2022, o equivalente a 24,3% da população em domicílios com opções de esgotamento sanitário \"mais precárias\", incluindo fossa rudimentar ou buraco, vala, rio, lago, córrego ou mar, diz o IBGE.'"
      ]
    },
    {
      "cell_type": "code",
      "execution_count": 11,
      "metadata": {
        "id": "92y1syWEQjwf",
        "colab": {
          "base_uri": "https://localhost:8080/"
        },
        "outputId": "16e577f2-8d37-4c5f-a1ca-56a0e9226ff8"
      },
      "outputs": [
        {
          "output_type": "execute_result",
          "data": {
            "text/plain": [
              "[(',', 16),\n",
              " ('de', 11),\n",
              " ('em', 9),\n",
              " ('.', 8),\n",
              " ('o', 6),\n",
              " ('%', 6),\n",
              " ('a', 5),\n",
              " ('(', 4),\n",
              " (')', 4),\n",
              " ('2022', 4)]"
            ]
          },
          "metadata": {},
          "execution_count": 11
        }
      ],
      "source": [
        "tokens = nltk.word_tokenize(text2)\n",
        "freq = nltk.FreqDist(tokens)\n",
        "\n",
        "freq.most_common()[:10]"
      ]
    },
    {
      "cell_type": "markdown",
      "metadata": {
        "id": "5mC_Yj4GRjk-"
      },
      "source": [
        "> Excluindo pontuação"
      ]
    },
    {
      "cell_type": "code",
      "execution_count": 12,
      "metadata": {
        "id": "hTmaMKJgRekM",
        "colab": {
          "base_uri": "https://localhost:8080/"
        },
        "outputId": "313a8d48-9a37-4f88-d684-4c5d63dc87b6"
      },
      "outputs": [
        {
          "output_type": "execute_result",
          "data": {
            "text/plain": [
              "[('de', 11),\n",
              " ('em', 9),\n",
              " ('o', 7),\n",
              " ('a', 5),\n",
              " ('fossa', 4),\n",
              " ('ou', 4),\n",
              " ('equivalente', 3),\n",
              " ('milhões', 3),\n",
              " ('esgotamento', 3),\n",
              " ('sanitário', 3)]"
            ]
          },
          "metadata": {},
          "execution_count": 12
        }
      ],
      "source": [
        "tokenizer = RegexpTokenizer(r'[A-z]\\w*')\n",
        "tokens = tokenizer.tokenize(text2)\n",
        "\n",
        "freq = nltk.FreqDist(tokens)\n",
        "freq.most_common()[:10]"
      ]
    },
    {
      "cell_type": "markdown",
      "metadata": {
        "id": "lxDDhA9aXMTJ"
      },
      "source": [
        "# Acessando córpus externos\n",
        "\n",
        "Podemos acessar nossos arquivos que estão no Google Drive apenas \"montando\" nosso drive no ícone na barra à esquerda.\n",
        "\n",
        "Para acessar o conteúdo do arquivo, devemos usar a função *open()* que está embutida no python. Essa função retorna o arquivo no formato que o python entende. Para lermos o seu conteúdo devemos usar a função *read()*.\n",
        "\n",
        "---\n",
        "\n",
        "### Corpus Teste (CT)\n",
        "- `R` : Read\n",
        "- `W` : Writye\n",
        "- `X` : Execute"
      ]
    },
    {
      "cell_type": "code",
      "execution_count": 13,
      "metadata": {
        "id": "O-z-43SAPkz9",
        "colab": {
          "base_uri": "https://localhost:8080/",
          "height": 140
        },
        "outputId": "186e0391-905d-41e8-da2e-2d779b52b824"
      },
      "outputs": [
        {
          "output_type": "execute_result",
          "data": {
            "text/plain": [
              "'Giants batem os Patriots no Super Bowl XLII\\r\\nAzarões acabam com a invencibilidade de New England e ficam com o título da temporada\\r\\n04/02/2008 - 01h07m - Atualizado em 04/02/2008 - 09h49m\\r\\n\\r\\nCom um passe de Eli Manning para Plaxico Burress a 39 segundos do fim, o New York Giants anotou o touchdown decisivo e derrubou o favorito New England Patriots por 17 a 14 neste domingo, em Glendale, no Super Bowl XLII. O resultado, uma das maiores zebras da história do Super Bowl, acabou com a temporada perfeita de Tom Brady e companhia, que esperavam fazer história ao levantar o troféu da NFL sem sofrer uma derrota no ano. \\r\\n\\r\\nA vitória dos Giants, porém, também ficará para a história. Pela primeira vez, irmãos quarterbacks triunfam no Super Bowl em temporadas consecutivas. No ano passado, Peyton Manning, irmão de Eli, chegou ao título máximo da NFL pelo Indianapolis Colts.\\r\\n\\r\\nA partida\\r\\n\\r\\nOs Giants começaram com a posse de bola, e mostraram logo que iriam alongar ao máximo suas posses de bola. Misturando corridas com Brandon Jacobs e passes curtos, o time de Nova York chegou à red zone logo na primeira campanha. O avanço, no entanto, parou na linha de 17 jardas e Lawrence Tynes converteu o field goal de 32 jardas para abrir o placar.\\r\\n\\r\\nEli Manning e companhia ficaram 9m54s com a bola, mas o ataque dos Patriots não entrou em campo frio. Logo no retorno do kickoff, o running back Laurence Maroney avançou 43 jardas, deixando Tom Brady em boa posição. Com passes curtos, os Patriots chegaram à linha de 17 jardas e, graças a uma penalidade (interferência de passe) do linebacker Antonio Pierce, alcançaram a linha de uma jarda. Maroney avançou pelo chão e anotou o primeiro touchdown do jogo.\\r\\n\\r\\nOs Giants pareciam rumo à virada na campanha seguinte. Manning achou Amani Toomer para um avanço de 38 jardas, e o time de Nova York entrou novamente na red zone. Com a bola na linha de 14 jardas dos Patriots, os Giants sofreram um revés. Manning passou para Steve Smith, que soltou a bola. Ellis Hobbs aproveitou, tomou a posse para os Patriots, e avançou 23 jardas. \\r\\n\\r\\nA defesa de Nova York manteve o jogo equilibrado. Com dois sacks seguidos, os Giants forçaram o punt e recuperaram a bola. Mas a campanha seguinte provou ser outra decepção para Nova York. O time chegou à linha de 25 jardas, mas Manning sofreu um sack e cometeu um fumble, e o ataque voltou para a linha de 39 jardas, não conseguindo pontuar mais uma vez.\\r\\n\\r\\nOs Patriots tiveram uma última chance de marcar antes do intervalo, mas, a 22 segundos do fim do segundo período, Brady foi novamente sacado. Desta vez, ele cometeu o fumble e os Giants tomaram a posse de bola. Manning tentou um passe longo, de 50 jardas, nos últimos segundos, mas não teve sucesso. \\r\\n\\r\\nO jogo continuou amarrado no terceiro quarto, com as defesas levando a melhor sobre os ataques. A única chance de pontuar do período foi dos Patriots, que chegaram à linha de 31 jardas dos Giants. O técnico Bill Bellichick, porém, optou por uma quarta descida em vez de um field goal. Brady tentou um passe para Jabar Gaffney, mas não conseguiu completar.\\r\\n\\r\\nO último período começou arrasador para os Giants. na primeira jogada, Manning achou o tight end Kevin Boss, para um incrível avanço de 45 jardas, que deixou o time na linha de 35 dos Patriots. Outro lançamento, desta vez para Steve Smith, marcou o avanço até a linha de 12 jardas. Duas jogadas depois, David Tyree pegou um passe de cinco jardas na end zone para anotar o touchdown e virar o jogo.\\r\\n\\r\\nNa hora da decisão, o ataque dos Patriots voltou a funcionar. Com uma série de passes curtos e variados, Brady achou Wes Welker, Randy Moss e Kevin Faulk seguidas vezes até chegar à red zone. A 2m45s do fim, o quarterback conectou mais uma vez com Moss, que se desmarcou e ficou livre na lateral direita da end zone.\\r\\n\\r\\nQuando os fãs de New England já comemoravam a vitória, o inesperado aconteceu. Em uma jogada incrível, Eli Manning se soltou de dois marcadores que o seguravam pela camisa e, na corrida, lançou para Amani Toomer. O wide receiver, bem marcado, saltou e conseguiu a fazer recepção para um avanço de 32 jardas, deixando os Giants na linha de 24 de New England.\\r\\n\\r\\nQuatro jogadas depois, a 39 segundos do fim, Manning achou Plaxico Burress na end zone para conseguir o touchdown do título.'"
            ],
            "application/vnd.google.colaboratory.intrinsic+json": {
              "type": "string"
            }
          },
          "metadata": {},
          "execution_count": 13
        }
      ],
      "source": [
        "# ct = open('/content/corpus_teste.txt').read()\n",
        "\n",
        "# Abrindo o arquivo da Web (preguiça de fazer o download)\n",
        "import requests\n",
        "\n",
        "link = 'https://raw.githubusercontent.com/gabrielluizone/NLProcessing/main/02%20%E2%80%A2%20NLTK/Aula%203%20-%20NLTK%20-%20dados%20corpus_teste/corpus_teste.txt'\n",
        "ct = requests.get(link).text\n",
        "\n",
        "ct"
      ]
    },
    {
      "cell_type": "code",
      "execution_count": 14,
      "metadata": {
        "id": "blI1wPAVXRrR",
        "colab": {
          "base_uri": "https://localhost:8080/"
        },
        "outputId": "ddc89579-8713-461f-b336-9df652d2daa2"
      },
      "outputs": [
        {
          "output_type": "execute_result",
          "data": {
            "text/plain": [
              "['Giants', 'batem', 'os', 'Patriots', 'no']"
            ]
          },
          "metadata": {},
          "execution_count": 14
        }
      ],
      "source": [
        "from nltk.tokenize import RegexpTokenizer\n",
        "\n",
        "# Tokenizar e calcular a frequência de nosso corpus inteiro\n",
        "tokenizer = RegexpTokenizer(r'\\w+') # '[A-z]\\w*'\n",
        "\n",
        "tokens = tokenizer.tokenize(ct)\n",
        "tokens[:5]"
      ]
    },
    {
      "cell_type": "code",
      "execution_count": 15,
      "metadata": {
        "id": "_upQs8x4c2QQ",
        "colab": {
          "base_uri": "https://localhost:8080/"
        },
        "outputId": "97f3ebfd-5350-4dd1-b95f-1d6b1d1e73c6"
      },
      "outputs": [
        {
          "output_type": "execute_result",
          "data": {
            "text/plain": [
              "[('de', 34),\n",
              " ('o', 26),\n",
              " ('a', 23),\n",
              " ('e', 21),\n",
              " ('para', 16),\n",
              " ('jardas', 15),\n",
              " ('do', 12)]"
            ]
          },
          "metadata": {},
          "execution_count": 15
        }
      ],
      "source": [
        "nltk.FreqDist(tokens).most_common()[:7]"
      ]
    },
    {
      "cell_type": "code",
      "execution_count": 16,
      "metadata": {
        "id": "T1CinZrOe9hI",
        "colab": {
          "base_uri": "https://localhost:8080/"
        },
        "outputId": "9b15d8d3-ccc3-4c0d-bdec-a7acb28a10c3"
      },
      "outputs": [
        {
          "output_type": "execute_result",
          "data": {
            "text/plain": [
              "[('de', 34),\n",
              " ('o', 26),\n",
              " ('a', 23),\n",
              " ('e', 21),\n",
              " ('para', 16),\n",
              " ('jardas', 15),\n",
              " ('do', 12)]"
            ]
          },
          "metadata": {},
          "execution_count": 16
        }
      ],
      "source": [
        "tokenizer = RegexpTokenizer(r'[A-z]\\w*')\n",
        "tokens = tokenizer.tokenize(ct)\n",
        "\n",
        "# Lista com tokens convertidos para maiusculo\n",
        "nv_lista = []\n",
        "\n",
        "for token in tokens: nv_lista.append(token)\n",
        "\n",
        "freq2 = nltk.FreqDist(nv_lista)\n",
        "freq2.most_common()[:7]"
      ]
    },
    {
      "cell_type": "markdown",
      "metadata": {
        "id": "LXTQzmF9ge8h"
      },
      "source": [
        "> Tokens não interessantes (**StopWords**)"
      ]
    },
    {
      "cell_type": "code",
      "execution_count": 17,
      "metadata": {
        "id": "TEEoWV0Sgnmy",
        "colab": {
          "base_uri": "https://localhost:8080/"
        },
        "outputId": "91ea04c8-5a03-4fb1-8164-cd6a058b2072"
      },
      "outputs": [
        {
          "output_type": "execute_result",
          "data": {
            "text/plain": [
              "['a', 'à', 'ao', 'aos', 'aquela', 'aquelas', 'aquele']"
            ]
          },
          "metadata": {},
          "execution_count": 17
        }
      ],
      "source": [
        "# Acessando a lista de StopWords do NLTK para PT-BR\n",
        "stopwords = nltk.corpus.stopwords.words('portuguese')\n",
        "stopwords[:7]"
      ]
    },
    {
      "cell_type": "markdown",
      "metadata": {
        "id": "89pf4XTzF6ok"
      },
      "source": [
        "# Agrupando minúsculas e maiúsculas\n",
        "\n",
        "Nas células anteriores percebemos que alguns tokens estão com o texto em maiúsculas e outros em minúsculas. O python considera que são tokens diferentes apenas por conter letras com \"caixa\" diferente. Portanto, precisamos agrupar todas as palavras que sabemos que são a mesma coisa. O modo mais simples é converter todas para minúsculas ou maiúsculas.\n",
        "\n",
        "Vimos que podemos modificar uma string para minúsculas ou maiúsculas apenas usando as funções *.lower()* ou *.upper()*, respectivamente."
      ]
    },
    {
      "cell_type": "code",
      "execution_count": 18,
      "metadata": {
        "id": "qbejoQTLigWw",
        "colab": {
          "base_uri": "https://localhost:8080/"
        },
        "outputId": "2276cc1d-8e58-4dc5-a7c4-3edf0bf0cd77"
      },
      "outputs": [
        {
          "output_type": "execute_result",
          "data": {
            "text/plain": [
              "[('jardas', 15),\n",
              " ('giants', 11),\n",
              " ('patriots', 10),\n",
              " ('manning', 10),\n",
              " ('linha', 10),\n",
              " ('bola', 7),\n",
              " ('vez', 6)]"
            ]
          },
          "metadata": {},
          "execution_count": 18
        }
      ],
      "source": [
        "tokenizer = RegexpTokenizer(r'[A-z]\\w*')\n",
        "tokens = tokenizer.tokenize(ct)\n",
        "\n",
        "# Lista com tokens convertidos para maiusculo\n",
        "nv_lista = []\n",
        "\n",
        "# Deixar em minusculo\n",
        "for token in tokens:\n",
        "  if token.lower() not in stopwords:\n",
        "    nv_lista.append(token.lower())\n",
        "\n",
        "freq2 = nltk.FreqDist(nv_lista)\n",
        "freq2.most_common()[:7]"
      ]
    },
    {
      "cell_type": "code",
      "execution_count": 18,
      "metadata": {
        "id": "79gJU5b5igJ7"
      },
      "outputs": [],
      "source": []
    },
    {
      "cell_type": "code",
      "execution_count": 19,
      "metadata": {
        "id": "GkHFm0QcjO-P",
        "colab": {
          "base_uri": "https://localhost:8080/"
        },
        "outputId": "e0bf310b-5c00-4565-dc32-72b0b3ba4dfc"
      },
      "outputs": [
        {
          "output_type": "execute_result",
          "data": {
            "text/plain": [
              "['giants',\n",
              " 'batem',\n",
              " 'patriots',\n",
              " 'super',\n",
              " 'bowl',\n",
              " 'xlii',\n",
              " 'azarões',\n",
              " 'acabam',\n",
              " 'invencibilidade',\n",
              " 'new',\n",
              " 'england',\n",
              " 'ficam',\n",
              " 'título',\n",
              " 'temporada',\n",
              " 'h07m',\n",
              " 'atualizado',\n",
              " 'h49m',\n",
              " 'passe',\n",
              " 'eli',\n",
              " 'manning',\n",
              " 'plaxico',\n",
              " 'burress',\n",
              " 'segundos',\n",
              " 'fim',\n",
              " 'new',\n",
              " 'york',\n",
              " 'giants',\n",
              " 'anotou',\n",
              " 'touchdown',\n",
              " 'decisivo',\n",
              " 'derrubou',\n",
              " 'favorito',\n",
              " 'new',\n",
              " 'england',\n",
              " 'patriots',\n",
              " 'neste',\n",
              " 'domingo',\n",
              " 'glendale',\n",
              " 'super',\n",
              " 'bowl',\n",
              " 'xlii',\n",
              " 'resultado',\n",
              " 'maiores',\n",
              " 'zebras',\n",
              " 'história',\n",
              " 'super',\n",
              " 'bowl',\n",
              " 'acabou',\n",
              " 'temporada',\n",
              " 'perfeita',\n",
              " 'tom',\n",
              " 'brady',\n",
              " 'companhia',\n",
              " 'esperavam',\n",
              " 'fazer',\n",
              " 'história',\n",
              " 'levantar',\n",
              " 'troféu',\n",
              " 'nfl',\n",
              " 'sofrer',\n",
              " 'derrota',\n",
              " 'ano',\n",
              " 'vitória',\n",
              " 'giants',\n",
              " 'porém',\n",
              " 'ficará',\n",
              " 'história',\n",
              " 'primeira',\n",
              " 'vez',\n",
              " 'irmãos',\n",
              " 'quarterbacks',\n",
              " 'triunfam',\n",
              " 'super',\n",
              " 'bowl',\n",
              " 'temporadas',\n",
              " 'consecutivas',\n",
              " 'ano',\n",
              " 'passado',\n",
              " 'peyton',\n",
              " 'manning',\n",
              " 'irmão',\n",
              " 'eli',\n",
              " 'chegou',\n",
              " 'título',\n",
              " 'máximo',\n",
              " 'nfl',\n",
              " 'indianapolis',\n",
              " 'colts',\n",
              " 'partida',\n",
              " 'giants',\n",
              " 'começaram',\n",
              " 'posse',\n",
              " 'bola',\n",
              " 'mostraram',\n",
              " 'logo',\n",
              " 'iriam',\n",
              " 'alongar',\n",
              " 'máximo',\n",
              " 'posses',\n",
              " 'bola',\n",
              " 'misturando',\n",
              " 'corridas',\n",
              " 'brandon',\n",
              " 'jacobs',\n",
              " 'passes',\n",
              " 'curtos',\n",
              " 'time',\n",
              " 'nova',\n",
              " 'york',\n",
              " 'chegou',\n",
              " 'red',\n",
              " 'zone',\n",
              " 'logo',\n",
              " 'primeira',\n",
              " 'campanha',\n",
              " 'avanço',\n",
              " 'entanto',\n",
              " 'parou',\n",
              " 'linha',\n",
              " 'jardas',\n",
              " 'lawrence',\n",
              " 'tynes',\n",
              " 'converteu',\n",
              " 'field',\n",
              " 'goal',\n",
              " 'jardas',\n",
              " 'abrir',\n",
              " 'placar',\n",
              " 'eli',\n",
              " 'manning',\n",
              " 'companhia',\n",
              " 'ficaram',\n",
              " 'm54s',\n",
              " 'bola',\n",
              " 'ataque',\n",
              " 'patriots',\n",
              " 'entrou',\n",
              " 'campo',\n",
              " 'frio',\n",
              " 'logo',\n",
              " 'retorno',\n",
              " 'kickoff',\n",
              " 'running',\n",
              " 'back',\n",
              " 'laurence',\n",
              " 'maroney',\n",
              " 'avançou',\n",
              " 'jardas',\n",
              " 'deixando',\n",
              " 'tom',\n",
              " 'brady',\n",
              " 'boa',\n",
              " 'posição',\n",
              " 'passes',\n",
              " 'curtos',\n",
              " 'patriots',\n",
              " 'chegaram',\n",
              " 'linha',\n",
              " 'jardas',\n",
              " 'graças',\n",
              " 'penalidade',\n",
              " 'interferência',\n",
              " 'passe',\n",
              " 'linebacker',\n",
              " 'antonio',\n",
              " 'pierce',\n",
              " 'alcançaram',\n",
              " 'linha',\n",
              " 'jarda',\n",
              " 'maroney',\n",
              " 'avançou',\n",
              " 'chão',\n",
              " 'anotou',\n",
              " 'primeiro',\n",
              " 'touchdown',\n",
              " 'jogo',\n",
              " 'giants',\n",
              " 'pareciam',\n",
              " 'rumo',\n",
              " 'virada',\n",
              " 'campanha',\n",
              " 'seguinte',\n",
              " 'manning',\n",
              " 'achou',\n",
              " 'amani',\n",
              " 'toomer',\n",
              " 'avanço',\n",
              " 'jardas',\n",
              " 'time',\n",
              " 'nova',\n",
              " 'york',\n",
              " 'entrou',\n",
              " 'novamente',\n",
              " 'red',\n",
              " 'zone',\n",
              " 'bola',\n",
              " 'linha',\n",
              " 'jardas',\n",
              " 'patriots',\n",
              " 'giants',\n",
              " 'sofreram',\n",
              " 'revés',\n",
              " 'manning',\n",
              " 'passou',\n",
              " 'steve',\n",
              " 'smith',\n",
              " 'soltou',\n",
              " 'bola',\n",
              " 'ellis',\n",
              " 'hobbs',\n",
              " 'aproveitou',\n",
              " 'tomou',\n",
              " 'posse',\n",
              " 'patriots',\n",
              " 'avançou',\n",
              " 'jardas',\n",
              " 'defesa',\n",
              " 'nova',\n",
              " 'york',\n",
              " 'manteve',\n",
              " 'jogo',\n",
              " 'equilibrado',\n",
              " 'dois',\n",
              " 'sacks',\n",
              " 'seguidos',\n",
              " 'giants',\n",
              " 'forçaram',\n",
              " 'punt',\n",
              " 'recuperaram',\n",
              " 'bola',\n",
              " 'campanha',\n",
              " 'seguinte',\n",
              " 'provou',\n",
              " 'outra',\n",
              " 'decepção',\n",
              " 'nova',\n",
              " 'york',\n",
              " 'time',\n",
              " 'chegou',\n",
              " 'linha',\n",
              " 'jardas',\n",
              " 'manning',\n",
              " 'sofreu',\n",
              " 'sack',\n",
              " 'cometeu',\n",
              " 'fumble',\n",
              " 'ataque',\n",
              " 'voltou',\n",
              " 'linha',\n",
              " 'jardas',\n",
              " 'conseguindo',\n",
              " 'pontuar',\n",
              " 'vez',\n",
              " 'patriots',\n",
              " 'ltima',\n",
              " 'chance',\n",
              " 'marcar',\n",
              " 'antes',\n",
              " 'intervalo',\n",
              " 'segundos',\n",
              " 'fim',\n",
              " 'segundo',\n",
              " 'período',\n",
              " 'brady',\n",
              " 'novamente',\n",
              " 'sacado',\n",
              " 'desta',\n",
              " 'vez',\n",
              " 'cometeu',\n",
              " 'fumble',\n",
              " 'giants',\n",
              " 'tomaram',\n",
              " 'posse',\n",
              " 'bola',\n",
              " 'manning',\n",
              " 'tentou',\n",
              " 'passe',\n",
              " 'longo',\n",
              " 'jardas',\n",
              " 'ltimos',\n",
              " 'segundos',\n",
              " 'sucesso',\n",
              " 'jogo',\n",
              " 'continuou',\n",
              " 'amarrado',\n",
              " 'terceiro',\n",
              " 'quarto',\n",
              " 'defesas',\n",
              " 'levando',\n",
              " 'melhor',\n",
              " 'sobre',\n",
              " 'ataques',\n",
              " 'nica',\n",
              " 'chance',\n",
              " 'pontuar',\n",
              " 'período',\n",
              " 'patriots',\n",
              " 'chegaram',\n",
              " 'linha',\n",
              " 'jardas',\n",
              " 'giants',\n",
              " 'técnico',\n",
              " 'bill',\n",
              " 'bellichick',\n",
              " 'porém',\n",
              " 'optou',\n",
              " 'quarta',\n",
              " 'descida',\n",
              " 'vez',\n",
              " 'field',\n",
              " 'goal',\n",
              " 'brady',\n",
              " 'tentou',\n",
              " 'passe',\n",
              " 'jabar',\n",
              " 'gaffney',\n",
              " 'conseguiu',\n",
              " 'completar',\n",
              " 'ltimo',\n",
              " 'período',\n",
              " 'começou',\n",
              " 'arrasador',\n",
              " 'giants',\n",
              " 'primeira',\n",
              " 'jogada',\n",
              " 'manning',\n",
              " 'achou',\n",
              " 'tight',\n",
              " 'end',\n",
              " 'kevin',\n",
              " 'boss',\n",
              " 'incrível',\n",
              " 'avanço',\n",
              " 'jardas',\n",
              " 'deixou',\n",
              " 'time',\n",
              " 'linha',\n",
              " 'patriots',\n",
              " 'outro',\n",
              " 'lançamento',\n",
              " 'desta',\n",
              " 'vez',\n",
              " 'steve',\n",
              " 'smith',\n",
              " 'marcou',\n",
              " 'avanço',\n",
              " 'linha',\n",
              " 'jardas',\n",
              " 'duas',\n",
              " 'jogadas',\n",
              " 'david',\n",
              " 'tyree',\n",
              " 'pegou',\n",
              " 'passe',\n",
              " 'cinco',\n",
              " 'jardas',\n",
              " 'end',\n",
              " 'zone',\n",
              " 'anotar',\n",
              " 'touchdown',\n",
              " 'virar',\n",
              " 'jogo',\n",
              " 'hora',\n",
              " 'decisão',\n",
              " 'ataque',\n",
              " 'patriots',\n",
              " 'voltou',\n",
              " 'funcionar',\n",
              " 'série',\n",
              " 'passes',\n",
              " 'curtos',\n",
              " 'variados',\n",
              " 'brady',\n",
              " 'achou',\n",
              " 'wes',\n",
              " 'welker',\n",
              " 'randy',\n",
              " 'moss',\n",
              " 'kevin',\n",
              " 'faulk',\n",
              " 'seguidas',\n",
              " 'vezes',\n",
              " 'chegar',\n",
              " 'red',\n",
              " 'zone',\n",
              " 'm45s',\n",
              " 'fim',\n",
              " 'quarterback',\n",
              " 'conectou',\n",
              " 'vez',\n",
              " 'moss',\n",
              " 'desmarcou',\n",
              " 'ficou',\n",
              " 'livre',\n",
              " 'lateral',\n",
              " 'direita',\n",
              " 'end',\n",
              " 'zone',\n",
              " 'fãs',\n",
              " 'new',\n",
              " 'england',\n",
              " 'comemoravam',\n",
              " 'vitória',\n",
              " 'inesperado',\n",
              " 'aconteceu',\n",
              " 'jogada',\n",
              " 'incrível',\n",
              " 'eli',\n",
              " 'manning',\n",
              " 'soltou',\n",
              " 'dois',\n",
              " 'marcadores',\n",
              " 'seguravam',\n",
              " 'camisa',\n",
              " 'corrida',\n",
              " 'lançou',\n",
              " 'amani',\n",
              " 'toomer',\n",
              " 'wide',\n",
              " 'receiver',\n",
              " 'bem',\n",
              " 'marcado',\n",
              " 'saltou',\n",
              " 'conseguiu',\n",
              " 'fazer',\n",
              " 'recepção',\n",
              " 'avanço',\n",
              " 'jardas',\n",
              " 'deixando',\n",
              " 'giants',\n",
              " 'linha',\n",
              " 'new',\n",
              " 'england',\n",
              " 'quatro',\n",
              " 'jogadas',\n",
              " 'segundos',\n",
              " 'fim',\n",
              " 'manning',\n",
              " 'achou',\n",
              " 'plaxico',\n",
              " 'burress',\n",
              " 'end',\n",
              " 'zone',\n",
              " 'conseguir',\n",
              " 'touchdown',\n",
              " 'título']"
            ]
          },
          "metadata": {},
          "execution_count": 19
        }
      ],
      "source": [
        "# Com list Comprehension\n",
        "\n",
        "# [Ação feita para cada Token dentro de Tokens, se cada um não estiver nas stopwords]\n",
        "# Deixar em minusculo\n",
        "[token.lower() for token in tokens if token.lower() not in stopwords]"
      ]
    },
    {
      "cell_type": "markdown",
      "metadata": {
        "id": "44pfsrKzGLcp"
      },
      "source": [
        "# Tokens que não nos interessam\n",
        "\n",
        "Alguns tokens que são muito frequentes não ajudam na análise de um texto.\n",
        "Veja como exemplo a lista de tokens anterior, no topo da lista estão artigos, preposições e etc. No nosso caso não são interessantes.\n",
        "\n",
        "O NLTK possui uma lista de tokens considerados desinteressantes e que podem ser removidos de uma lista de tokens sem problemas. Em PLN os chamamos de *stopwords*.\n",
        "\n",
        "Para removê-los da nossa lista de tokens, precisamos comparar um a um com a lista de *stopwords*. Caso um token seja uma *stopword* o removeremos da lista de tokens."
      ]
    },
    {
      "cell_type": "code",
      "execution_count": 20,
      "metadata": {
        "id": "F1QzrSGtCJm8"
      },
      "outputs": [],
      "source": [
        "# Acessamos a lista de stopwords do NLTK, para a língua portuguesa\n",
        "stopwords = nltk.corpus.stopwords.words('portuguese')"
      ]
    },
    {
      "cell_type": "markdown",
      "metadata": {
        "id": "CcLSr1ZrHH4N"
      },
      "source": [
        "\n",
        "<div class=\"markdown-google-sans\">\n",
        "\n",
        "# **N-Grams**\n",
        "\n",
        "</div>\n",
        "\n",
        "> O $n$-gramas é uma sequência contígua de $n$ itens em um texto. Como Centro Paula Souza (CPS), New York Giantes"
      ]
    },
    {
      "cell_type": "code",
      "execution_count": 21,
      "metadata": {
        "id": "lcjNwP2pGT2T",
        "colab": {
          "base_uri": "https://localhost:8080/"
        },
        "outputId": "ae6b28ca-8e2a-4fd3-93af-6af5523bf7e4"
      },
      "outputs": [
        {
          "output_type": "stream",
          "name": "stdout",
          "text": [
            "Giants batem os Patriots no Super Bowl XLII\r\n",
            "Azarões acabam com a invencibilidade de New England e ficam com o título da temporada\r\n",
            "04/02/2008 - 01h07m - Atualizado em 04/02/2008 - 09h49m\r\n",
            "\r\n",
            "Com um passe de Eli Manning para Plaxico Burress a 39 segundos do fim, o New York Giants anotou o touchdown decisivo e derrubou o favorito New England Patriots por 17 a 14 neste domingo, em Glendale, no Super Bowl XLII. O resultado, uma das maiores zebras da história do Super Bowl, acabou com a temporada perfeita de Tom Brady e companhia, que esperavam fazer história ao levantar o troféu da NFL sem sofrer uma derrota no ano. \r\n",
            "\r\n",
            "A vitória dos Giants, porém, também ficará para a história. Pela primeira vez, irmãos quarterbacks triunfam no Super Bowl em temporadas consecutivas. No ano passado, Peyton Manning, irmão de Eli, chegou ao título máximo da NFL pelo Indianapolis Colts.\r\n",
            "\r\n",
            "A partida\r\n",
            "\r\n",
            "Os Giants começaram com a posse de bola, e mostraram logo que iriam alongar ao máximo suas posses de bola. Misturando corridas com Brandon Jacobs e passes curtos, o time de Nova York chegou à red zone logo na primeira campanha. O avanço, no entanto, parou na linha de 17 jardas e Lawrence Tynes converteu o field goal de 32 jardas para abrir o placar.\r\n",
            "\r\n",
            "Eli Manning e companhia ficaram 9m54s com a bola, mas o ataque dos Patriots não entrou em campo frio. Logo no retorno do kickoff, o running back Laurence Maroney avançou 43 jardas, deixando Tom Brady em boa posição. Com passes curtos, os Patriots chegaram à linha de 17 jardas e, graças a uma penalidade (interferência de passe) do linebacker Antonio Pierce, alcançaram a linha de uma jarda. Maroney avançou pelo chão e anotou o primeiro touchdown do jogo.\r\n",
            "\r\n",
            "Os Giants pareciam rumo à virada na campanha seguinte. Manning achou Amani Toomer para um avanço de 38 jardas, e o time de Nova York entrou novamente na red zone. Com a bola na linha de 14 jardas dos Patriots, os Giants sofreram um revés. Manning passou para Steve Smith, que soltou a bola. Ellis Hobbs aproveitou, tomou a posse para os Patriots, e avançou 23 jardas. \r\n",
            "\r\n",
            "A defesa de Nova York manteve o jogo equilibrado. Com dois sacks seguidos, os Giants forçaram o punt e recuperaram a bola. Mas a campanha seguinte provou ser outra decepção para Nova York. O time chegou à linha de 25 jardas, mas Manning sofreu um sack e cometeu um fumble, e o ataque voltou para a linha de 39 jardas, não conseguindo pontuar mais uma vez.\r\n",
            "\r\n",
            "Os Patriots tiveram uma última chance de marcar antes do intervalo, mas, a 22 segundos do fim do segundo período, Brady foi novamente sacado. Desta vez, ele cometeu o fumble e os Giants tomaram a posse de bola. Manning tentou um passe longo, de 50 jardas, nos últimos segundos, mas não teve sucesso. \r\n",
            "\r\n",
            "O jogo continuou amarrado no terceiro quarto, com as defesas levando a melhor sobre os ataques. A única chance de pontuar do período foi dos Patriots, que chegaram à linha de 31 jardas dos Giants. O técnico Bill Bellichick, porém, optou por uma quarta descida em vez de um field goal. Brady tentou um passe para Jabar Gaffney, mas não conseguiu completar.\r\n",
            "\r\n",
            "O último período começou arrasador para os Giants. na primeira jogada, Manning achou o tight end Kevin Boss, para um incrível avanço de 45 jardas, que deixou o time na linha de 35 dos Patriots. Outro lançamento, desta vez para Steve Smith, marcou o avanço até a linha de 12 jardas. Duas jogadas depois, David Tyree pegou um passe de cinco jardas na end zone para anotar o touchdown e virar o jogo.\r\n",
            "\r\n",
            "Na hora da decisão, o ataque dos Patriots voltou a funcionar. Com uma série de passes curtos e variados, Brady achou Wes Welker, Randy Moss e Kevin Faulk seguidas vezes até chegar à red zone. A 2m45s do fim, o quarterback conectou mais uma vez com Moss, que se desmarcou e ficou livre na lateral direita da end zone.\r\n",
            "\r\n",
            "Quando os fãs de New England já comemoravam a vitória, o inesperado aconteceu. Em uma jogada incrível, Eli Manning se soltou de dois marcadores que o seguravam pela camisa e, na corrida, lançou para Amani Toomer. O wide receiver, bem marcado, saltou e conseguiu a fazer recepção para um avanço de 32 jardas, deixando os Giants na linha de 24 de New England.\r\n",
            "\r\n",
            "Quatro jogadas depois, a 39 segundos do fim, Manning achou Plaxico Burress na end zone para conseguir o touchdown do título.\n"
          ]
        }
      ],
      "source": [
        "# Sem concatenar teríamos a seguinte construção\n",
        "#   infile = open('/content/drive/MyDrive/recursos/corpus_teste.txt')\n",
        "#   corpus = infile.read()\n",
        "\n",
        "# Abrindo o arquivo da Web (preguiça de fazer o download)\n",
        "import requests\n",
        "\n",
        "link = 'https://raw.githubusercontent.com/gabrielluizone/NLProcessing/main/02%20%E2%80%A2%20NLTK/Aula%203%20-%20NLTK%20-%20dados%20corpus_teste/corpus_teste.txt'\n",
        "corpus = requests.get(link).text\n",
        "print(corpus)"
      ]
    },
    {
      "cell_type": "code",
      "execution_count": 22,
      "metadata": {
        "id": "PnmKcAs6KgXm"
      },
      "outputs": [],
      "source": [
        "from nltk import bigrams\n",
        "from nltk import trigrams\n",
        "from nltk import ngrams"
      ]
    },
    {
      "cell_type": "code",
      "execution_count": 24,
      "metadata": {
        "id": "uizveFwfKk1P"
      },
      "outputs": [],
      "source": [
        "tokens = nltk.word_tokenize(corpus)\n",
        "bigramas = list(bigrams(tokens))\n",
        "trigramas = list(trigrams(tokens))\n",
        "ngramas = list(ngrams(tokens, 4))"
      ]
    },
    {
      "cell_type": "markdown",
      "metadata": {
        "id": "3HrLQbZIKzae"
      },
      "source": [
        "<div class=\"markdown-google-sans\">\n",
        "\n",
        "# **Reconhecer Entidades Nomeadas**\n",
        "\n",
        "</div>"
      ]
    },
    {
      "cell_type": "code",
      "execution_count": 25,
      "metadata": {
        "id": "TGz4BRNTK_KD",
        "colab": {
          "base_uri": "https://localhost:8080/"
        },
        "outputId": "2e45b18d-4204-4bb1-be3f-2f95004e13be"
      },
      "outputs": [
        {
          "output_type": "stream",
          "name": "stdout",
          "text": [
            "('Super', 'Bowl', 'XLII')\n",
            "('Bowl', 'XLII', 'Azarões')\n",
            "('New', 'York', 'Giants')\n",
            "('New', 'England', 'Patriots')\n",
            "('Super', 'Bowl', 'XLII')\n"
          ]
        }
      ],
      "source": [
        "for trigrama in trigramas:\n",
        "  if trigrama[0][0].isupper() and trigrama[1][0].isupper() and trigrama[2][0].isupper():\n",
        "    print(trigrama)"
      ]
    },
    {
      "cell_type": "code",
      "execution_count": 26,
      "metadata": {
        "id": "f1fg4rZXMy_U",
        "colab": {
          "base_uri": "https://localhost:8080/"
        },
        "outputId": "031a4442-e2f4-47fd-c089-a457054df24b"
      },
      "outputs": [
        {
          "output_type": "execute_result",
          "data": {
            "text/plain": [
              "[('Super', 'Bowl'),\n",
              " ('Bowl', 'XLII'),\n",
              " ('XLII', 'Azarões'),\n",
              " ('New', 'England'),\n",
              " ('Eli', 'Manning'),\n",
              " ('Plaxico', 'Burress'),\n",
              " ('New', 'York'),\n",
              " ('York', 'Giants'),\n",
              " ('New', 'England'),\n",
              " ('England', 'Patriots'),\n",
              " ('Super', 'Bowl'),\n",
              " ('Bowl', 'XLII'),\n",
              " ('Super', 'Bowl'),\n",
              " ('Tom', 'Brady'),\n",
              " ('Super', 'Bowl'),\n",
              " ('Peyton', 'Manning'),\n",
              " ('Indianapolis', 'Colts'),\n",
              " ('Os', 'Giants'),\n",
              " ('Brandon', 'Jacobs'),\n",
              " ('Nova', 'York'),\n",
              " ('Lawrence', 'Tynes'),\n",
              " ('Eli', 'Manning'),\n",
              " ('Laurence', 'Maroney'),\n",
              " ('Tom', 'Brady'),\n",
              " ('Antonio', 'Pierce'),\n",
              " ('Os', 'Giants'),\n",
              " ('Amani', 'Toomer'),\n",
              " ('Nova', 'York'),\n",
              " ('Steve', 'Smith'),\n",
              " ('Ellis', 'Hobbs'),\n",
              " ('Nova', 'York'),\n",
              " ('Nova', 'York'),\n",
              " ('Os', 'Patriots'),\n",
              " ('Bill', 'Bellichick'),\n",
              " ('Jabar', 'Gaffney'),\n",
              " ('Kevin', 'Boss'),\n",
              " ('Steve', 'Smith'),\n",
              " ('David', 'Tyree'),\n",
              " ('Wes', 'Welker'),\n",
              " ('Randy', 'Moss'),\n",
              " ('Kevin', 'Faulk'),\n",
              " ('New', 'England'),\n",
              " ('Eli', 'Manning'),\n",
              " ('Amani', 'Toomer'),\n",
              " ('New', 'England'),\n",
              " ('Plaxico', 'Burress')]"
            ]
          },
          "metadata": {},
          "execution_count": 26
        }
      ],
      "source": [
        "[bigrama for bigrama in bigramas if bigrama[0][0].isupper() and bigrama[1][0].isupper()]"
      ]
    },
    {
      "cell_type": "markdown",
      "metadata": {
        "id": "cTLmBt00QXsO"
      },
      "source": [
        "<div class=\"markdown-google-sans\">\n",
        "\n",
        "# **Streamming e Lematização**\n",
        "\n",
        "</div>"
      ]
    },
    {
      "cell_type": "code",
      "execution_count": 27,
      "metadata": {
        "id": "By3BtfexNSK4"
      },
      "outputs": [],
      "source": [
        "stemmer = nltk.RSLPStemmer()"
      ]
    },
    {
      "cell_type": "code",
      "execution_count": 28,
      "metadata": {
        "id": "m2Iq-s3NQkzj",
        "colab": {
          "base_uri": "https://localhost:8080/"
        },
        "outputId": "4d43fce2-3823-4f93-b1b3-68ec73ddf72f"
      },
      "outputs": [
        {
          "output_type": "stream",
          "name": "stdout",
          "text": [
            "amig\n",
            "amig\n",
            "cas\n",
            "cas\n",
            "esquimó\n",
            "esqui\n",
            "propus\n",
            "propu\n",
            "prop\n",
            "descriptograf\n",
            "criptograf\n",
            "criptograf\n",
            "criptograf\n",
            "divers\n",
            "divertid\n",
            "divers\n",
            "adivertens\n"
          ]
        }
      ],
      "source": [
        "p = ['Amigão', 'amigo', 'Casa', 'casamento',\n",
        "     'Esquimó', 'Esquiar', 'Propuseram', 'Propus',\n",
        "     'propondo', 'Descriptografar', 'Criptografando',\n",
        "     'Criptografia', 'criptografiamente', 'Diversão',\n",
        "     'Divertidamente', 'Diversos', 'Adivertensa']\n",
        "\n",
        "for palavra in p: print(stemmer.stem(palavra))"
      ]
    },
    {
      "cell_type": "markdown",
      "metadata": {
        "id": "00iK85Q5SPK1"
      },
      "source": [
        "<div class=\"markdown-google-sans\">\n",
        "\n",
        "# **Etiquetador**\n",
        "\n",
        "</div>"
      ]
    },
    {
      "cell_type": "code",
      "execution_count": 29,
      "metadata": {
        "id": "C_sg9j3cSKvw",
        "colab": {
          "base_uri": "https://localhost:8080/"
        },
        "outputId": "52a1131a-2fad-48ae-fb9b-a26f5d8fbf84"
      },
      "outputs": [
        {
          "output_type": "stream",
          "name": "stdout",
          "text": [
            "[('Giants', 'NPROP'), ('batem', 'V'), ('os', 'ART'), ('Patriots', None), ('no', 'KC'), ('Super', 'NPROP'), ('Bowl', 'NPROP'), ('XLII', None), ('Azarões', None), ('acabam', 'VAUX'), ('com', 'PREP'), ('a', 'ART'), ('invencibilidade', 'N'), ('de', 'PREP'), ('New', 'NPROP'), ('England', 'NPROP'), ('e', 'KC'), ('ficam', 'V'), ('com', 'PREP'), ('o', 'ART'), ('título', 'N'), ('da', 'NPROP'), ('temporada', 'N'), ('04/02/2008', None), ('-', '-'), ('01h07m', None), ('-', '-'), ('Atualizado', None), ('em', 'PREP|+'), ('04/02/2008', None), ('-', '-'), ('09h49m', None), ('Com', 'PREP'), ('um', 'ART'), ('passe', 'N'), ('de', 'PREP'), ('Eli', 'NPROP'), ('Manning', 'NPROP'), ('para', 'PREP'), ('Plaxico', None), ('Burress', None), ('a', 'ART'), ('39', 'NUM'), ('segundos', 'N'), ('do', 'NPROP'), ('fim', 'N'), (',', ','), ('o', 'ART'), ('New', 'NPROP'), ('York', 'NPROP'), ('Giants', 'NPROP'), ('anotou', 'V'), ('o', 'ART'), ('touchdown', 'N|EST'), ('decisivo', 'ADJ'), ('e', 'KC'), ('derrubou', 'V'), ('o', 'ART'), ('favorito', 'N'), ('New', 'NPROP'), ('England', 'NPROP'), ('Patriots', None), ('por', 'PREP|+'), ('17', 'NUM'), ('a', 'ART'), ('14', 'NUM'), ('neste', None), ('domingo', 'N'), (',', ','), ('em', 'PREP|+'), ('Glendale', None), (',', ','), ('no', 'KC'), ('Super', 'NPROP'), ('Bowl', 'NPROP'), ('XLII', None), ('.', '.'), ('O', 'ART'), ('resultado', 'N'), (',', ','), ('uma', 'ART'), ('das', 'NPROP'), ('maiores', 'ADJ'), ('zebras', None), ('da', 'NPROP'), ('história', 'N'), ('do', 'NPROP'), ('Super', 'NPROP'), ('Bowl', 'NPROP'), (',', ','), ('acabou', 'VAUX'), ('com', 'PREP'), ('a', 'ART'), ('temporada', 'N'), ('perfeita', 'ADJ'), ('de', 'PREP'), ('Tom', 'NPROP'), ('Brady', 'NPROP'), ('e', 'KC'), ('companhia', 'N'), (',', ','), ('que', 'PRO-KS-REL'), ('esperavam', 'V'), ('fazer', 'V'), ('história', 'N'), ('ao', 'PREP'), ('levantar', 'V'), ('o', 'ART'), ('troféu', 'N'), ('da', 'NPROP'), ('NFL', None), ('sem', 'PREP'), ('sofrer', 'V'), ('uma', 'ART'), ('derrota', 'N'), ('no', 'KC'), ('ano', 'N'), ('.', '.'), ('A', 'ART'), ('vitória', 'N'), ('dos', 'NPROP'), ('Giants', 'NPROP'), (',', ','), ('porém', 'KC'), (',', ','), ('também', 'PDEN'), ('ficará', 'V'), ('para', 'PREP'), ('a', 'ART'), ('história', 'N'), ('.', '.'), ('Pela', 'NPROP'), ('primeira', 'ADJ'), ('vez', 'N'), (',', ','), ('irmãos', 'N'), ('quarterbacks', None), ('triunfam', None), ('no', 'KC'), ('Super', 'NPROP'), ('Bowl', 'NPROP'), ('em', 'PREP|+'), ('temporadas', 'N'), ('consecutivas', 'ADJ'), ('.', '.'), ('No', 'KC'), ('ano', 'N'), ('passado', 'PCP'), (',', ','), ('Peyton', None), ('Manning', 'NPROP'), (',', ','), ('irmão', 'N'), ('de', 'PREP'), ('Eli', 'NPROP'), (',', ','), ('chegou', 'V'), ('ao', 'PREP'), ('título', 'N'), ('máximo', 'N'), ('da', 'NPROP'), ('NFL', None), ('pelo', 'PDEN'), ('Indianapolis', None), ('Colts', None), ('.', '.'), ('A', 'ART'), ('partida', 'N'), ('Os', 'ART'), ('Giants', 'NPROP'), ('começaram', 'VAUX'), ('com', 'PREP'), ('a', 'ART'), ('posse', 'N'), ('de', 'PREP'), ('bola', 'N'), (',', ','), ('e', 'KC'), ('mostraram', 'V'), ('logo', 'ADV'), ('que', 'PRO-KS-REL'), ('iriam', 'VAUX'), ('alongar', 'V'), ('ao', 'PREP'), ('máximo', 'N'), ('suas', 'PROADJ'), ('posses', 'N'), ('de', 'PREP'), ('bola', 'N'), ('.', '.'), ('Misturando', None), ('corridas', 'N'), ('com', 'PREP'), ('Brandon', None), ('Jacobs', 'NPROP'), ('e', 'KC'), ('passes', 'N'), ('curtos', 'ADJ'), (',', ','), ('o', 'ART'), ('time', 'N'), ('de', 'PREP'), ('Nova', 'NPROP'), ('York', 'NPROP'), ('chegou', 'V'), ('à', 'NPROP'), ('red', 'N|EST'), ('zone', None), ('logo', 'ADV'), ('na', 'NPROP'), ('primeira', 'ADJ'), ('campanha', 'N'), ('.', '.'), ('O', 'ART'), ('avanço', 'N'), (',', ','), ('no', 'KC'), ('entanto', 'KC'), (',', ','), ('parou', 'V'), ('na', 'NPROP'), ('linha', 'N'), ('de', 'PREP'), ('17', 'NUM'), ('jardas', 'N'), ('e', 'KC'), ('Lawrence', 'NPROP'), ('Tynes', None), ('converteu', 'V'), ('o', 'ART'), ('field', 'N|EST'), ('goal', 'N|EST'), ('de', 'PREP'), ('32', 'NUM'), ('jardas', 'N'), ('para', 'PREP'), ('abrir', 'V'), ('o', 'ART'), ('placar', 'N'), ('.', '.'), ('Eli', 'NPROP'), ('Manning', 'NPROP'), ('e', 'KC'), ('companhia', 'N'), ('ficaram', 'V'), ('9m54s', None), ('com', 'PREP'), ('a', 'ART'), ('bola', 'N'), (',', ','), ('mas', 'KC'), ('o', 'ART'), ('ataque', 'N'), ('dos', 'NPROP'), ('Patriots', None), ('não', 'ADV'), ('entrou', 'V'), ('em', 'PREP|+'), ('campo', 'N'), ('frio', 'N'), ('.', '.'), ('Logo', 'ADV'), ('no', 'KC'), ('retorno', 'N'), ('do', 'NPROP'), ('kickoff', None), (',', ','), ('o', 'ART'), ('running', 'N|EST'), ('back', 'N|EST'), ('Laurence', 'NPROP'), ('Maroney', None), ('avançou', 'V'), ('43', 'NUM'), ('jardas', 'N'), (',', ','), ('deixando', 'V'), ('Tom', 'NPROP'), ('Brady', 'NPROP'), ('em', 'PREP|+'), ('boa', 'ADJ'), ('posição', 'N'), ('.', '.'), ('Com', 'PREP'), ('passes', 'N'), ('curtos', 'ADJ'), (',', ','), ('os', 'ART'), ('Patriots', None), ('chegaram', 'V'), ('à', 'NPROP'), ('linha', 'N'), ('de', 'PREP'), ('17', 'NUM'), ('jardas', 'N'), ('e', 'KC'), (',', ','), ('graças', 'PREP|+'), ('a', 'ART'), ('uma', 'ART'), ('penalidade', None), ('(', '('), ('interferência', 'N'), ('de', 'PREP'), ('passe', 'N'), (')', ')'), ('do', 'NPROP'), ('linebacker', None), ('Antonio', 'NPROP'), ('Pierce', 'NPROP'), (',', ','), ('alcançaram', 'V'), ('a', 'ART'), ('linha', 'N'), ('de', 'PREP'), ('uma', 'ART'), ('jarda', None), ('.', '.'), ('Maroney', None), ('avançou', 'V'), ('pelo', 'PDEN'), ('chão', 'N'), ('e', 'KC'), ('anotou', 'V'), ('o', 'ART'), ('primeiro', 'ADJ'), ('touchdown', 'N|EST'), ('do', 'NPROP'), ('jogo', 'N'), ('.', '.'), ('Os', 'ART'), ('Giants', 'NPROP'), ('pareciam', 'V'), ('rumo', 'PREP|+'), ('à', 'NPROP'), ('virada', 'N'), ('na', 'NPROP'), ('campanha', 'N'), ('seguinte', 'ADJ'), ('.', '.'), ('Manning', 'NPROP'), ('achou', 'V'), ('Amani', None), ('Toomer', None), ('para', 'PREP'), ('um', 'ART'), ('avanço', 'N'), ('de', 'PREP'), ('38', 'NUM'), ('jardas', 'N'), (',', ','), ('e', 'KC'), ('o', 'ART'), ('time', 'N'), ('de', 'PREP'), ('Nova', 'NPROP'), ('York', 'NPROP'), ('entrou', 'V'), ('novamente', 'ADV'), ('na', 'NPROP'), ('red', 'N|EST'), ('zone', None), ('.', '.'), ('Com', 'PREP'), ('a', 'ART'), ('bola', 'N'), ('na', 'NPROP'), ('linha', 'N'), ('de', 'PREP'), ('14', 'NUM'), ('jardas', 'N'), ('dos', 'NPROP'), ('Patriots', None), (',', ','), ('os', 'ART'), ('Giants', 'NPROP'), ('sofreram', 'V'), ('um', 'ART'), ('revés', None), ('.', '.'), ('Manning', 'NPROP'), ('passou', 'V'), ('para', 'PREP'), ('Steve', 'NPROP'), ('Smith', 'NPROP'), (',', ','), ('que', 'PRO-KS-REL'), ('soltou', 'V'), ('a', 'ART'), ('bola', 'N'), ('.', '.'), ('Ellis', 'NPROP'), ('Hobbs', None), ('aproveitou', 'V'), (',', ','), ('tomou', 'V'), ('a', 'ART'), ('posse', 'N'), ('para', 'PREP'), ('os', 'ART'), ('Patriots', None), (',', ','), ('e', 'KC'), ('avançou', 'V'), ('23', 'NUM'), ('jardas', 'N'), ('.', '.'), ('A', 'ART'), ('defesa', 'N'), ('de', 'PREP'), ('Nova', 'NPROP'), ('York', 'NPROP'), ('manteve', 'V'), ('o', 'ART'), ('jogo', 'N'), ('equilibrado', 'PCP'), ('.', '.'), ('Com', 'PREP'), ('dois', 'NUM'), ('sacks', None), ('seguidos', 'PCP'), (',', ','), ('os', 'ART'), ('Giants', 'NPROP'), ('forçaram', 'V'), ('o', 'ART'), ('punt', None), ('e', 'KC'), ('recuperaram', None), ('a', 'ART'), ('bola', 'N'), ('.', '.'), ('Mas', 'KC'), ('a', 'ART'), ('campanha', 'N'), ('seguinte', 'ADJ'), ('provou', 'V'), ('ser', 'VAUX'), ('outra', 'PROADJ'), ('decepção', 'N'), ('para', 'PREP'), ('Nova', 'NPROP'), ('York', 'NPROP'), ('.', '.'), ('O', 'ART'), ('time', 'N'), ('chegou', 'V'), ('à', 'NPROP'), ('linha', 'N'), ('de', 'PREP'), ('25', 'NUM'), ('jardas', 'N'), (',', ','), ('mas', 'KC'), ('Manning', 'NPROP'), ('sofreu', 'V'), ('um', 'ART'), ('sack', None), ('e', 'KC'), ('cometeu', 'V'), ('um', 'ART'), ('fumble', 'N|EST'), (',', ','), ('e', 'KC'), ('o', 'ART'), ('ataque', 'N'), ('voltou', 'V'), ('para', 'PREP'), ('a', 'ART'), ('linha', 'N'), ('de', 'PREP'), ('39', 'NUM'), ('jardas', 'N'), (',', ','), ('não', 'ADV'), ('conseguindo', 'V'), ('pontuar', None), ('mais', 'ADV'), ('uma', 'ART'), ('vez', 'N'), ('.', '.'), ('Os', 'ART'), ('Patriots', None), ('tiveram', 'V'), ('uma', 'ART'), ('última', 'ADJ'), ('chance', 'N'), ('de', 'PREP'), ('marcar', 'V'), ('antes', 'ADV'), ('do', 'NPROP'), ('intervalo', 'N'), (',', ','), ('mas', 'KC'), (',', ','), ('a', 'ART'), ('22', 'NUM'), ('segundos', 'N'), ('do', 'NPROP'), ('fim', 'N'), ('do', 'NPROP'), ('segundo', 'PREP'), ('período', 'N'), (',', ','), ('Brady', 'NPROP'), ('foi', 'VAUX'), ('novamente', 'ADV'), ('sacado', 'PCP'), ('.', '.'), ('Desta', 'ADV'), ('vez', 'N'), (',', ','), ('ele', 'PROPESS'), ('cometeu', 'V'), ('o', 'ART'), ('fumble', 'N|EST'), ('e', 'KC'), ('os', 'ART'), ('Giants', 'NPROP'), ('tomaram', 'V'), ('a', 'ART'), ('posse', 'N'), ('de', 'PREP'), ('bola', 'N'), ('.', '.'), ('Manning', 'NPROP'), ('tentou', 'V'), ('um', 'ART'), ('passe', 'N'), ('longo', 'ADJ'), (',', ','), ('de', 'PREP'), ('50', 'NUM'), ('jardas', 'N'), (',', ','), ('nos', 'PROPESS'), ('últimos', 'ADJ'), ('segundos', 'N'), (',', ','), ('mas', 'KC'), ('não', 'ADV'), ('teve', 'V'), ('sucesso', 'N'), ('.', '.'), ('O', 'ART'), ('jogo', 'N'), ('continuou', 'V'), ('amarrado', 'PCP'), ('no', 'KC'), ('terceiro', 'ADJ'), ('quarto', 'N'), (',', ','), ('com', 'PREP'), ('as', 'ART'), ('defesas', 'N'), ('levando', 'V'), ('a', 'ART'), ('melhor', 'ADJ'), ('sobre', 'PREP'), ('os', 'ART'), ('ataques', 'N'), ('.', '.'), ('A', 'ART'), ('única', 'ADJ'), ('chance', 'N'), ('de', 'PREP'), ('pontuar', None), ('do', 'NPROP'), ('período', 'N'), ('foi', 'VAUX'), ('dos', 'NPROP'), ('Patriots', None), (',', ','), ('que', 'PRO-KS-REL'), ('chegaram', 'V'), ('à', 'NPROP'), ('linha', 'N'), ('de', 'PREP'), ('31', 'NUM'), ('jardas', 'N'), ('dos', 'NPROP'), ('Giants', 'NPROP'), ('.', '.'), ('O', 'ART'), ('técnico', 'N'), ('Bill', 'NPROP'), ('Bellichick', None), (',', ','), ('porém', 'KC'), (',', ','), ('optou', 'V'), ('por', 'PREP|+'), ('uma', 'ART'), ('quarta', 'N'), ('descida', 'N'), ('em', 'PREP|+'), ('vez', 'N'), ('de', 'PREP'), ('um', 'ART'), ('field', 'N|EST'), ('goal', 'N|EST'), ('.', '.'), ('Brady', 'NPROP'), ('tentou', 'V'), ('um', 'ART'), ('passe', 'N'), ('para', 'PREP'), ('Jabar', None), ('Gaffney', None), (',', ','), ('mas', 'KC'), ('não', 'ADV'), ('conseguiu', 'V'), ('completar', 'V'), ('.', '.'), ('O', 'ART'), ('último', 'ADJ'), ('período', 'N'), ('começou', 'VAUX'), ('arrasador', None), ('para', 'PREP'), ('os', 'ART'), ('Giants', 'NPROP'), ('.', '.'), ('na', 'NPROP'), ('primeira', 'ADJ'), ('jogada', 'N'), (',', ','), ('Manning', 'NPROP'), ('achou', 'V'), ('o', 'ART'), ('tight', None), ('end', None), ('Kevin', 'NPROP'), ('Boss', None), (',', ','), ('para', 'PREP'), ('um', 'ART'), ('incrível', 'ADJ'), ('avanço', 'N'), ('de', 'PREP'), ('45', 'NUM'), ('jardas', 'N'), (',', ','), ('que', 'PRO-KS-REL'), ('deixou', 'V'), ('o', 'ART'), ('time', 'N'), ('na', 'NPROP'), ('linha', 'N'), ('de', 'PREP'), ('35', 'NUM'), ('dos', 'NPROP'), ('Patriots', None), ('.', '.'), ('Outro', 'PROADJ'), ('lançamento', 'N'), (',', ','), ('desta', 'PROADJ'), ('vez', 'N'), ('para', 'PREP'), ('Steve', 'NPROP'), ('Smith', 'NPROP'), (',', ','), ('marcou', 'V'), ('o', 'ART'), ('avanço', 'N'), ('até', 'PREP'), ('a', 'ART'), ('linha', 'N'), ('de', 'PREP'), ('12', 'NUM'), ('jardas', 'N'), ('.', '.'), ('Duas', 'NUM'), ('jogadas', 'N'), ('depois', 'ADV'), (',', ','), ('David', 'NPROP'), ('Tyree', None), ('pegou', 'V'), ('um', 'ART'), ('passe', 'N'), ('de', 'PREP'), ('cinco', 'NUM'), ('jardas', 'N'), ('na', 'NPROP'), ('end', None), ('zone', None), ('para', 'PREP'), ('anotar', 'V'), ('o', 'ART'), ('touchdown', 'N|EST'), ('e', 'KC'), ('virar', 'V'), ('o', 'ART'), ('jogo', 'N'), ('.', '.'), ('Na', 'NPROP'), ('hora', 'N'), ('da', 'NPROP'), ('decisão', 'N'), (',', ','), ('o', 'ART'), ('ataque', 'N'), ('dos', 'NPROP'), ('Patriots', None), ('voltou', 'V'), ('a', 'ART'), ('funcionar', 'V'), ('.', '.'), ('Com', 'PREP'), ('uma', 'ART'), ('série', 'N'), ('de', 'PREP'), ('passes', 'N'), ('curtos', 'ADJ'), ('e', 'KC'), ('variados', 'PCP'), (',', ','), ('Brady', 'NPROP'), ('achou', 'V'), ('Wes', None), ('Welker', None), (',', ','), ('Randy', 'NPROP'), ('Moss', 'NPROP'), ('e', 'KC'), ('Kevin', 'NPROP'), ('Faulk', None), ('seguidas', 'PCP'), ('vezes', 'N'), ('até', 'PREP'), ('chegar', 'V'), ('à', 'NPROP'), ('red', 'N|EST'), ('zone', None), ('.', '.'), ('A', 'ART'), ('2m45s', None), ('do', 'NPROP'), ('fim', 'N'), (',', ','), ('o', 'ART'), ('quarterback', 'N|EST'), ('conectou', None), ('mais', 'ADV'), ('uma', 'ART'), ('vez', 'N'), ('com', 'PREP'), ('Moss', 'NPROP'), (',', ','), ('que', 'PRO-KS-REL'), ('se', 'PROPESS'), ('desmarcou', None), ('e', 'KC'), ('ficou', 'V'), ('livre', 'ADJ'), ('na', 'NPROP'), ('lateral', 'N'), ('direita', 'N'), ('da', 'NPROP'), ('end', None), ('zone', None), ('.', '.'), ('Quando', 'KS'), ('os', 'ART'), ('fãs', 'N'), ('de', 'PREP'), ('New', 'NPROP'), ('England', 'NPROP'), ('já', 'ADV'), ('comemoravam', 'V'), ('a', 'ART'), ('vitória', 'N'), (',', ','), ('o', 'ART'), ('inesperado', 'ADJ'), ('aconteceu', 'V'), ('.', '.'), ('Em', 'PREP|+'), ('uma', 'ART'), ('jogada', 'N'), ('incrível', 'ADJ'), (',', ','), ('Eli', 'NPROP'), ('Manning', 'NPROP'), ('se', 'PROPESS'), ('soltou', 'V'), ('de', 'PREP'), ('dois', 'NUM'), ('marcadores', 'N'), ('que', 'PRO-KS-REL'), ('o', 'ART'), ('seguravam', None), ('pela', 'NPROP'), ('camisa', 'N'), ('e', 'KC'), (',', ','), ('na', 'NPROP'), ('corrida', 'N'), (',', ','), ('lançou', 'V'), ('para', 'PREP'), ('Amani', None), ('Toomer', None), ('.', '.'), ('O', 'ART'), ('wide', 'N|EST'), ('receiver', None), (',', ','), ('bem', 'ADV'), ('marcado', 'PCP'), (',', ','), ('saltou', 'V'), ('e', 'KC'), ('conseguiu', 'V'), ('a', 'ART'), ('fazer', 'V'), ('recepção', 'N'), ('para', 'PREP'), ('um', 'ART'), ('avanço', 'N'), ('de', 'PREP'), ('32', 'NUM'), ('jardas', 'N'), (',', ','), ('deixando', 'V'), ('os', 'ART'), ('Giants', 'NPROP'), ('na', 'NPROP'), ('linha', 'N'), ('de', 'PREP'), ('24', 'NUM'), ('de', 'PREP'), ('New', 'NPROP'), ('England', 'NPROP'), ('.', '.'), ('Quatro', 'NUM'), ('jogadas', 'N'), ('depois', 'ADV'), (',', ','), ('a', 'ART'), ('39', 'NUM'), ('segundos', 'N'), ('do', 'NPROP'), ('fim', 'N'), (',', ','), ('Manning', 'NPROP'), ('achou', 'V'), ('Plaxico', None), ('Burress', None), ('na', 'NPROP'), ('end', None), ('zone', None), ('para', 'PREP'), ('conseguir', 'V'), ('o', 'ART'), ('touchdown', 'N|EST'), ('do', 'NPROP'), ('título', 'N'), ('.', '.')]\n"
          ]
        }
      ],
      "source": [
        "from nltk.corpus import mac_morpho\n",
        "from nltk.tag import UnigramTagger\n",
        "\n",
        "tokens = nltk.word_tokenize(corpus)\n",
        "\n",
        "sentencas_treino = mac_morpho.tagged_sents()\n",
        "etiquetador = UnigramTagger(sentencas_treino)\n",
        "\n",
        "etiquetado = etiquetador.tag(tokens)\n",
        "\n",
        "print(etiquetado)"
      ]
    },
    {
      "cell_type": "code",
      "source": [],
      "metadata": {
        "id": "vK4qY2ieIw96"
      },
      "execution_count": 29,
      "outputs": []
    }
  ],
  "metadata": {
    "colab": {
      "provenance": [],
      "authorship_tag": "ABX9TyOLOb7VW69mwEz75bAGJUP7",
      "include_colab_link": true
    },
    "kernelspec": {
      "display_name": "Python 3",
      "name": "python3"
    },
    "language_info": {
      "name": "python"
    }
  },
  "nbformat": 4,
  "nbformat_minor": 0
}